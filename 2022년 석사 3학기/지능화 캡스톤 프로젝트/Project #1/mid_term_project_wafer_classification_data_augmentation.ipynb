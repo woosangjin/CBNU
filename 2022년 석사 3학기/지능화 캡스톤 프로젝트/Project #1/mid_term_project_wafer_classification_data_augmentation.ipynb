{
 "cells": [
  {
   "cell_type": "markdown",
   "id": "eda6ee93",
   "metadata": {},
   "source": [
    "## 불균형 데이터셋에 대한 웨이퍼 불량식별을 위한 CNN\n",
    "- 데이터 전처리\n",
    "    - Data Augmentaion\n",
    "    - 불량 클래스\n",
    "        - Center\n",
    "        - Donut\n",
    "        - Local\n",
    "        - Edge-Loc\n",
    "        - Edge-Ring\n",
    "        - Scratch\n",
    "        - Random\n",
    "        - Near-Full\n",
    "        - None"
   ]
  },
  {
   "cell_type": "markdown",
   "id": "bf9d06ea",
   "metadata": {},
   "source": [
    "### 데이터 확인사항\n",
    "- waferMap 사이즈를 확인하여 추후 개발할 신경망 모델의 224x224 사이즈에 맞게 resizing 작업이 필요할 것으로 예상됨\n",
    "- augmentaion 작업과 resizing 작업이 한 번에 해결될 수 있도록 전처리하는 것이 좋을 듯"
   ]
  },
  {
   "cell_type": "code",
   "execution_count": 103,
   "id": "1dcb310a",
   "metadata": {
    "execution": {
     "iopub.execute_input": "2022-04-11T16:06:33.748474Z",
     "iopub.status.busy": "2022-04-11T16:06:33.748185Z",
     "iopub.status.idle": "2022-04-11T16:06:33.772620Z",
     "shell.execute_reply": "2022-04-11T16:06:33.772121Z",
     "shell.execute_reply.started": "2022-04-11T16:06:33.748474Z"
    },
    "tags": []
   },
   "outputs": [],
   "source": [
    "import numpy as np\n",
    "import pandas as pd\n",
    "import cv2\n",
    "import matplotlib.pyplot as plt\n",
    "import random\n",
    "import pickle\n",
    "import datetime\n",
    "import tensorflow as tf\n",
    "from sklearn.model_selection import train_test_split\n",
    "from tensorflow.keras import layers\n",
    "from tensorflow.keras import optimizers\n",
    "from tensorflow.keras.models import Model\n",
    "from tensorflow.keras.callbacks import ModelCheckpoint"
   ]
  },
  {
   "cell_type": "code",
   "execution_count": 2,
   "id": "bf4dd5b5",
   "metadata": {
    "execution": {
     "iopub.execute_input": "2022-04-11T15:17:07.500373Z",
     "iopub.status.busy": "2022-04-11T15:17:07.500373Z",
     "iopub.status.idle": "2022-04-11T15:18:38.933624Z",
     "shell.execute_reply": "2022-04-11T15:18:38.933624Z",
     "shell.execute_reply.started": "2022-04-11T15:17:07.500373Z"
    }
   },
   "outputs": [],
   "source": [
    "wm811k = pd.read_pickle('./data/LSWMD.pkl')"
   ]
  },
  {
   "cell_type": "code",
   "execution_count": 3,
   "id": "a6eadb75",
   "metadata": {
    "execution": {
     "iopub.execute_input": "2022-04-11T15:18:38.941610Z",
     "iopub.status.busy": "2022-04-11T15:18:38.941097Z",
     "iopub.status.idle": "2022-04-11T15:18:39.224408Z",
     "shell.execute_reply": "2022-04-11T15:18:39.224408Z",
     "shell.execute_reply.started": "2022-04-11T15:18:38.941610Z"
    }
   },
   "outputs": [
    {
     "data": {
      "text/html": [
       "<div>\n",
       "<style scoped>\n",
       "    .dataframe tbody tr th:only-of-type {\n",
       "        vertical-align: middle;\n",
       "    }\n",
       "\n",
       "    .dataframe tbody tr th {\n",
       "        vertical-align: top;\n",
       "    }\n",
       "\n",
       "    .dataframe thead th {\n",
       "        text-align: right;\n",
       "    }\n",
       "</style>\n",
       "<table border=\"1\" class=\"dataframe\">\n",
       "  <thead>\n",
       "    <tr style=\"text-align: right;\">\n",
       "      <th></th>\n",
       "      <th>waferMap</th>\n",
       "      <th>dieSize</th>\n",
       "      <th>lotName</th>\n",
       "      <th>waferIndex</th>\n",
       "      <th>trianTestLabel</th>\n",
       "      <th>failureType</th>\n",
       "    </tr>\n",
       "  </thead>\n",
       "  <tbody>\n",
       "    <tr>\n",
       "      <th>0</th>\n",
       "      <td>[[0, 0, 0, 0, 0, 0, 0, 0, 0, 0, 0, 0, 0, 0, 0,...</td>\n",
       "      <td>1683.0</td>\n",
       "      <td>lot1</td>\n",
       "      <td>1.0</td>\n",
       "      <td>[[Training]]</td>\n",
       "      <td>[[none]]</td>\n",
       "    </tr>\n",
       "    <tr>\n",
       "      <th>1</th>\n",
       "      <td>[[0, 0, 0, 0, 0, 0, 0, 0, 0, 0, 0, 0, 0, 0, 0,...</td>\n",
       "      <td>1683.0</td>\n",
       "      <td>lot1</td>\n",
       "      <td>2.0</td>\n",
       "      <td>[[Training]]</td>\n",
       "      <td>[[none]]</td>\n",
       "    </tr>\n",
       "    <tr>\n",
       "      <th>2</th>\n",
       "      <td>[[0, 0, 0, 0, 0, 0, 0, 0, 0, 0, 0, 0, 0, 0, 0,...</td>\n",
       "      <td>1683.0</td>\n",
       "      <td>lot1</td>\n",
       "      <td>3.0</td>\n",
       "      <td>[[Training]]</td>\n",
       "      <td>[[none]]</td>\n",
       "    </tr>\n",
       "    <tr>\n",
       "      <th>3</th>\n",
       "      <td>[[0, 0, 0, 0, 0, 0, 0, 0, 0, 0, 0, 0, 0, 0, 0,...</td>\n",
       "      <td>1683.0</td>\n",
       "      <td>lot1</td>\n",
       "      <td>4.0</td>\n",
       "      <td>[[Training]]</td>\n",
       "      <td>[[none]]</td>\n",
       "    </tr>\n",
       "    <tr>\n",
       "      <th>4</th>\n",
       "      <td>[[0, 0, 0, 0, 0, 0, 0, 0, 0, 0, 0, 0, 0, 0, 0,...</td>\n",
       "      <td>1683.0</td>\n",
       "      <td>lot1</td>\n",
       "      <td>5.0</td>\n",
       "      <td>[[Training]]</td>\n",
       "      <td>[[none]]</td>\n",
       "    </tr>\n",
       "  </tbody>\n",
       "</table>\n",
       "</div>"
      ],
      "text/plain": [
       "                                            waferMap  dieSize lotName  \\\n",
       "0  [[0, 0, 0, 0, 0, 0, 0, 0, 0, 0, 0, 0, 0, 0, 0,...   1683.0    lot1   \n",
       "1  [[0, 0, 0, 0, 0, 0, 0, 0, 0, 0, 0, 0, 0, 0, 0,...   1683.0    lot1   \n",
       "2  [[0, 0, 0, 0, 0, 0, 0, 0, 0, 0, 0, 0, 0, 0, 0,...   1683.0    lot1   \n",
       "3  [[0, 0, 0, 0, 0, 0, 0, 0, 0, 0, 0, 0, 0, 0, 0,...   1683.0    lot1   \n",
       "4  [[0, 0, 0, 0, 0, 0, 0, 0, 0, 0, 0, 0, 0, 0, 0,...   1683.0    lot1   \n",
       "\n",
       "   waferIndex trianTestLabel failureType  \n",
       "0         1.0   [[Training]]    [[none]]  \n",
       "1         2.0   [[Training]]    [[none]]  \n",
       "2         3.0   [[Training]]    [[none]]  \n",
       "3         4.0   [[Training]]    [[none]]  \n",
       "4         5.0   [[Training]]    [[none]]  "
      ]
     },
     "execution_count": 3,
     "metadata": {},
     "output_type": "execute_result"
    }
   ],
   "source": [
    "wm811k.head()"
   ]
  },
  {
   "cell_type": "code",
   "execution_count": 4,
   "id": "6dc15a7c",
   "metadata": {
    "execution": {
     "iopub.execute_input": "2022-04-11T15:18:39.226421Z",
     "iopub.status.busy": "2022-04-11T15:18:39.225417Z",
     "iopub.status.idle": "2022-04-11T15:18:39.485757Z",
     "shell.execute_reply": "2022-04-11T15:18:39.484594Z",
     "shell.execute_reply.started": "2022-04-11T15:18:39.226421Z"
    }
   },
   "outputs": [
    {
     "name": "stdout",
     "output_type": "stream",
     "text": [
      "<class 'pandas.core.frame.DataFrame'>\n",
      "RangeIndex: 811457 entries, 0 to 811456\n",
      "Data columns (total 6 columns):\n",
      " #   Column          Non-Null Count   Dtype  \n",
      "---  ------          --------------   -----  \n",
      " 0   waferMap        811457 non-null  object \n",
      " 1   dieSize         811457 non-null  float64\n",
      " 2   lotName         811457 non-null  object \n",
      " 3   waferIndex      811457 non-null  float64\n",
      " 4   trianTestLabel  811457 non-null  object \n",
      " 5   failureType     811457 non-null  object \n",
      "dtypes: float64(2), object(4)\n",
      "memory usage: 37.1+ MB\n"
     ]
    }
   ],
   "source": [
    "wm811k.info()"
   ]
  },
  {
   "cell_type": "code",
   "execution_count": 5,
   "id": "40253337",
   "metadata": {
    "execution": {
     "iopub.execute_input": "2022-04-11T15:18:39.487750Z",
     "iopub.status.busy": "2022-04-11T15:18:39.486683Z",
     "iopub.status.idle": "2022-04-11T15:18:39.867891Z",
     "shell.execute_reply": "2022-04-11T15:18:39.867390Z",
     "shell.execute_reply.started": "2022-04-11T15:18:39.487750Z"
    }
   },
   "outputs": [
    {
     "data": {
      "text/html": [
       "<div>\n",
       "<style scoped>\n",
       "    .dataframe tbody tr th:only-of-type {\n",
       "        vertical-align: middle;\n",
       "    }\n",
       "\n",
       "    .dataframe tbody tr th {\n",
       "        vertical-align: top;\n",
       "    }\n",
       "\n",
       "    .dataframe thead th {\n",
       "        text-align: right;\n",
       "    }\n",
       "</style>\n",
       "<table border=\"1\" class=\"dataframe\">\n",
       "  <thead>\n",
       "    <tr style=\"text-align: right;\">\n",
       "      <th></th>\n",
       "      <th>waferMap</th>\n",
       "      <th>dieSize</th>\n",
       "      <th>lotName</th>\n",
       "      <th>trianTestLabel</th>\n",
       "      <th>failureType</th>\n",
       "    </tr>\n",
       "  </thead>\n",
       "  <tbody>\n",
       "    <tr>\n",
       "      <th>0</th>\n",
       "      <td>[[0, 0, 0, 0, 0, 0, 0, 0, 0, 0, 0, 0, 0, 0, 0,...</td>\n",
       "      <td>1683.0</td>\n",
       "      <td>lot1</td>\n",
       "      <td>[[Training]]</td>\n",
       "      <td>[[none]]</td>\n",
       "    </tr>\n",
       "    <tr>\n",
       "      <th>1</th>\n",
       "      <td>[[0, 0, 0, 0, 0, 0, 0, 0, 0, 0, 0, 0, 0, 0, 0,...</td>\n",
       "      <td>1683.0</td>\n",
       "      <td>lot1</td>\n",
       "      <td>[[Training]]</td>\n",
       "      <td>[[none]]</td>\n",
       "    </tr>\n",
       "    <tr>\n",
       "      <th>2</th>\n",
       "      <td>[[0, 0, 0, 0, 0, 0, 0, 0, 0, 0, 0, 0, 0, 0, 0,...</td>\n",
       "      <td>1683.0</td>\n",
       "      <td>lot1</td>\n",
       "      <td>[[Training]]</td>\n",
       "      <td>[[none]]</td>\n",
       "    </tr>\n",
       "    <tr>\n",
       "      <th>3</th>\n",
       "      <td>[[0, 0, 0, 0, 0, 0, 0, 0, 0, 0, 0, 0, 0, 0, 0,...</td>\n",
       "      <td>1683.0</td>\n",
       "      <td>lot1</td>\n",
       "      <td>[[Training]]</td>\n",
       "      <td>[[none]]</td>\n",
       "    </tr>\n",
       "    <tr>\n",
       "      <th>4</th>\n",
       "      <td>[[0, 0, 0, 0, 0, 0, 0, 0, 0, 0, 0, 0, 0, 0, 0,...</td>\n",
       "      <td>1683.0</td>\n",
       "      <td>lot1</td>\n",
       "      <td>[[Training]]</td>\n",
       "      <td>[[none]]</td>\n",
       "    </tr>\n",
       "  </tbody>\n",
       "</table>\n",
       "</div>"
      ],
      "text/plain": [
       "                                            waferMap  dieSize lotName  \\\n",
       "0  [[0, 0, 0, 0, 0, 0, 0, 0, 0, 0, 0, 0, 0, 0, 0,...   1683.0    lot1   \n",
       "1  [[0, 0, 0, 0, 0, 0, 0, 0, 0, 0, 0, 0, 0, 0, 0,...   1683.0    lot1   \n",
       "2  [[0, 0, 0, 0, 0, 0, 0, 0, 0, 0, 0, 0, 0, 0, 0,...   1683.0    lot1   \n",
       "3  [[0, 0, 0, 0, 0, 0, 0, 0, 0, 0, 0, 0, 0, 0, 0,...   1683.0    lot1   \n",
       "4  [[0, 0, 0, 0, 0, 0, 0, 0, 0, 0, 0, 0, 0, 0, 0,...   1683.0    lot1   \n",
       "\n",
       "  trianTestLabel failureType  \n",
       "0   [[Training]]    [[none]]  \n",
       "1   [[Training]]    [[none]]  \n",
       "2   [[Training]]    [[none]]  \n",
       "3   [[Training]]    [[none]]  \n",
       "4   [[Training]]    [[none]]  "
      ]
     },
     "execution_count": 5,
     "metadata": {},
     "output_type": "execute_result"
    }
   ],
   "source": [
    "# 불필요 컬럼 제거\n",
    "wm811k = wm811k.drop(['waferIndex'], axis = 1)\n",
    "wm811k.head()"
   ]
  },
  {
   "cell_type": "code",
   "execution_count": 6,
   "id": "4dd05357",
   "metadata": {
    "execution": {
     "iopub.execute_input": "2022-04-11T15:18:39.869300Z",
     "iopub.status.busy": "2022-04-11T15:18:39.869300Z",
     "iopub.status.idle": "2022-04-11T15:18:39.882605Z",
     "shell.execute_reply": "2022-04-11T15:18:39.882103Z",
     "shell.execute_reply.started": "2022-04-11T15:18:39.869300Z"
    }
   },
   "outputs": [],
   "source": [
    "# wafermap size 확인 및 컬럼 추가\n",
    "def find_dim(x):\n",
    "    dim0=np.size(x,axis=0)\n",
    "    dim1=np.size(x,axis=1)\n",
    "    return dim0,dim1"
   ]
  },
  {
   "cell_type": "code",
   "execution_count": 7,
   "id": "49eba159",
   "metadata": {
    "execution": {
     "iopub.execute_input": "2022-04-11T15:18:39.883642Z",
     "iopub.status.busy": "2022-04-11T15:18:39.883642Z",
     "iopub.status.idle": "2022-04-11T15:18:42.279849Z",
     "shell.execute_reply": "2022-04-11T15:18:42.279849Z",
     "shell.execute_reply.started": "2022-04-11T15:18:39.883642Z"
    }
   },
   "outputs": [
    {
     "data": {
      "text/html": [
       "<div>\n",
       "<style scoped>\n",
       "    .dataframe tbody tr th:only-of-type {\n",
       "        vertical-align: middle;\n",
       "    }\n",
       "\n",
       "    .dataframe tbody tr th {\n",
       "        vertical-align: top;\n",
       "    }\n",
       "\n",
       "    .dataframe thead th {\n",
       "        text-align: right;\n",
       "    }\n",
       "</style>\n",
       "<table border=\"1\" class=\"dataframe\">\n",
       "  <thead>\n",
       "    <tr style=\"text-align: right;\">\n",
       "      <th></th>\n",
       "      <th>waferMap</th>\n",
       "      <th>dieSize</th>\n",
       "      <th>lotName</th>\n",
       "      <th>trianTestLabel</th>\n",
       "      <th>failureType</th>\n",
       "      <th>waferMapDim</th>\n",
       "    </tr>\n",
       "  </thead>\n",
       "  <tbody>\n",
       "    <tr>\n",
       "      <th>0</th>\n",
       "      <td>[[0, 0, 0, 0, 0, 0, 0, 0, 0, 0, 0, 0, 0, 0, 0,...</td>\n",
       "      <td>1683.0</td>\n",
       "      <td>lot1</td>\n",
       "      <td>[[Training]]</td>\n",
       "      <td>[[none]]</td>\n",
       "      <td>(45, 48)</td>\n",
       "    </tr>\n",
       "    <tr>\n",
       "      <th>1</th>\n",
       "      <td>[[0, 0, 0, 0, 0, 0, 0, 0, 0, 0, 0, 0, 0, 0, 0,...</td>\n",
       "      <td>1683.0</td>\n",
       "      <td>lot1</td>\n",
       "      <td>[[Training]]</td>\n",
       "      <td>[[none]]</td>\n",
       "      <td>(45, 48)</td>\n",
       "    </tr>\n",
       "    <tr>\n",
       "      <th>2</th>\n",
       "      <td>[[0, 0, 0, 0, 0, 0, 0, 0, 0, 0, 0, 0, 0, 0, 0,...</td>\n",
       "      <td>1683.0</td>\n",
       "      <td>lot1</td>\n",
       "      <td>[[Training]]</td>\n",
       "      <td>[[none]]</td>\n",
       "      <td>(45, 48)</td>\n",
       "    </tr>\n",
       "    <tr>\n",
       "      <th>3</th>\n",
       "      <td>[[0, 0, 0, 0, 0, 0, 0, 0, 0, 0, 0, 0, 0, 0, 0,...</td>\n",
       "      <td>1683.0</td>\n",
       "      <td>lot1</td>\n",
       "      <td>[[Training]]</td>\n",
       "      <td>[[none]]</td>\n",
       "      <td>(45, 48)</td>\n",
       "    </tr>\n",
       "    <tr>\n",
       "      <th>4</th>\n",
       "      <td>[[0, 0, 0, 0, 0, 0, 0, 0, 0, 0, 0, 0, 0, 0, 0,...</td>\n",
       "      <td>1683.0</td>\n",
       "      <td>lot1</td>\n",
       "      <td>[[Training]]</td>\n",
       "      <td>[[none]]</td>\n",
       "      <td>(45, 48)</td>\n",
       "    </tr>\n",
       "  </tbody>\n",
       "</table>\n",
       "</div>"
      ],
      "text/plain": [
       "                                            waferMap  dieSize lotName  \\\n",
       "0  [[0, 0, 0, 0, 0, 0, 0, 0, 0, 0, 0, 0, 0, 0, 0,...   1683.0    lot1   \n",
       "1  [[0, 0, 0, 0, 0, 0, 0, 0, 0, 0, 0, 0, 0, 0, 0,...   1683.0    lot1   \n",
       "2  [[0, 0, 0, 0, 0, 0, 0, 0, 0, 0, 0, 0, 0, 0, 0,...   1683.0    lot1   \n",
       "3  [[0, 0, 0, 0, 0, 0, 0, 0, 0, 0, 0, 0, 0, 0, 0,...   1683.0    lot1   \n",
       "4  [[0, 0, 0, 0, 0, 0, 0, 0, 0, 0, 0, 0, 0, 0, 0,...   1683.0    lot1   \n",
       "\n",
       "  trianTestLabel failureType waferMapDim  \n",
       "0   [[Training]]    [[none]]    (45, 48)  \n",
       "1   [[Training]]    [[none]]    (45, 48)  \n",
       "2   [[Training]]    [[none]]    (45, 48)  \n",
       "3   [[Training]]    [[none]]    (45, 48)  \n",
       "4   [[Training]]    [[none]]    (45, 48)  "
      ]
     },
     "execution_count": 7,
     "metadata": {},
     "output_type": "execute_result"
    }
   ],
   "source": [
    "wm811k['waferMapDim']=wm811k['waferMap'].apply(find_dim)\n",
    "wm811k.head()"
   ]
  },
  {
   "cell_type": "code",
   "execution_count": 8,
   "id": "e68a11a8",
   "metadata": {
    "execution": {
     "iopub.execute_input": "2022-04-11T15:18:42.281063Z",
     "iopub.status.busy": "2022-04-11T15:18:42.281063Z",
     "iopub.status.idle": "2022-04-11T15:19:06.032892Z",
     "shell.execute_reply": "2022-04-11T15:19:06.032892Z",
     "shell.execute_reply.started": "2022-04-11T15:18:42.281063Z"
    }
   },
   "outputs": [
    {
     "name": "stderr",
     "output_type": "stream",
     "text": [
      "C:\\Users\\kjt\\Anaconda3\\envs\\dlit\\lib\\site-packages\\pandas\\core\\array_algos\\replace.py:60: FutureWarning: elementwise comparison failed; returning scalar instead, but in the future will perform elementwise comparison\n",
      "  op = lambda x: operator.eq(x, b)\n"
     ]
    },
    {
     "data": {
      "text/html": [
       "<div>\n",
       "<style scoped>\n",
       "    .dataframe tbody tr th:only-of-type {\n",
       "        vertical-align: middle;\n",
       "    }\n",
       "\n",
       "    .dataframe tbody tr th {\n",
       "        vertical-align: top;\n",
       "    }\n",
       "\n",
       "    .dataframe thead th {\n",
       "        text-align: right;\n",
       "    }\n",
       "</style>\n",
       "<table border=\"1\" class=\"dataframe\">\n",
       "  <thead>\n",
       "    <tr style=\"text-align: right;\">\n",
       "      <th></th>\n",
       "      <th>waferMap</th>\n",
       "      <th>dieSize</th>\n",
       "      <th>lotName</th>\n",
       "      <th>trianTestLabel</th>\n",
       "      <th>failureType</th>\n",
       "      <th>waferMapDim</th>\n",
       "      <th>failureNum</th>\n",
       "      <th>trainTestNum</th>\n",
       "    </tr>\n",
       "  </thead>\n",
       "  <tbody>\n",
       "    <tr>\n",
       "      <th>0</th>\n",
       "      <td>[[0, 0, 0, 0, 0, 0, 0, 0, 0, 0, 0, 0, 0, 0, 0,...</td>\n",
       "      <td>1683.0</td>\n",
       "      <td>lot1</td>\n",
       "      <td>[[Training]]</td>\n",
       "      <td>[[none]]</td>\n",
       "      <td>(45, 48)</td>\n",
       "      <td>8</td>\n",
       "      <td>0</td>\n",
       "    </tr>\n",
       "    <tr>\n",
       "      <th>1</th>\n",
       "      <td>[[0, 0, 0, 0, 0, 0, 0, 0, 0, 0, 0, 0, 0, 0, 0,...</td>\n",
       "      <td>1683.0</td>\n",
       "      <td>lot1</td>\n",
       "      <td>[[Training]]</td>\n",
       "      <td>[[none]]</td>\n",
       "      <td>(45, 48)</td>\n",
       "      <td>8</td>\n",
       "      <td>0</td>\n",
       "    </tr>\n",
       "    <tr>\n",
       "      <th>2</th>\n",
       "      <td>[[0, 0, 0, 0, 0, 0, 0, 0, 0, 0, 0, 0, 0, 0, 0,...</td>\n",
       "      <td>1683.0</td>\n",
       "      <td>lot1</td>\n",
       "      <td>[[Training]]</td>\n",
       "      <td>[[none]]</td>\n",
       "      <td>(45, 48)</td>\n",
       "      <td>8</td>\n",
       "      <td>0</td>\n",
       "    </tr>\n",
       "    <tr>\n",
       "      <th>3</th>\n",
       "      <td>[[0, 0, 0, 0, 0, 0, 0, 0, 0, 0, 0, 0, 0, 0, 0,...</td>\n",
       "      <td>1683.0</td>\n",
       "      <td>lot1</td>\n",
       "      <td>[[Training]]</td>\n",
       "      <td>[[none]]</td>\n",
       "      <td>(45, 48)</td>\n",
       "      <td>8</td>\n",
       "      <td>0</td>\n",
       "    </tr>\n",
       "    <tr>\n",
       "      <th>4</th>\n",
       "      <td>[[0, 0, 0, 0, 0, 0, 0, 0, 0, 0, 0, 0, 0, 0, 0,...</td>\n",
       "      <td>1683.0</td>\n",
       "      <td>lot1</td>\n",
       "      <td>[[Training]]</td>\n",
       "      <td>[[none]]</td>\n",
       "      <td>(45, 48)</td>\n",
       "      <td>8</td>\n",
       "      <td>0</td>\n",
       "    </tr>\n",
       "  </tbody>\n",
       "</table>\n",
       "</div>"
      ],
      "text/plain": [
       "                                            waferMap  dieSize lotName  \\\n",
       "0  [[0, 0, 0, 0, 0, 0, 0, 0, 0, 0, 0, 0, 0, 0, 0,...   1683.0    lot1   \n",
       "1  [[0, 0, 0, 0, 0, 0, 0, 0, 0, 0, 0, 0, 0, 0, 0,...   1683.0    lot1   \n",
       "2  [[0, 0, 0, 0, 0, 0, 0, 0, 0, 0, 0, 0, 0, 0, 0,...   1683.0    lot1   \n",
       "3  [[0, 0, 0, 0, 0, 0, 0, 0, 0, 0, 0, 0, 0, 0, 0,...   1683.0    lot1   \n",
       "4  [[0, 0, 0, 0, 0, 0, 0, 0, 0, 0, 0, 0, 0, 0, 0,...   1683.0    lot1   \n",
       "\n",
       "  trianTestLabel failureType waferMapDim failureNum trainTestNum  \n",
       "0   [[Training]]    [[none]]    (45, 48)          8            0  \n",
       "1   [[Training]]    [[none]]    (45, 48)          8            0  \n",
       "2   [[Training]]    [[none]]    (45, 48)          8            0  \n",
       "3   [[Training]]    [[none]]    (45, 48)          8            0  \n",
       "4   [[Training]]    [[none]]    (45, 48)          8            0  "
      ]
     },
     "execution_count": 8,
     "metadata": {},
     "output_type": "execute_result"
    }
   ],
   "source": [
    "# 불량 클래스 확인 및 학습/검증/테스트 데이터 셋 확인\n",
    "wm811k['failureNum']=wm811k['failureType']\n",
    "wm811k['trainTestNum']=wm811k['trianTestLabel']\n",
    "mapping_type={'Center':0,'Donut':1,'Edge-Loc':2,'Edge-Ring':3,'Loc':4,'Random':5,'Scratch':6,'Near-full':7,'none':8}\n",
    "mapping_traintest={'Training':0,'Test':1}\n",
    "wm811k=wm811k.replace({'failureNum':mapping_type, 'trainTestNum':mapping_traintest})\n",
    "wm811k.head()"
   ]
  },
  {
   "cell_type": "code",
   "execution_count": 9,
   "id": "dc65ad84",
   "metadata": {
    "execution": {
     "iopub.execute_input": "2022-04-11T15:19:06.034088Z",
     "iopub.status.busy": "2022-04-11T15:19:06.034088Z",
     "iopub.status.idle": "2022-04-11T15:19:13.549376Z",
     "shell.execute_reply": "2022-04-11T15:19:13.549376Z",
     "shell.execute_reply.started": "2022-04-11T15:19:06.034088Z"
    }
   },
   "outputs": [
    {
     "data": {
      "text/plain": [
       "[]                638507\n",
       "[['Test']]        118595\n",
       "[['Training']]     54355\n",
       "Name: trianTestLabel, dtype: int64"
      ]
     },
     "execution_count": 9,
     "metadata": {},
     "output_type": "execute_result"
    }
   ],
   "source": [
    "wm811k['trianTestLabel'].apply(lambda x: str(x)).value_counts()"
   ]
  },
  {
   "cell_type": "code",
   "execution_count": 10,
   "id": "c14f67e4",
   "metadata": {
    "execution": {
     "iopub.execute_input": "2022-04-11T15:19:13.551741Z",
     "iopub.status.busy": "2022-04-11T15:19:13.550820Z",
     "iopub.status.idle": "2022-04-11T15:19:17.245085Z",
     "shell.execute_reply": "2022-04-11T15:19:17.244395Z",
     "shell.execute_reply.started": "2022-04-11T15:19:13.551741Z"
    }
   },
   "outputs": [
    {
     "data": {
      "text/plain": [
       "[]    638507\n",
       "1     118595\n",
       "0      54355\n",
       "Name: trainTestNum, dtype: int64"
      ]
     },
     "execution_count": 10,
     "metadata": {},
     "output_type": "execute_result"
    }
   ],
   "source": [
    "wm811k['trainTestNum'].apply(lambda x: str(x)).value_counts()"
   ]
  },
  {
   "cell_type": "code",
   "execution_count": 11,
   "id": "603a6a4b",
   "metadata": {
    "execution": {
     "iopub.execute_input": "2022-04-11T15:19:17.249323Z",
     "iopub.status.busy": "2022-04-11T15:19:17.248338Z",
     "iopub.status.idle": "2022-04-11T15:19:20.584831Z",
     "shell.execute_reply": "2022-04-11T15:19:20.584831Z",
     "shell.execute_reply.started": "2022-04-11T15:19:17.249323Z"
    }
   },
   "outputs": [],
   "source": [
    "wm811k_train = wm811k.query(\"trainTestNum == 0\")"
   ]
  },
  {
   "cell_type": "code",
   "execution_count": 12,
   "id": "2097f8ed",
   "metadata": {
    "execution": {
     "iopub.execute_input": "2022-04-11T15:19:20.588223Z",
     "iopub.status.busy": "2022-04-11T15:19:20.587223Z",
     "iopub.status.idle": "2022-04-11T15:19:20.647073Z",
     "shell.execute_reply": "2022-04-11T15:19:20.646041Z",
     "shell.execute_reply.started": "2022-04-11T15:19:20.588223Z"
    }
   },
   "outputs": [
    {
     "name": "stdout",
     "output_type": "stream",
     "text": [
      "<class 'pandas.core.frame.DataFrame'>\n",
      "Int64Index: 54355 entries, 0 to 791476\n",
      "Data columns (total 8 columns):\n",
      " #   Column          Non-Null Count  Dtype  \n",
      "---  ------          --------------  -----  \n",
      " 0   waferMap        54355 non-null  object \n",
      " 1   dieSize         54355 non-null  float64\n",
      " 2   lotName         54355 non-null  object \n",
      " 3   trianTestLabel  54355 non-null  object \n",
      " 4   failureType     54355 non-null  object \n",
      " 5   waferMapDim     54355 non-null  object \n",
      " 6   failureNum      54355 non-null  object \n",
      " 7   trainTestNum    54355 non-null  object \n",
      "dtypes: float64(1), object(7)\n",
      "memory usage: 3.7+ MB\n"
     ]
    }
   ],
   "source": [
    "wm811k_train.info()"
   ]
  },
  {
   "cell_type": "code",
   "execution_count": 13,
   "id": "4cd43b3d",
   "metadata": {
    "execution": {
     "iopub.execute_input": "2022-04-11T15:19:20.647073Z",
     "iopub.status.busy": "2022-04-11T15:19:20.647073Z",
     "iopub.status.idle": "2022-04-11T15:19:20.662582Z",
     "shell.execute_reply": "2022-04-11T15:19:20.662066Z",
     "shell.execute_reply.started": "2022-04-11T15:19:20.647073Z"
    },
    "tags": []
   },
   "outputs": [
    {
     "data": {
      "text/plain": [
       "8    36730\n",
       "3     8554\n",
       "0     3462\n",
       "2     2417\n",
       "4     1620\n",
       "5      609\n",
       "6      500\n",
       "1      409\n",
       "7       54\n",
       "Name: failureNum, dtype: int64"
      ]
     },
     "execution_count": 13,
     "metadata": {},
     "output_type": "execute_result"
    }
   ],
   "source": [
    "# 학습 데이터 내 불량 클래스 개수 확인\n",
    "wm811k_train['failureNum'].value_counts()"
   ]
  },
  {
   "cell_type": "markdown",
   "id": "d38e84e8",
   "metadata": {},
   "source": [
    "### waferMap size 확인\n",
    "- data print 결과 빈 부분은 0, 정상 pixel은 1, 불량 pixel은 2로 표현되어있는 듯\n",
    "    - input shape 맞출 때 0으로 padding 주듯이 채우면 될 듯\n",
    "- 예상 전처리 과정 : 기존 데이터에 data augmentaion 적용 $ \\rightarrow $ 변형 데이터에 224x224 size zero_padding $ \\rightarrow $ input data"
   ]
  },
  {
   "cell_type": "code",
   "execution_count": 14,
   "id": "779752da",
   "metadata": {
    "execution": {
     "iopub.execute_input": "2022-04-11T15:19:20.664607Z",
     "iopub.status.busy": "2022-04-11T15:19:20.664114Z",
     "iopub.status.idle": "2022-04-11T15:19:20.677390Z",
     "shell.execute_reply": "2022-04-11T15:19:20.677390Z",
     "shell.execute_reply.started": "2022-04-11T15:19:20.664607Z"
    },
    "tags": []
   },
   "outputs": [],
   "source": [
    "# pd.set_option('display.max_columns', None)\n",
    "# pd.set_option('display.max_rows', None)"
   ]
  },
  {
   "cell_type": "code",
   "execution_count": 15,
   "id": "d0d2f387",
   "metadata": {
    "execution": {
     "iopub.execute_input": "2022-04-11T15:19:20.678825Z",
     "iopub.status.busy": "2022-04-11T15:19:20.678825Z",
     "iopub.status.idle": "2022-04-11T15:19:20.694973Z",
     "shell.execute_reply": "2022-04-11T15:19:20.693015Z",
     "shell.execute_reply.started": "2022-04-11T15:19:20.678825Z"
    },
    "tags": []
   },
   "outputs": [],
   "source": [
    "# 데이터 형태 출력\n",
    "# for i in range(len(wm811k.iloc[0]['waferMap'])):\n",
    "#     print(wm811k.iloc[0]['waferMap'][i])"
   ]
  },
  {
   "cell_type": "code",
   "execution_count": 16,
   "id": "310ea590",
   "metadata": {
    "execution": {
     "iopub.execute_input": "2022-04-11T15:19:20.695961Z",
     "iopub.status.busy": "2022-04-11T15:19:20.695961Z",
     "iopub.status.idle": "2022-04-11T15:19:20.722791Z",
     "shell.execute_reply": "2022-04-11T15:19:20.722791Z",
     "shell.execute_reply.started": "2022-04-11T15:19:20.695961Z"
    },
    "tags": []
   },
   "outputs": [
    {
     "data": {
      "text/plain": [
       "8    36730\n",
       "3     8554\n",
       "0     3462\n",
       "2     2417\n",
       "4     1620\n",
       "5      609\n",
       "6      500\n",
       "1      409\n",
       "7       54\n",
       "Name: failureNum, dtype: int64"
      ]
     },
     "execution_count": 16,
     "metadata": {},
     "output_type": "execute_result"
    }
   ],
   "source": [
    "# 학습 데이터 내 불량 클래스 개수 확인\n",
    "wm811k_train['failureNum'].value_counts()"
   ]
  },
  {
   "cell_type": "markdown",
   "id": "45c75e3c",
   "metadata": {},
   "source": [
    "### Augmentation 구현\n",
    "- 기법 별로 함수 작성\n",
    "- 비율 개수만큼 sampling\n",
    "- sampling 데이터에 작성한 기법별 함수 적용\n",
    "- waferMapDim 확인 / waferMap 이미지 부분 잘리거나 한 부분 없게끔 적용되게 확인 : 미리 padding 주기?\n",
    "- data concat"
   ]
  },
  {
   "cell_type": "markdown",
   "id": "b3af8135",
   "metadata": {},
   "source": [
    "- 10도 회전\n",
    "    - 참고 : https://076923.github.io/posts/Python-opencv-6/"
   ]
  },
  {
   "cell_type": "code",
   "execution_count": 17,
   "id": "2cb4f4aa",
   "metadata": {
    "execution": {
     "iopub.execute_input": "2022-04-11T15:19:20.725254Z",
     "iopub.status.busy": "2022-04-11T15:19:20.725254Z",
     "iopub.status.idle": "2022-04-11T15:19:20.738338Z",
     "shell.execute_reply": "2022-04-11T15:19:20.737847Z",
     "shell.execute_reply.started": "2022-04-11T15:19:20.725254Z"
    }
   },
   "outputs": [],
   "source": [
    "def test_rotation_10_degree(data_img):\n",
    "    height, width = data_img.shape\n",
    "    # positive for anti-clockwise and negative for clockwise\n",
    "    rotation_10_degree_img = cv2.getRotationMatrix2D((width/2, height/2), 10, 1) # 중심점, 각도, 배율\n",
    "    dst = cv2.warpAffine(data_img, rotation_10_degree_img, (width,height))\n",
    "    return dst"
   ]
  },
  {
   "cell_type": "code",
   "execution_count": 18,
   "id": "85ac030e",
   "metadata": {
    "execution": {
     "iopub.execute_input": "2022-04-11T15:19:20.739374Z",
     "iopub.status.busy": "2022-04-11T15:19:20.739374Z",
     "iopub.status.idle": "2022-04-11T15:19:20.753694Z",
     "shell.execute_reply": "2022-04-11T15:19:20.752875Z",
     "shell.execute_reply.started": "2022-04-11T15:19:20.739374Z"
    }
   },
   "outputs": [],
   "source": [
    "def test_rotation_minus_10_degree(data_img):\n",
    "    height, width = data_img.shape\n",
    "    # positive for anti-clockwise and negative for clockwise\n",
    "    rotation_10_degree_img = cv2.getRotationMatrix2D((width/2, height/2), -10, 1) # 중심점, 각도, 배율\n",
    "    dst = cv2.warpAffine(data_img, rotation_10_degree_img, (width,height))\n",
    "    return dst"
   ]
  },
  {
   "cell_type": "code",
   "execution_count": 19,
   "id": "c99c57a6",
   "metadata": {
    "execution": {
     "iopub.execute_input": "2022-04-11T15:19:20.754707Z",
     "iopub.status.busy": "2022-04-11T15:19:20.754707Z",
     "iopub.status.idle": "2022-04-11T15:19:20.768597Z",
     "shell.execute_reply": "2022-04-11T15:19:20.767678Z",
     "shell.execute_reply.started": "2022-04-11T15:19:20.754707Z"
    }
   },
   "outputs": [],
   "source": [
    "# 회전 변환 다른 라이브러리 활용하는 방법 참고\n",
    "# from scipy.ndimage.interpolation import rotate\n",
    "# rotated = rotate(test_wafermap.iloc[3][\"waferMap\"], angle=10,reshape=False)\n",
    "# plt.imshow(rotated)\n",
    "# plt.show()"
   ]
  },
  {
   "cell_type": "markdown",
   "id": "af88f41e",
   "metadata": {},
   "source": [
    "- 좌우 대칭 및 너비 이동(horizontal flipping and width shift)\n",
    "    - cv2.flip : https://crmn.tistory.com/54\n",
    "        - flip_img = cv2.flip(data_img, 1) # 1:좌우반전, 0:상하반전 \n",
    "    - translate : https://m.blog.naver.com/PostView.naver?isHttpsRedirect=true&blogId=vps32&logNo=221762189533\n",
    "        - width shift\n",
    "        - height shift"
   ]
  },
  {
   "cell_type": "code",
   "execution_count": 20,
   "id": "8ffe21d7",
   "metadata": {
    "execution": {
     "iopub.execute_input": "2022-04-11T15:19:20.769887Z",
     "iopub.status.busy": "2022-04-11T15:19:20.769386Z",
     "iopub.status.idle": "2022-04-11T15:19:20.783487Z",
     "shell.execute_reply": "2022-04-11T15:19:20.782890Z",
     "shell.execute_reply.started": "2022-04-11T15:19:20.769887Z"
    }
   },
   "outputs": [],
   "source": [
    "def test_translate(data_img):\n",
    "    height, width = data_img.shape\n",
    "    # random ~ 범위 지정하여 함수 실행 시 마다 무작위로 평행이동 정도 부여하게끔 수정 필요\n",
    "    # 224x224 size 안에서 이동하도록 코딩 필요\n",
    "    translate_matrix = np.float32([[1,0,10], [0,1,5]]) # 세로 10, 가로 5 만큼 평행 이동 \n",
    "    dst = cv2.warpAffine(data_img, translate_matrix, (width,height))\n",
    "    return dst"
   ]
  },
  {
   "cell_type": "markdown",
   "id": "ad5cb9ab",
   "metadata": {},
   "source": [
    "- 전단 범위(shearing range)\n",
    "    - https://www.thepythoncode.com/article/image-transformations-using-opencv-in-python\n",
    "    - https://stackoverflow.com/questions/57881430/how-could-i-implement-a-centered-shear-an-image-with-opencv"
   ]
  },
  {
   "cell_type": "code",
   "execution_count": 21,
   "id": "2134d3a4",
   "metadata": {
    "execution": {
     "iopub.execute_input": "2022-04-11T15:19:20.784584Z",
     "iopub.status.busy": "2022-04-11T15:19:20.783487Z",
     "iopub.status.idle": "2022-04-11T15:19:20.798241Z",
     "shell.execute_reply": "2022-04-11T15:19:20.797881Z",
     "shell.execute_reply.started": "2022-04-11T15:19:20.784584Z"
    }
   },
   "outputs": [],
   "source": [
    "def test_shearing(data_img):\n",
    "    height, width = data_img.shape\n",
    "    # random ~ 범위 지정하여 함수 실행 시 마다 x축, y축 shearing 정도 부여하게끔 수정 필요\n",
    "    shearing_matrix = np.float32([[1, 0.5, 0],    # shearing applied to y-axis\n",
    "             \t                  [0, 1  , 0],    # M = np.float32([[1,   0, 0],\n",
    "            \t                  [0, 0  , 1]])   #             \t[0.5, 1, 0],\n",
    "                                                  #             \t[0,   0, 1]])  \n",
    "    # apply a perspective transformation to the image                \n",
    "    dst = cv2.warpPerspective(data_img, shearing_matrix, (int(width*1.5),int(height*1.5)))                      \n",
    "    # 변형 이미지 중심 보정?\n",
    "    return dst"
   ]
  },
  {
   "cell_type": "markdown",
   "id": "318dfcb9",
   "metadata": {},
   "source": [
    "- 채널이동 및 확대 축소(channel shift and zooming)\n",
    "    - 단일 채널 이미지라 channel shift는 적용 안 될 것 같음\n",
    "    - zoom : https://076923.github.io/posts/Python-opencv-7/\n",
    "    - cv2.resize 함수 참고\n",
    "        - 참고 : https://seokii.tistory.com/14"
   ]
  },
  {
   "cell_type": "code",
   "execution_count": 22,
   "id": "b936e99e",
   "metadata": {
    "execution": {
     "iopub.execute_input": "2022-04-11T15:19:20.799648Z",
     "iopub.status.busy": "2022-04-11T15:19:20.799648Z",
     "iopub.status.idle": "2022-04-11T15:19:20.813910Z",
     "shell.execute_reply": "2022-04-11T15:19:20.813532Z",
     "shell.execute_reply.started": "2022-04-11T15:19:20.799648Z"
    }
   },
   "outputs": [],
   "source": [
    "def test_zoom(data_img):\n",
    "    height, width = data_img.shape\n",
    "    # 2배 확대 이미지 / 가로 세로 값이 조건에 맞으면 dstsize로 값 부여하여 세밀 조정 가능\n",
    "    # 224x224 size 안에서 2배 확대 가능하도록 코딩 필요\n",
    "    dst = cv2.pyrUp(data_img, dstsize=(width * 2, height * 2), borderType=cv2.BORDER_DEFAULT)\n",
    "    return dst"
   ]
  },
  {
   "cell_type": "markdown",
   "id": "2f6bac65",
   "metadata": {},
   "source": [
    "- test"
   ]
  },
  {
   "cell_type": "code",
   "execution_count": 23,
   "id": "11422d74",
   "metadata": {
    "execution": {
     "iopub.execute_input": "2022-04-11T15:19:20.814987Z",
     "iopub.status.busy": "2022-04-11T15:19:20.814987Z",
     "iopub.status.idle": "2022-04-11T15:19:20.830053Z",
     "shell.execute_reply": "2022-04-11T15:19:20.829212Z",
     "shell.execute_reply.started": "2022-04-11T15:19:20.814987Z"
    }
   },
   "outputs": [],
   "source": [
    "test_wafermap = wm811k_train.query(\"failureNum == 6\").sample(n=5)"
   ]
  },
  {
   "cell_type": "code",
   "execution_count": 24,
   "id": "ce7a4ba8",
   "metadata": {
    "execution": {
     "iopub.execute_input": "2022-04-11T15:19:20.831066Z",
     "iopub.status.busy": "2022-04-11T15:19:20.831066Z",
     "iopub.status.idle": "2022-04-11T15:19:21.590122Z",
     "shell.execute_reply": "2022-04-11T15:19:21.589622Z",
     "shell.execute_reply.started": "2022-04-11T15:19:20.831066Z"
    }
   },
   "outputs": [
    {
     "data": {
      "text/html": [
       "<div>\n",
       "<style scoped>\n",
       "    .dataframe tbody tr th:only-of-type {\n",
       "        vertical-align: middle;\n",
       "    }\n",
       "\n",
       "    .dataframe tbody tr th {\n",
       "        vertical-align: top;\n",
       "    }\n",
       "\n",
       "    .dataframe thead th {\n",
       "        text-align: right;\n",
       "    }\n",
       "</style>\n",
       "<table border=\"1\" class=\"dataframe\">\n",
       "  <thead>\n",
       "    <tr style=\"text-align: right;\">\n",
       "      <th></th>\n",
       "      <th>waferMap</th>\n",
       "      <th>dieSize</th>\n",
       "      <th>lotName</th>\n",
       "      <th>trianTestLabel</th>\n",
       "      <th>failureType</th>\n",
       "      <th>waferMapDim</th>\n",
       "      <th>failureNum</th>\n",
       "      <th>trainTestNum</th>\n",
       "    </tr>\n",
       "  </thead>\n",
       "  <tbody>\n",
       "    <tr>\n",
       "      <th>53742</th>\n",
       "      <td>[[0, 0, 0, 0, 0, 0, 0, 0, 0, 0, 0, 0, 0, 0, 0,...</td>\n",
       "      <td>5082.0</td>\n",
       "      <td>lot4348</td>\n",
       "      <td>[[Training]]</td>\n",
       "      <td>[[Scratch]]</td>\n",
       "      <td>(87, 74)</td>\n",
       "      <td>6</td>\n",
       "      <td>0</td>\n",
       "    </tr>\n",
       "    <tr>\n",
       "      <th>270936</th>\n",
       "      <td>[[0, 0, 0, 0, 0, 0, 0, 0, 0, 0, 0, 0, 0, 0, 0,...</td>\n",
       "      <td>13301.0</td>\n",
       "      <td>lot16703</td>\n",
       "      <td>[[Training]]</td>\n",
       "      <td>[[Scratch]]</td>\n",
       "      <td>(116, 146)</td>\n",
       "      <td>6</td>\n",
       "      <td>0</td>\n",
       "    </tr>\n",
       "    <tr>\n",
       "      <th>635248</th>\n",
       "      <td>[[0, 0, 0, 0, 0, 0, 0, 0, 0, 0, 0, 0, 2, 1, 2,...</td>\n",
       "      <td>710.0</td>\n",
       "      <td>lot39997</td>\n",
       "      <td>[[Training]]</td>\n",
       "      <td>[[Scratch]]</td>\n",
       "      <td>(32, 29)</td>\n",
       "      <td>6</td>\n",
       "      <td>0</td>\n",
       "    </tr>\n",
       "    <tr>\n",
       "      <th>282588</th>\n",
       "      <td>[[0, 0, 0, 0, 0, 0, 0, 0, 0, 0, 0, 0, 0, 0, 0,...</td>\n",
       "      <td>13301.0</td>\n",
       "      <td>lot17291</td>\n",
       "      <td>[[Training]]</td>\n",
       "      <td>[[Scratch]]</td>\n",
       "      <td>(116, 146)</td>\n",
       "      <td>6</td>\n",
       "      <td>0</td>\n",
       "    </tr>\n",
       "    <tr>\n",
       "      <th>426369</th>\n",
       "      <td>[[0, 0, 0, 0, 0, 0, 0, 0, 0, 0, 0, 0, 0, 0, 0,...</td>\n",
       "      <td>6052.0</td>\n",
       "      <td>lot25632</td>\n",
       "      <td>[[Training]]</td>\n",
       "      <td>[[Scratch]]</td>\n",
       "      <td>(86, 89)</td>\n",
       "      <td>6</td>\n",
       "      <td>0</td>\n",
       "    </tr>\n",
       "  </tbody>\n",
       "</table>\n",
       "</div>"
      ],
      "text/plain": [
       "                                                 waferMap  dieSize   lotName  \\\n",
       "53742   [[0, 0, 0, 0, 0, 0, 0, 0, 0, 0, 0, 0, 0, 0, 0,...   5082.0   lot4348   \n",
       "270936  [[0, 0, 0, 0, 0, 0, 0, 0, 0, 0, 0, 0, 0, 0, 0,...  13301.0  lot16703   \n",
       "635248  [[0, 0, 0, 0, 0, 0, 0, 0, 0, 0, 0, 0, 2, 1, 2,...    710.0  lot39997   \n",
       "282588  [[0, 0, 0, 0, 0, 0, 0, 0, 0, 0, 0, 0, 0, 0, 0,...  13301.0  lot17291   \n",
       "426369  [[0, 0, 0, 0, 0, 0, 0, 0, 0, 0, 0, 0, 0, 0, 0,...   6052.0  lot25632   \n",
       "\n",
       "       trianTestLabel  failureType waferMapDim failureNum trainTestNum  \n",
       "53742    [[Training]]  [[Scratch]]    (87, 74)          6            0  \n",
       "270936   [[Training]]  [[Scratch]]  (116, 146)          6            0  \n",
       "635248   [[Training]]  [[Scratch]]    (32, 29)          6            0  \n",
       "282588   [[Training]]  [[Scratch]]  (116, 146)          6            0  \n",
       "426369   [[Training]]  [[Scratch]]    (86, 89)          6            0  "
      ]
     },
     "execution_count": 24,
     "metadata": {},
     "output_type": "execute_result"
    }
   ],
   "source": [
    "test_wafermap.head()"
   ]
  },
  {
   "cell_type": "code",
   "execution_count": 25,
   "id": "1d41b569",
   "metadata": {
    "execution": {
     "iopub.execute_input": "2022-04-11T15:19:21.591145Z",
     "iopub.status.busy": "2022-04-11T15:19:21.591145Z",
     "iopub.status.idle": "2022-04-11T15:19:21.850473Z",
     "shell.execute_reply": "2022-04-11T15:19:21.849972Z",
     "shell.execute_reply.started": "2022-04-11T15:19:21.591145Z"
    }
   },
   "outputs": [
    {
     "data": {
      "image/png": "[encoded data removed]",
      "text/plain": [
       "<Figure size 432x288 with 1 Axes>"
      ]
     },
     "metadata": {
      "needs_background": "light"
     },
     "output_type": "display_data"
    }
   ],
   "source": [
    "test_img = test_wafermap.iloc[3][\"waferMap\"]\n",
    "plt.imshow(test_img)\n",
    "plt.show()"
   ]
  },
  {
   "cell_type": "code",
   "execution_count": 26,
   "id": "926a214b",
   "metadata": {
    "execution": {
     "iopub.execute_input": "2022-04-11T15:19:21.851703Z",
     "iopub.status.busy": "2022-04-11T15:19:21.851703Z",
     "iopub.status.idle": "2022-04-11T15:19:22.003654Z",
     "shell.execute_reply": "2022-04-11T15:19:22.002653Z",
     "shell.execute_reply.started": "2022-04-11T15:19:21.851703Z"
    }
   },
   "outputs": [
    {
     "data": {
      "image/png": "[encoded data removed]",
      "text/plain": [
       "<Figure size 432x288 with 1 Axes>"
      ]
     },
     "metadata": {
      "needs_background": "light"
     },
     "output_type": "display_data"
    }
   ],
   "source": [
    "plt.imshow(test_rotation_10_degree(test_img))\n",
    "plt.show()"
   ]
  },
  {
   "cell_type": "code",
   "execution_count": 27,
   "id": "da7b3291",
   "metadata": {
    "execution": {
     "iopub.execute_input": "2022-04-11T15:19:22.006652Z",
     "iopub.status.busy": "2022-04-11T15:19:22.005652Z",
     "iopub.status.idle": "2022-04-11T15:19:22.157171Z",
     "shell.execute_reply": "2022-04-11T15:19:22.155747Z",
     "shell.execute_reply.started": "2022-04-11T15:19:22.006652Z"
    }
   },
   "outputs": [
    {
     "data": {
      "image/png": "[encoded data removed]",
      "text/plain": [
       "<Figure size 432x288 with 1 Axes>"
      ]
     },
     "metadata": {
      "needs_background": "light"
     },
     "output_type": "display_data"
    }
   ],
   "source": [
    "plt.imshow(test_rotation_minus_10_degree(test_img))\n",
    "plt.show()"
   ]
  },
  {
   "cell_type": "code",
   "execution_count": 28,
   "id": "513ee374",
   "metadata": {
    "execution": {
     "iopub.execute_input": "2022-04-11T15:19:22.160221Z",
     "iopub.status.busy": "2022-04-11T15:19:22.160221Z",
     "iopub.status.idle": "2022-04-11T15:19:22.355639Z",
     "shell.execute_reply": "2022-04-11T15:19:22.355240Z",
     "shell.execute_reply.started": "2022-04-11T15:19:22.160221Z"
    }
   },
   "outputs": [
    {
     "data": {
      "image/png": "[encoded data removed]",
      "text/plain": [
       "<Figure size 432x288 with 1 Axes>"
      ]
     },
     "metadata": {
      "needs_background": "light"
     },
     "output_type": "display_data"
    }
   ],
   "source": [
    "plt.imshow(test_translate(test_img))\n",
    "plt.show()"
   ]
  },
  {
   "cell_type": "code",
   "execution_count": 29,
   "id": "53c9191b",
   "metadata": {
    "execution": {
     "iopub.execute_input": "2022-04-11T15:19:22.356814Z",
     "iopub.status.busy": "2022-04-11T15:19:22.356814Z",
     "iopub.status.idle": "2022-04-11T15:19:22.508237Z",
     "shell.execute_reply": "2022-04-11T15:19:22.508237Z",
     "shell.execute_reply.started": "2022-04-11T15:19:22.356814Z"
    }
   },
   "outputs": [
    {
     "data": {
      "image/png": "[encoded data removed]",
      "text/plain": [
       "<Figure size 432x288 with 1 Axes>"
      ]
     },
     "metadata": {
      "needs_background": "light"
     },
     "output_type": "display_data"
    }
   ],
   "source": [
    "plt.imshow(test_shearing(test_img))\n",
    "plt.show()"
   ]
  },
  {
   "cell_type": "code",
   "execution_count": 30,
   "id": "9e3b1119",
   "metadata": {
    "execution": {
     "iopub.execute_input": "2022-04-11T15:19:22.510369Z",
     "iopub.status.busy": "2022-04-11T15:19:22.509368Z",
     "iopub.status.idle": "2022-04-11T15:19:22.630867Z",
     "shell.execute_reply": "2022-04-11T15:19:22.630867Z",
     "shell.execute_reply.started": "2022-04-11T15:19:22.510369Z"
    }
   },
   "outputs": [
    {
     "data": {
      "image/png": "[encoded data removed]",
      "text/plain": [
       "<Figure size 432x288 with 1 Axes>"
      ]
     },
     "metadata": {
      "needs_background": "light"
     },
     "output_type": "display_data"
    }
   ],
   "source": [
    "plt.imshow(test_zoom(test_img))\n",
    "plt.show()"
   ]
  },
  {
   "cell_type": "markdown",
   "id": "20e313ae",
   "metadata": {},
   "source": [
    "### Input size에 맞게 zero-padding\n",
    "- 참고 : https://webnautes.tistory.com/1652-"
   ]
  },
  {
   "cell_type": "code",
   "execution_count": 31,
   "id": "1c848d31",
   "metadata": {
    "execution": {
     "iopub.execute_input": "2022-04-11T15:19:22.632190Z",
     "iopub.status.busy": "2022-04-11T15:19:22.632190Z",
     "iopub.status.idle": "2022-04-11T15:19:22.646885Z",
     "shell.execute_reply": "2022-04-11T15:19:22.646498Z",
     "shell.execute_reply.started": "2022-04-11T15:19:22.632190Z"
    }
   },
   "outputs": [],
   "source": [
    "def zero_padding(data_img, set_size):\n",
    "    height, width = data_img.shape\n",
    "    \n",
    "    if max(height, width) > set_size:\n",
    "        return data_img\n",
    "    \n",
    "    delta_width = set_size - width\n",
    "    delta_height = set_size - height\n",
    "    top, bottom = delta_height//2, delta_height-(delta_height//2)\n",
    "    left, right = delta_width//2, delta_width-(delta_width//2)\n",
    "    \n",
    "    padded_img = cv2.copyMakeBorder(data_img, top, bottom, left, right, cv2.BORDER_CONSTANT, value=[0,0,0])\n",
    "    return padded_img"
   ]
  },
  {
   "cell_type": "markdown",
   "id": "400af781",
   "metadata": {},
   "source": [
    "### pad 이후 전처리 / 전처리 이후 pad 비교"
   ]
  },
  {
   "cell_type": "code",
   "execution_count": 32,
   "id": "fcbe82d4",
   "metadata": {
    "execution": {
     "iopub.execute_input": "2022-04-11T15:19:22.648188Z",
     "iopub.status.busy": "2022-04-11T15:19:22.648188Z",
     "iopub.status.idle": "2022-04-11T15:19:22.737777Z",
     "shell.execute_reply": "2022-04-11T15:19:22.737630Z",
     "shell.execute_reply.started": "2022-04-11T15:19:22.648188Z"
    }
   },
   "outputs": [
    {
     "data": {
      "image/png": "[encoded data removed]",
      "text/plain": [
       "<Figure size 432x288 with 1 Axes>"
      ]
     },
     "metadata": {
      "needs_background": "light"
     },
     "output_type": "display_data"
    }
   ],
   "source": [
    "# 원본\n",
    "test_origin = test_wafermap.iloc[2][\"waferMap\"]\n",
    "plt.imshow(test_origin)\n",
    "plt.show()"
   ]
  },
  {
   "cell_type": "code",
   "execution_count": 33,
   "id": "cb5f7d98",
   "metadata": {
    "execution": {
     "iopub.execute_input": "2022-04-11T15:19:22.740155Z",
     "iopub.status.busy": "2022-04-11T15:19:22.740155Z",
     "iopub.status.idle": "2022-04-11T15:19:22.847135Z",
     "shell.execute_reply": "2022-04-11T15:19:22.846394Z",
     "shell.execute_reply.started": "2022-04-11T15:19:22.740155Z"
    }
   },
   "outputs": [
    {
     "data": {
      "image/png": "[encoded data removed]",
      "text/plain": [
       "<Figure size 432x288 with 1 Axes>"
      ]
     },
     "metadata": {
      "needs_background": "light"
     },
     "output_type": "display_data"
    }
   ],
   "source": [
    "pad_origin = zero_padding(test_origin, 224)\n",
    "plt.imshow(pad_origin)\n",
    "plt.show()"
   ]
  },
  {
   "cell_type": "markdown",
   "id": "409fe837",
   "metadata": {},
   "source": [
    "- 회전의 경우 pad 이후 회전과 회전 이후 pad 가 비슷해보임"
   ]
  },
  {
   "cell_type": "code",
   "execution_count": 34,
   "id": "cfd776e3",
   "metadata": {
    "execution": {
     "iopub.execute_input": "2022-04-11T15:19:22.847135Z",
     "iopub.status.busy": "2022-04-11T15:19:22.847135Z",
     "iopub.status.idle": "2022-04-11T15:19:23.292290Z",
     "shell.execute_reply": "2022-04-11T15:19:23.292290Z",
     "shell.execute_reply.started": "2022-04-11T15:19:22.847135Z"
    },
    "tags": []
   },
   "outputs": [
    {
     "data": {
      "image/png": "[encoded data removed]",
      "text/plain": [
       "<Figure size 432x288 with 1 Axes>"
      ]
     },
     "metadata": {
      "needs_background": "light"
     },
     "output_type": "display_data"
    },
    {
     "data": {
      "image/png": "[encoded data removed]",
      "text/plain": [
       "<Figure size 432x288 with 1 Axes>"
      ]
     },
     "metadata": {
      "needs_background": "light"
     },
     "output_type": "display_data"
    },
    {
     "data": {
      "image/png": "[encoded data removed]",
      "text/plain": [
       "<Figure size 432x288 with 1 Axes>"
      ]
     },
     "metadata": {
      "needs_background": "light"
     },
     "output_type": "display_data"
    }
   ],
   "source": [
    "# 10도 회전 : \n",
    "degree_10 = test_rotation_10_degree(test_origin)\n",
    "plt.imshow(degree_10)\n",
    "plt.show()\n",
    "\n",
    "pad_10_degree = zero_padding(degree_10, 224)\n",
    "plt.imshow(pad_10_degree)\n",
    "plt.show()\n",
    "\n",
    "degree_10_pad_origin = test_rotation_10_degree(pad_origin)\n",
    "plt.imshow(degree_10_pad_origin)\n",
    "plt.show()"
   ]
  },
  {
   "cell_type": "markdown",
   "id": "96c5a31e",
   "metadata": {},
   "source": [
    "- 평행이동 : 이동 이후 wafer 모양이 잘리는 경우를 감안하면 pad 이후 이동하는 것이 나아보임"
   ]
  },
  {
   "cell_type": "code",
   "execution_count": 35,
   "id": "b79d0a08",
   "metadata": {
    "execution": {
     "iopub.execute_input": "2022-04-11T15:19:23.294751Z",
     "iopub.status.busy": "2022-04-11T15:19:23.293753Z",
     "iopub.status.idle": "2022-04-11T15:19:23.673062Z",
     "shell.execute_reply": "2022-04-11T15:19:23.672066Z",
     "shell.execute_reply.started": "2022-04-11T15:19:23.293753Z"
    },
    "tags": []
   },
   "outputs": [
    {
     "data": {
      "image/png": "[encoded data removed]",
      "text/plain": [
       "<Figure size 432x288 with 1 Axes>"
      ]
     },
     "metadata": {
      "needs_background": "light"
     },
     "output_type": "display_data"
    },
    {
     "data": {
      "image/png": "[encoded data removed]",
      "text/plain": [
       "<Figure size 432x288 with 1 Axes>"
      ]
     },
     "metadata": {
      "needs_background": "light"
     },
     "output_type": "display_data"
    },
    {
     "data": {
      "image/png": "[encoded data removed]",
      "text/plain": [
       "<Figure size 432x288 with 1 Axes>"
      ]
     },
     "metadata": {
      "needs_background": "light"
     },
     "output_type": "display_data"
    }
   ],
   "source": [
    "translated =  test_translate(test_origin)\n",
    "plt.imshow(translated)\n",
    "plt.show()\n",
    "\n",
    "pad_translated = zero_padding(translated, 224)\n",
    "plt.imshow(pad_translated)\n",
    "plt.show()\n",
    "\n",
    "translate_pad_origin = test_translate(pad_origin)\n",
    "plt.imshow(translate_pad_origin)\n",
    "plt.show()"
   ]
  },
  {
   "cell_type": "code",
   "execution_count": 36,
   "id": "a760ec09",
   "metadata": {
    "execution": {
     "iopub.execute_input": "2022-04-11T15:19:23.674272Z",
     "iopub.status.busy": "2022-04-11T15:19:23.673773Z",
     "iopub.status.idle": "2022-04-11T15:19:23.688135Z",
     "shell.execute_reply": "2022-04-11T15:19:23.687134Z",
     "shell.execute_reply.started": "2022-04-11T15:19:23.674272Z"
    },
    "tags": []
   },
   "outputs": [
    {
     "data": {
      "text/plain": [
       "(224, 224)"
      ]
     },
     "execution_count": 36,
     "metadata": {},
     "output_type": "execute_result"
    }
   ],
   "source": [
    "translate_pad_origin.shape"
   ]
  },
  {
   "cell_type": "markdown",
   "id": "41a60621",
   "metadata": {},
   "source": [
    "- shearing : 잘리지 않을 범위 내에서 shearing 이후 pad 하는 것이 나을 듯\n",
    "    - shearing 정도에 따라 translate와 마찬가지로 wafer 모양이 잘릴 가능성이 있음\n",
    "    - pad 이후 shearing 시 shape이 변함"
   ]
  },
  {
   "cell_type": "code",
   "execution_count": 37,
   "id": "8a932321",
   "metadata": {
    "execution": {
     "iopub.execute_input": "2022-04-11T15:19:23.689635Z",
     "iopub.status.busy": "2022-04-11T15:19:23.689135Z",
     "iopub.status.idle": "2022-04-11T15:19:24.159831Z",
     "shell.execute_reply": "2022-04-11T15:19:24.159036Z",
     "shell.execute_reply.started": "2022-04-11T15:19:23.689635Z"
    },
    "tags": []
   },
   "outputs": [
    {
     "data": {
      "image/png": "[encoded data removed]",
      "text/plain": [
       "<Figure size 432x288 with 1 Axes>"
      ]
     },
     "metadata": {
      "needs_background": "light"
     },
     "output_type": "display_data"
    },
    {
     "data": {
      "image/png": "[encoded data removed]",
      "text/plain": [
       "<Figure size 432x288 with 1 Axes>"
      ]
     },
     "metadata": {
      "needs_background": "light"
     },
     "output_type": "display_data"
    },
    {
     "data": {
      "image/png": "[encoded data removed]",
      "text/plain": [
       "<Figure size 432x288 with 1 Axes>"
      ]
     },
     "metadata": {
      "needs_background": "light"
     },
     "output_type": "display_data"
    }
   ],
   "source": [
    "sheared = test_shearing(test_origin)\n",
    "plt.imshow(sheared)\n",
    "plt.show()\n",
    "\n",
    "pad_sheared = zero_padding(sheared, 224)\n",
    "plt.imshow(pad_sheared)\n",
    "plt.show()\n",
    "\n",
    "sheared_pad_origin = test_shearing(pad_origin)\n",
    "plt.imshow(sheared_pad_origin)\n",
    "plt.show()"
   ]
  },
  {
   "cell_type": "code",
   "execution_count": 38,
   "id": "78cf00d4",
   "metadata": {
    "execution": {
     "iopub.execute_input": "2022-04-11T15:19:24.164906Z",
     "iopub.status.busy": "2022-04-11T15:19:24.164403Z",
     "iopub.status.idle": "2022-04-11T15:19:24.174973Z",
     "shell.execute_reply": "2022-04-11T15:19:24.173974Z",
     "shell.execute_reply.started": "2022-04-11T15:19:24.164906Z"
    },
    "tags": []
   },
   "outputs": [
    {
     "data": {
      "text/plain": [
       "(336, 336)"
      ]
     },
     "execution_count": 38,
     "metadata": {},
     "output_type": "execute_result"
    }
   ],
   "source": [
    "sheared_pad_origin.shape"
   ]
  },
  {
   "cell_type": "markdown",
   "id": "5f03c99f",
   "metadata": {},
   "source": [
    "- zooming : pad 이후 zoom할 경우 448x448 사이즈 이미지가 생성되므로 zoom 이후 pad 적용"
   ]
  },
  {
   "cell_type": "code",
   "execution_count": 39,
   "id": "4627cb8e",
   "metadata": {
    "execution": {
     "iopub.execute_input": "2022-04-11T15:19:24.176647Z",
     "iopub.status.busy": "2022-04-11T15:19:24.176472Z",
     "iopub.status.idle": "2022-04-11T15:19:24.554915Z",
     "shell.execute_reply": "2022-04-11T15:19:24.554915Z",
     "shell.execute_reply.started": "2022-04-11T15:19:24.176647Z"
    },
    "tags": []
   },
   "outputs": [
    {
     "data": {
      "image/png": "[encoded data removed]",
      "text/plain": [
       "<Figure size 432x288 with 1 Axes>"
      ]
     },
     "metadata": {
      "needs_background": "light"
     },
     "output_type": "display_data"
    },
    {
     "data": {
      "image/png": "[encoded data removed]",
      "text/plain": [
       "<Figure size 432x288 with 1 Axes>"
      ]
     },
     "metadata": {
      "needs_background": "light"
     },
     "output_type": "display_data"
    },
    {
     "data": {
      "image/png": "[encoded data removed]",
      "text/plain": [
       "<Figure size 432x288 with 1 Axes>"
      ]
     },
     "metadata": {
      "needs_background": "light"
     },
     "output_type": "display_data"
    }
   ],
   "source": [
    "zoomed = test_zoom(test_origin)\n",
    "plt.imshow(zoomed)\n",
    "plt.show()\n",
    "\n",
    "pad_zoomed = zero_padding(zoomed, 224)\n",
    "plt.imshow(pad_zoomed)\n",
    "plt.show()\n",
    "\n",
    "zoom_pad_origin = test_zoom(pad_origin)\n",
    "plt.imshow(zoom_pad_origin)\n",
    "plt.show()"
   ]
  },
  {
   "cell_type": "markdown",
   "id": "583201c4",
   "metadata": {},
   "source": [
    "### augmentaion 함수별 random 요소 추가 및 padding 함수 추가\n",
    "- rotation : 회전 변환 이후 padding\n",
    "- translate : padding 이후 평행이동, dsize ~ 224로 출력\n",
    "- shearing : shearing 정도에 random 요소 추가, dsize ~ 224로 출력 "
   ]
  },
  {
   "cell_type": "code",
   "execution_count": 40,
   "id": "daf16468",
   "metadata": {
    "execution": {
     "iopub.execute_input": "2022-04-11T15:19:24.558079Z",
     "iopub.status.busy": "2022-04-11T15:19:24.557000Z",
     "iopub.status.idle": "2022-04-11T15:19:24.570743Z",
     "shell.execute_reply": "2022-04-11T15:19:24.570324Z",
     "shell.execute_reply.started": "2022-04-11T15:19:24.558079Z"
    },
    "tags": []
   },
   "outputs": [],
   "source": [
    "def rotation_10_degree(data_img):\n",
    "    height, width = data_img.shape\n",
    "    # positive for anti-clockwise and negative for clockwise\n",
    "    rotation_10_degree_img = cv2.getRotationMatrix2D((width/2, height/2), 10, 1) # 중심점, 각도, 배율\n",
    "    dst = cv2.warpAffine(data_img, rotation_10_degree_img, (width,height))\n",
    "    padded_dst = zero_padding(dst, 224)\n",
    "    return padded_dst"
   ]
  },
  {
   "cell_type": "code",
   "execution_count": 41,
   "id": "6b735be5",
   "metadata": {
    "execution": {
     "iopub.execute_input": "2022-04-11T15:19:24.571763Z",
     "iopub.status.busy": "2022-04-11T15:19:24.571763Z",
     "iopub.status.idle": "2022-04-11T15:19:24.586596Z",
     "shell.execute_reply": "2022-04-11T15:19:24.585970Z",
     "shell.execute_reply.started": "2022-04-11T15:19:24.571763Z"
    },
    "tags": []
   },
   "outputs": [],
   "source": [
    "def rotation_minus_10_degree(data_img):\n",
    "    height, width = data_img.shape\n",
    "    # positive for anti-clockwise and negative for clockwise\n",
    "    rotation_10_degree_img = cv2.getRotationMatrix2D((width/2, height/2), -10, 1) # 중심점, 각도, 배율\n",
    "    dst = cv2.warpAffine(data_img, rotation_10_degree_img, (width,height))\n",
    "    padded_dst = zero_padding(dst, 224)\n",
    "    return padded_dst"
   ]
  },
  {
   "cell_type": "code",
   "execution_count": 42,
   "id": "648d145d",
   "metadata": {
    "execution": {
     "iopub.execute_input": "2022-04-11T15:19:24.587610Z",
     "iopub.status.busy": "2022-04-11T15:19:24.587610Z",
     "iopub.status.idle": "2022-04-11T15:19:24.602326Z",
     "shell.execute_reply": "2022-04-11T15:19:24.601669Z",
     "shell.execute_reply.started": "2022-04-11T15:19:24.587610Z"
    },
    "tags": []
   },
   "outputs": [],
   "source": [
    "def translate(data_img):\n",
    "    padded_img = zero_padding(data_img, 224)\n",
    "    x_translate = random.randrange(-20, 21)\n",
    "    y_translate = random.randrange(-20, 21)\n",
    "    translate_matrix = np.float32([[1, 0, y_translate],  # 세로 평행이동\n",
    "                                   [0, 1, x_translate]]) # 가로 평행이동 \n",
    "    dst = cv2.warpAffine(padded_img, translate_matrix, (224,224))  # (src, matrix, dsize)\n",
    "    return dst"
   ]
  },
  {
   "cell_type": "code",
   "execution_count": 43,
   "id": "c524191a",
   "metadata": {
    "execution": {
     "iopub.execute_input": "2022-04-11T15:19:24.603682Z",
     "iopub.status.busy": "2022-04-11T15:19:24.603682Z",
     "iopub.status.idle": "2022-04-11T15:19:24.616924Z",
     "shell.execute_reply": "2022-04-11T15:19:24.616506Z",
     "shell.execute_reply.started": "2022-04-11T15:19:24.603682Z"
    },
    "tags": []
   },
   "outputs": [],
   "source": [
    "def filping(data_img):\n",
    "    padded_img = zero_padding(data_img, 224)\n",
    "    dst = cv2.flip(padded_img, random.choice([0, 1])) # 0:상하 반전, 1:좌우 반전 \n",
    "    return dst"
   ]
  },
  {
   "cell_type": "code",
   "execution_count": 44,
   "id": "802a7b58",
   "metadata": {
    "execution": {
     "iopub.execute_input": "2022-04-11T15:19:24.619367Z",
     "iopub.status.busy": "2022-04-11T15:19:24.618338Z",
     "iopub.status.idle": "2022-04-11T15:19:24.631669Z",
     "shell.execute_reply": "2022-04-11T15:19:24.631669Z",
     "shell.execute_reply.started": "2022-04-11T15:19:24.619367Z"
    },
    "tags": []
   },
   "outputs": [],
   "source": [
    "def shearing(data_img):    \n",
    "    x_shearing = random.random()\n",
    "    y_shearing = random.random()\n",
    "    shearing_matrix = np.float32([[1,          x_shearing, 0],\n",
    "             \t                  [y_shearing, 1,          0],\n",
    "            \t                  [0,          0  ,        1]])           \n",
    "    dst = cv2.warpPerspective(data_img, shearing_matrix, (224, 224)) # warpPerspective(src, matrix, dsize~(width, height))\n",
    "    return dst"
   ]
  },
  {
   "cell_type": "code",
   "execution_count": 45,
   "id": "6f78b6ed",
   "metadata": {
    "execution": {
     "iopub.execute_input": "2022-04-11T15:19:24.633755Z",
     "iopub.status.busy": "2022-04-11T15:19:24.632835Z",
     "iopub.status.idle": "2022-04-11T15:19:24.647249Z",
     "shell.execute_reply": "2022-04-11T15:19:24.647249Z",
     "shell.execute_reply.started": "2022-04-11T15:19:24.633755Z"
    },
    "tags": []
   },
   "outputs": [],
   "source": [
    "def resizing(data_img):\n",
    "    scale_list = [0.5, 0.6, 0.7, 0.8, 1.05] # scale 이후 224 size 넘는 경우 있어서 데이터 확인 후 수동 조정\n",
    "    dst = cv2.resize(data_img, dsize=(0,0), fx=random.choice(scale_list), fy=random.choice(scale_list), interpolation=cv2.INTER_LINEAR)    \n",
    "    padded_img = zero_padding(dst, 224)\n",
    "    return padded_img"
   ]
  },
  {
   "cell_type": "markdown",
   "id": "ebecdb72",
   "metadata": {},
   "source": [
    "### Data-Augmentaion - 클래스별로 10,000개 / 논문 Augmentation 기법 적용\n",
    "- 10도 회전 : 20%\n",
    "- 좌우 대칭 및 너비 이동(horizontal flipping and width shift) : 20%\n",
    "- 높이 이동(height shfit) : 15%\n",
    "- 전단 범위(shearing range) : 10%\n",
    "- 채널이동 및 확대 축소(channel shift and zooming) : 10%\n",
    "- 75%밖에 안 되는 듯 : 증량 비율 수정"
   ]
  },
  {
   "cell_type": "code",
   "execution_count": 46,
   "id": "fe5aebf7",
   "metadata": {
    "execution": {
     "iopub.execute_input": "2022-04-11T15:19:24.647249Z",
     "iopub.status.busy": "2022-04-11T15:19:24.647249Z",
     "iopub.status.idle": "2022-04-11T15:19:25.090533Z",
     "shell.execute_reply": "2022-04-11T15:19:25.090533Z",
     "shell.execute_reply.started": "2022-04-11T15:19:24.647249Z"
    },
    "tags": []
   },
   "outputs": [
    {
     "name": "stdout",
     "output_type": "stream",
     "text": [
      "<class 'pandas.core.frame.DataFrame'>\n",
      "Int64Index: 10000 entries, 749336 to 244652\n",
      "Data columns (total 10 columns):\n",
      " #   Column                     Non-Null Count  Dtype  \n",
      "---  ------                     --------------  -----  \n",
      " 0   waferMap                   10000 non-null  object \n",
      " 1   dieSize                    10000 non-null  float64\n",
      " 2   lotName                    10000 non-null  object \n",
      " 3   trianTestLabel             10000 non-null  object \n",
      " 4   failureType                10000 non-null  object \n",
      " 5   waferMapDim                10000 non-null  object \n",
      " 6   failureNum                 10000 non-null  object \n",
      " 7   trainTestNum               10000 non-null  object \n",
      " 8   waferMap_augmentation      10000 non-null  object \n",
      " 9   waferMap_augmentation_Dim  10000 non-null  object \n",
      "dtypes: float64(1), object(9)\n",
      "memory usage: 859.4+ KB\n"
     ]
    }
   ],
   "source": [
    "# None(8): 36,730 중 10,000 개 Sampling\n",
    "# 참고 : https://rfriend.tistory.com/602\n",
    "wm811k_new_train_class_None = wm811k_train.query(\"failureNum == 8\").sample(n=10000, random_state=2022)\n",
    "wm811k_new_train_class_None[\"waferMap_augmentation\"] = wm811k_new_train_class_None[\"waferMap\"].apply(lambda x: zero_padding(x,224))\n",
    "wm811k_new_train_class_None['waferMap_augmentation_Dim']=wm811k_new_train_class_None['waferMap_augmentation'].apply(find_dim)\n",
    "wm811k_new_train_class_None.info()"
   ]
  },
  {
   "cell_type": "code",
   "execution_count": 47,
   "id": "5311974a",
   "metadata": {
    "execution": {
     "iopub.execute_input": "2022-04-11T15:19:25.093018Z",
     "iopub.status.busy": "2022-04-11T15:19:25.093018Z",
     "iopub.status.idle": "2022-04-11T15:19:25.122258Z",
     "shell.execute_reply": "2022-04-11T15:19:25.121258Z",
     "shell.execute_reply.started": "2022-04-11T15:19:25.093018Z"
    },
    "tags": []
   },
   "outputs": [
    {
     "data": {
      "text/plain": [
       "(224, 224)    10000\n",
       "Name: waferMap_augmentation_Dim, dtype: int64"
      ]
     },
     "execution_count": 47,
     "metadata": {},
     "output_type": "execute_result"
    }
   ],
   "source": [
    "wm811k_new_train_class_None['waferMap_augmentation_Dim'].apply(lambda x: str(x)).value_counts()"
   ]
  },
  {
   "cell_type": "code",
   "execution_count": 48,
   "id": "082db380",
   "metadata": {
    "execution": {
     "iopub.execute_input": "2022-04-11T15:19:25.123367Z",
     "iopub.status.busy": "2022-04-11T15:19:25.123367Z",
     "iopub.status.idle": "2022-04-11T15:19:25.928882Z",
     "shell.execute_reply": "2022-04-11T15:19:25.927586Z",
     "shell.execute_reply.started": "2022-04-11T15:19:25.123367Z"
    },
    "tags": []
   },
   "outputs": [
    {
     "name": "stderr",
     "output_type": "stream",
     "text": [
      "C:\\Users\\kjt\\Anaconda3\\envs\\dlit\\lib\\site-packages\\ipykernel_launcher.py:3: SettingWithCopyWarning: \n",
      "A value is trying to be set on a copy of a slice from a DataFrame.\n",
      "Try using .loc[row_indexer,col_indexer] = value instead\n",
      "\n",
      "See the caveats in the documentation: https://pandas.pydata.org/pandas-docs/stable/user_guide/indexing.html#returning-a-view-versus-a-copy\n",
      "  This is separate from the ipykernel package so we can avoid doing imports until\n",
      "C:\\Users\\kjt\\Anaconda3\\envs\\dlit\\lib\\site-packages\\ipykernel_launcher.py:4: SettingWithCopyWarning: \n",
      "A value is trying to be set on a copy of a slice from a DataFrame.\n",
      "Try using .loc[row_indexer,col_indexer] = value instead\n",
      "\n",
      "See the caveats in the documentation: https://pandas.pydata.org/pandas-docs/stable/user_guide/indexing.html#returning-a-view-versus-a-copy\n",
      "  after removing the cwd from sys.path.\n"
     ]
    },
    {
     "name": "stdout",
     "output_type": "stream",
     "text": [
      "<class 'pandas.core.frame.DataFrame'>\n",
      "Int64Index: 8554 entries, 100 to 786313\n",
      "Data columns (total 10 columns):\n",
      " #   Column                     Non-Null Count  Dtype  \n",
      "---  ------                     --------------  -----  \n",
      " 0   waferMap                   8554 non-null   object \n",
      " 1   dieSize                    8554 non-null   float64\n",
      " 2   lotName                    8554 non-null   object \n",
      " 3   trianTestLabel             8554 non-null   object \n",
      " 4   failureType                8554 non-null   object \n",
      " 5   waferMapDim                8554 non-null   object \n",
      " 6   failureNum                 8554 non-null   object \n",
      " 7   trainTestNum               8554 non-null   object \n",
      " 8   waferMap_augmentation      8554 non-null   object \n",
      " 9   waferMap_augmentation_Dim  8554 non-null   object \n",
      "dtypes: float64(1), object(9)\n",
      "memory usage: 735.1+ KB\n",
      "<class 'pandas.core.frame.DataFrame'>\n",
      "Int64Index: 10000 entries, 100 to 199660\n",
      "Data columns (total 10 columns):\n",
      " #   Column                     Non-Null Count  Dtype  \n",
      "---  ------                     --------------  -----  \n",
      " 0   waferMap                   10000 non-null  object \n",
      " 1   dieSize                    10000 non-null  float64\n",
      " 2   lotName                    10000 non-null  object \n",
      " 3   trianTestLabel             10000 non-null  object \n",
      " 4   failureType                10000 non-null  object \n",
      " 5   waferMapDim                10000 non-null  object \n",
      " 6   failureNum                 10000 non-null  object \n",
      " 7   trainTestNum               10000 non-null  object \n",
      " 8   waferMap_augmentation      10000 non-null  object \n",
      " 9   waferMap_augmentation_Dim  10000 non-null  object \n",
      "dtypes: float64(1), object(9)\n",
      "memory usage: 859.4+ KB\n"
     ]
    }
   ],
   "source": [
    "# Edge-Ring(3) 현 보유 8,554개 / 1,446개 augmentation 필요\n",
    "wm811k_new_train_class_Edge_Ring = wm811k_train.query(\"failureNum == 3\")\n",
    "wm811k_new_train_class_Edge_Ring[\"waferMap_augmentation\"] = wm811k_new_train_class_Edge_Ring['waferMap'].apply(lambda x: zero_padding(x,224))\n",
    "wm811k_new_train_class_Edge_Ring['waferMap_augmentation_Dim']=wm811k_new_train_class_Edge_Ring['waferMap_augmentation'].apply(find_dim)\n",
    "wm811k_new_train_class_Edge_Ring.info()\n",
    "\n",
    "# +10도 회전 : 10% - 144개\n",
    "wm811k_new_train_class_Edge_Ring_10 = wm811k_new_train_class_Edge_Ring.sample(n=144, random_state=2022)\n",
    "wm811k_new_train_class_Edge_Ring_10[\"waferMap_augmentation\"] = wm811k_new_train_class_Edge_Ring_10[\"waferMap\"].apply(lambda x: rotation_10_degree(x))\n",
    "wm811k_new_train_class_Edge_Ring_10['waferMap_augmentation_Dim']=wm811k_new_train_class_Edge_Ring_10['waferMap_augmentation'].apply(find_dim)\n",
    "\n",
    "# -10도 회전 : 10% - 144개\n",
    "wm811k_new_train_class_Edge_Ring_minus_10 = wm811k_new_train_class_Edge_Ring.sample(n=144, random_state=2022)\n",
    "wm811k_new_train_class_Edge_Ring_minus_10[\"waferMap_augmentation\"] = wm811k_new_train_class_Edge_Ring_minus_10[\"waferMap\"].apply(lambda x: rotation_minus_10_degree(x))\n",
    "wm811k_new_train_class_Edge_Ring_minus_10['waferMap_augmentation_Dim']=wm811k_new_train_class_Edge_Ring_minus_10['waferMap_augmentation'].apply(find_dim)\n",
    "\n",
    "# 좌우 대칭 : 20%  - 288개\n",
    "wm811k_new_train_class_Edge_Ring_flip = wm811k_new_train_class_Edge_Ring.sample(n=288, random_state=2022)\n",
    "wm811k_new_train_class_Edge_Ring_flip[\"waferMap_augmentation\"] = wm811k_new_train_class_Edge_Ring_flip[\"waferMap\"].apply(lambda x: filping(x))\n",
    "wm811k_new_train_class_Edge_Ring_flip['waferMap_augmentation_Dim']=wm811k_new_train_class_Edge_Ring_flip['waferMap_augmentation'].apply(find_dim)\n",
    "\n",
    "# 평행 이동 : 30% - 432개\n",
    "wm811k_new_train_class_Edge_Ring_translate = wm811k_new_train_class_Edge_Ring.sample(n=432, random_state=2022)\n",
    "wm811k_new_train_class_Edge_Ring_translate[\"waferMap_augmentation\"] = wm811k_new_train_class_Edge_Ring_translate[\"waferMap\"].apply(lambda x: translate(x))\n",
    "wm811k_new_train_class_Edge_Ring_translate['waferMap_augmentation_Dim']=wm811k_new_train_class_Edge_Ring_translate['waferMap_augmentation'].apply(find_dim)\n",
    "\n",
    "# 전단 범위(shearing range) : 10% - 144개\n",
    "wm811k_new_train_class_Edge_Ring_shearing = wm811k_new_train_class_Edge_Ring.sample(n=144, random_state=2022)\n",
    "wm811k_new_train_class_Edge_Ring_shearing[\"waferMap_augmentation\"] = wm811k_new_train_class_Edge_Ring_shearing[\"waferMap\"].apply(lambda x: shearing(x))\n",
    "wm811k_new_train_class_Edge_Ring_shearing['waferMap_augmentation_Dim']=wm811k_new_train_class_Edge_Ring_shearing['waferMap_augmentation'].apply(find_dim)\n",
    "\n",
    "# 확대 : 20% - 294개\n",
    "wm811k_new_train_class_Edge_Ring_resize = wm811k_new_train_class_Edge_Ring.sample(n=294, random_state=2022)\n",
    "wm811k_new_train_class_Edge_Ring_resize[\"waferMap_augmentation\"] = wm811k_new_train_class_Edge_Ring_resize[\"waferMap\"].apply(lambda x: resizing(x))\n",
    "wm811k_new_train_class_Edge_Ring_resize['waferMap_augmentation_Dim']=wm811k_new_train_class_Edge_Ring_resize['waferMap_augmentation'].apply(find_dim)\n",
    "\n",
    "# concat\n",
    "wm811k_new_train_class_Edge_Ring_augmentation = pd.concat([wm811k_new_train_class_Edge_Ring,\n",
    "                                                           wm811k_new_train_class_Edge_Ring_10,\n",
    "                                                           wm811k_new_train_class_Edge_Ring_minus_10,\n",
    "                                                           wm811k_new_train_class_Edge_Ring_flip,\n",
    "                                                           wm811k_new_train_class_Edge_Ring_translate,\n",
    "                                                           wm811k_new_train_class_Edge_Ring_shearing,\n",
    "                                                           wm811k_new_train_class_Edge_Ring_resize\n",
    "                                                          ])\n",
    "wm811k_new_train_class_Edge_Ring_augmentation.info()"
   ]
  },
  {
   "cell_type": "code",
   "execution_count": 49,
   "id": "0bc23f2f",
   "metadata": {
    "execution": {
     "iopub.execute_input": "2022-04-11T15:19:25.930872Z",
     "iopub.status.busy": "2022-04-11T15:19:25.930872Z",
     "iopub.status.idle": "2022-04-11T15:19:27.626512Z",
     "shell.execute_reply": "2022-04-11T15:19:27.625904Z",
     "shell.execute_reply.started": "2022-04-11T15:19:25.930872Z"
    },
    "tags": []
   },
   "outputs": [
    {
     "name": "stdout",
     "output_type": "stream",
     "text": [
      "<class 'pandas.core.frame.DataFrame'>\n",
      "Int64Index: 3462 entries, 44 to 785245\n",
      "Data columns (total 10 columns):\n",
      " #   Column                     Non-Null Count  Dtype  \n",
      "---  ------                     --------------  -----  \n",
      " 0   waferMap                   3462 non-null   object \n",
      " 1   dieSize                    3462 non-null   float64\n",
      " 2   lotName                    3462 non-null   object \n",
      " 3   trianTestLabel             3462 non-null   object \n",
      " 4   failureType                3462 non-null   object \n",
      " 5   waferMapDim                3462 non-null   object \n",
      " 6   failureNum                 3462 non-null   object \n",
      " 7   trainTestNum               3462 non-null   object \n",
      " 8   waferMap_augmentation      3462 non-null   object \n",
      " 9   waferMap_augmentation_Dim  3462 non-null   object \n",
      "dtypes: float64(1), object(9)\n",
      "memory usage: 297.5+ KB\n"
     ]
    },
    {
     "name": "stderr",
     "output_type": "stream",
     "text": [
      "C:\\Users\\kjt\\Anaconda3\\envs\\dlit\\lib\\site-packages\\ipykernel_launcher.py:3: SettingWithCopyWarning: \n",
      "A value is trying to be set on a copy of a slice from a DataFrame.\n",
      "Try using .loc[row_indexer,col_indexer] = value instead\n",
      "\n",
      "See the caveats in the documentation: https://pandas.pydata.org/pandas-docs/stable/user_guide/indexing.html#returning-a-view-versus-a-copy\n",
      "  This is separate from the ipykernel package so we can avoid doing imports until\n",
      "C:\\Users\\kjt\\Anaconda3\\envs\\dlit\\lib\\site-packages\\ipykernel_launcher.py:4: SettingWithCopyWarning: \n",
      "A value is trying to be set on a copy of a slice from a DataFrame.\n",
      "Try using .loc[row_indexer,col_indexer] = value instead\n",
      "\n",
      "See the caveats in the documentation: https://pandas.pydata.org/pandas-docs/stable/user_guide/indexing.html#returning-a-view-versus-a-copy\n",
      "  after removing the cwd from sys.path.\n"
     ]
    },
    {
     "name": "stdout",
     "output_type": "stream",
     "text": [
      "<class 'pandas.core.frame.DataFrame'>\n",
      "Int64Index: 10000 entries, 44 to 360911\n",
      "Data columns (total 10 columns):\n",
      " #   Column                     Non-Null Count  Dtype  \n",
      "---  ------                     --------------  -----  \n",
      " 0   waferMap                   10000 non-null  object \n",
      " 1   dieSize                    10000 non-null  float64\n",
      " 2   lotName                    10000 non-null  object \n",
      " 3   trianTestLabel             10000 non-null  object \n",
      " 4   failureType                10000 non-null  object \n",
      " 5   waferMapDim                10000 non-null  object \n",
      " 6   failureNum                 10000 non-null  object \n",
      " 7   trainTestNum               10000 non-null  object \n",
      " 8   waferMap_augmentation      10000 non-null  object \n",
      " 9   waferMap_augmentation_Dim  10000 non-null  object \n",
      "dtypes: float64(1), object(9)\n",
      "memory usage: 859.4+ KB\n"
     ]
    }
   ],
   "source": [
    "# Center(0) 현 보유 3,462개 / 6,538개 augmentation 필요\n",
    "wm811k_new_train_class_Center = wm811k_train.query(\"failureNum == 0\")\n",
    "wm811k_new_train_class_Center[\"waferMap_augmentation\"] = wm811k_new_train_class_Center['waferMap'].apply(lambda x: zero_padding(x,224))\n",
    "wm811k_new_train_class_Center['waferMap_augmentation_Dim']=wm811k_new_train_class_Center['waferMap_augmentation'].apply(find_dim)\n",
    "wm811k_new_train_class_Center.info()\n",
    "\n",
    "# +10도 회전 : 10% - 654개\n",
    "wm811k_new_train_class_Center_10 = wm811k_new_train_class_Center.sample(n=654, random_state=2022)\n",
    "wm811k_new_train_class_Center_10[\"waferMap_augmentation\"] = wm811k_new_train_class_Center_10[\"waferMap\"].apply(lambda x: rotation_10_degree(x))\n",
    "wm811k_new_train_class_Center_10['waferMap_augmentation_Dim']=wm811k_new_train_class_Center_10['waferMap_augmentation'].apply(find_dim)\n",
    "\n",
    "# -10도 회전 : 10% - 654개\n",
    "wm811k_new_train_class_Center_minus_10 = wm811k_new_train_class_Center.sample(n=654, random_state=2022)\n",
    "wm811k_new_train_class_Center_minus_10[\"waferMap_augmentation\"] = wm811k_new_train_class_Center_minus_10[\"waferMap\"].apply(lambda x: rotation_minus_10_degree(x))\n",
    "wm811k_new_train_class_Center_minus_10['waferMap_augmentation_Dim']=wm811k_new_train_class_Center_minus_10['waferMap_augmentation'].apply(find_dim)\n",
    "\n",
    "# 좌우 대칭 : 20%  - 1308개\n",
    "wm811k_new_train_class_Center_flip = wm811k_new_train_class_Center.sample(n=1308, random_state=2022)\n",
    "wm811k_new_train_class_Center_flip[\"waferMap_augmentation\"] = wm811k_new_train_class_Center_flip[\"waferMap\"].apply(lambda x: filping(x))\n",
    "wm811k_new_train_class_Center_flip['waferMap_augmentation_Dim']=wm811k_new_train_class_Center_flip['waferMap_augmentation'].apply(find_dim)\n",
    "\n",
    "# 평행 이동 : 30%  - 1962개\n",
    "wm811k_new_train_class_Center_translate = wm811k_new_train_class_Center.sample(n=1962, random_state=2022)\n",
    "wm811k_new_train_class_Center_translate[\"waferMap_augmentation\"] = wm811k_new_train_class_Center_translate[\"waferMap\"].apply(lambda x: translate(x))\n",
    "wm811k_new_train_class_Center_translate['waferMap_augmentation_Dim']=wm811k_new_train_class_Center_translate['waferMap_augmentation'].apply(find_dim)\n",
    "\n",
    "# 전단 범위(shearing range) : 10% - 652개\n",
    "wm811k_new_train_class_Center_shearing = wm811k_new_train_class_Center.sample(n=652, random_state=2022)\n",
    "wm811k_new_train_class_Center_shearing[\"waferMap_augmentation\"] = wm811k_new_train_class_Center_shearing[\"waferMap\"].apply(lambda x: shearing(x))\n",
    "wm811k_new_train_class_Center_shearing['waferMap_augmentation_Dim']=wm811k_new_train_class_Center_shearing['waferMap_augmentation'].apply(find_dim)\n",
    "\n",
    "# 확대 : 20% - 1308개\n",
    "wm811k_new_train_class_Center_resize = wm811k_new_train_class_Center.sample(n=1308, random_state=2022)\n",
    "wm811k_new_train_class_Center_resize[\"waferMap_augmentation\"] = wm811k_new_train_class_Center_resize[\"waferMap\"].apply(lambda x: resizing(x))\n",
    "wm811k_new_train_class_Center_resize['waferMap_augmentation_Dim']=wm811k_new_train_class_Center_resize['waferMap_augmentation'].apply(find_dim)\n",
    "\n",
    "# concat\n",
    "wm811k_new_train_class_Center_augmentation = pd.concat([wm811k_new_train_class_Center,\n",
    "                                                        wm811k_new_train_class_Center_10,\n",
    "                                                        wm811k_new_train_class_Center_minus_10,\n",
    "                                                        wm811k_new_train_class_Center_flip,\n",
    "                                                        wm811k_new_train_class_Center_translate,\n",
    "                                                        wm811k_new_train_class_Center_shearing,\n",
    "                                                        wm811k_new_train_class_Center_resize\n",
    "                                                       ])\n",
    "wm811k_new_train_class_Center_augmentation.info()"
   ]
  },
  {
   "cell_type": "code",
   "execution_count": 50,
   "id": "4e0ca0f8",
   "metadata": {
    "execution": {
     "iopub.execute_input": "2022-04-11T15:19:27.627419Z",
     "iopub.status.busy": "2022-04-11T15:19:27.627419Z",
     "iopub.status.idle": "2022-04-11T15:19:29.393908Z",
     "shell.execute_reply": "2022-04-11T15:19:29.393507Z",
     "shell.execute_reply.started": "2022-04-11T15:19:27.627419Z"
    },
    "tags": []
   },
   "outputs": [
    {
     "name": "stdout",
     "output_type": "stream",
     "text": [
      "<class 'pandas.core.frame.DataFrame'>\n",
      "Int64Index: 2417 entries, 36 to 791230\n",
      "Data columns (total 10 columns):\n",
      " #   Column                     Non-Null Count  Dtype  \n",
      "---  ------                     --------------  -----  \n",
      " 0   waferMap                   2417 non-null   object \n",
      " 1   dieSize                    2417 non-null   float64\n",
      " 2   lotName                    2417 non-null   object \n",
      " 3   trianTestLabel             2417 non-null   object \n",
      " 4   failureType                2417 non-null   object \n",
      " 5   waferMapDim                2417 non-null   object \n",
      " 6   failureNum                 2417 non-null   object \n",
      " 7   trainTestNum               2417 non-null   object \n",
      " 8   waferMap_augmentation      2417 non-null   object \n",
      " 9   waferMap_augmentation_Dim  2417 non-null   object \n",
      "dtypes: float64(1), object(9)\n",
      "memory usage: 207.7+ KB\n"
     ]
    },
    {
     "name": "stderr",
     "output_type": "stream",
     "text": [
      "C:\\Users\\kjt\\Anaconda3\\envs\\dlit\\lib\\site-packages\\ipykernel_launcher.py:3: SettingWithCopyWarning: \n",
      "A value is trying to be set on a copy of a slice from a DataFrame.\n",
      "Try using .loc[row_indexer,col_indexer] = value instead\n",
      "\n",
      "See the caveats in the documentation: https://pandas.pydata.org/pandas-docs/stable/user_guide/indexing.html#returning-a-view-versus-a-copy\n",
      "  This is separate from the ipykernel package so we can avoid doing imports until\n",
      "C:\\Users\\kjt\\Anaconda3\\envs\\dlit\\lib\\site-packages\\ipykernel_launcher.py:4: SettingWithCopyWarning: \n",
      "A value is trying to be set on a copy of a slice from a DataFrame.\n",
      "Try using .loc[row_indexer,col_indexer] = value instead\n",
      "\n",
      "See the caveats in the documentation: https://pandas.pydata.org/pandas-docs/stable/user_guide/indexing.html#returning-a-view-versus-a-copy\n",
      "  after removing the cwd from sys.path.\n"
     ]
    },
    {
     "name": "stdout",
     "output_type": "stream",
     "text": [
      "<class 'pandas.core.frame.DataFrame'>\n",
      "Int64Index: 10000 entries, 36 to 417018\n",
      "Data columns (total 10 columns):\n",
      " #   Column                     Non-Null Count  Dtype  \n",
      "---  ------                     --------------  -----  \n",
      " 0   waferMap                   10000 non-null  object \n",
      " 1   dieSize                    10000 non-null  float64\n",
      " 2   lotName                    10000 non-null  object \n",
      " 3   trianTestLabel             10000 non-null  object \n",
      " 4   failureType                10000 non-null  object \n",
      " 5   waferMapDim                10000 non-null  object \n",
      " 6   failureNum                 10000 non-null  object \n",
      " 7   trainTestNum               10000 non-null  object \n",
      " 8   waferMap_augmentation      10000 non-null  object \n",
      " 9   waferMap_augmentation_Dim  10000 non-null  object \n",
      "dtypes: float64(1), object(9)\n",
      "memory usage: 859.4+ KB\n"
     ]
    }
   ],
   "source": [
    "# Edge-Loc(2) 현 보유 2,417개 / 7,583개 augmentation 필요\n",
    "wm811k_new_train_class_Edge_Loc = wm811k_train.query(\"failureNum == 2\")\n",
    "wm811k_new_train_class_Edge_Loc[\"waferMap_augmentation\"] = wm811k_new_train_class_Edge_Loc['waferMap'].apply(lambda x: zero_padding(x,224))\n",
    "wm811k_new_train_class_Edge_Loc['waferMap_augmentation_Dim']=wm811k_new_train_class_Edge_Loc['waferMap_augmentation'].apply(find_dim)\n",
    "wm811k_new_train_class_Edge_Loc.info()\n",
    "\n",
    "# +10도 회전 : 10% - 758개\n",
    "wm811k_new_train_class_Edge_Loc_10 = wm811k_new_train_class_Edge_Loc.sample(n=758, random_state=2022)\n",
    "wm811k_new_train_class_Edge_Loc_10[\"waferMap_augmentation\"] = wm811k_new_train_class_Edge_Loc_10[\"waferMap\"].apply(lambda x: rotation_10_degree(x))\n",
    "wm811k_new_train_class_Edge_Loc_10['waferMap_augmentation_Dim']=wm811k_new_train_class_Edge_Loc_10['waferMap_augmentation'].apply(find_dim)\n",
    "\n",
    "# -10도 회전 : 10% - 758개\n",
    "wm811k_new_train_class_Edge_Loc_minus_10 = wm811k_new_train_class_Edge_Loc.sample(n=758, random_state=2022)\n",
    "wm811k_new_train_class_Edge_Loc_minus_10[\"waferMap_augmentation\"] = wm811k_new_train_class_Edge_Loc_minus_10[\"waferMap\"].apply(lambda x: rotation_minus_10_degree(x))\n",
    "wm811k_new_train_class_Edge_Loc_minus_10['waferMap_augmentation_Dim']=wm811k_new_train_class_Edge_Loc_minus_10['waferMap_augmentation'].apply(find_dim)\n",
    "\n",
    "# 좌우 대칭 : 20% - 1517개\n",
    "wm811k_new_train_class_Edge_Loc_flip = wm811k_new_train_class_Edge_Loc.sample(n=1517, random_state=2022)\n",
    "wm811k_new_train_class_Edge_Loc_flip[\"waferMap_augmentation\"] = wm811k_new_train_class_Edge_Loc_flip[\"waferMap\"].apply(lambda x: filping(x))\n",
    "wm811k_new_train_class_Edge_Loc_flip['waferMap_augmentation_Dim']=wm811k_new_train_class_Edge_Loc_flip['waferMap_augmentation'].apply(find_dim)\n",
    "\n",
    "# 평행 이동 : 30% - 2275개\n",
    "wm811k_new_train_class_Edge_Loc_translate = wm811k_new_train_class_Edge_Loc.sample(n=2275, random_state=2022)\n",
    "wm811k_new_train_class_Edge_Loc_translate[\"waferMap_augmentation\"] = wm811k_new_train_class_Edge_Loc_translate[\"waferMap\"].apply(lambda x: translate(x))\n",
    "wm811k_new_train_class_Edge_Loc_translate['waferMap_augmentation_Dim']=wm811k_new_train_class_Edge_Loc_translate['waferMap_augmentation'].apply(find_dim)\n",
    "\n",
    "# 전단 범위(shearing range) : 10% - 758개\n",
    "wm811k_new_train_class_Edge_Loc_shearing = wm811k_new_train_class_Edge_Loc.sample(n=758, random_state=2022)\n",
    "wm811k_new_train_class_Edge_Loc_shearing[\"waferMap_augmentation\"] = wm811k_new_train_class_Edge_Loc_shearing[\"waferMap\"].apply(lambda x: shearing(x))\n",
    "wm811k_new_train_class_Edge_Loc_shearing['waferMap_augmentation_Dim']=wm811k_new_train_class_Edge_Loc_shearing['waferMap_augmentation'].apply(find_dim)\n",
    "\n",
    "# 확대 : 20% - 1517개\n",
    "wm811k_new_train_class_Edge_Loc_resize = wm811k_new_train_class_Edge_Loc.sample(n=1517, random_state=2022)\n",
    "wm811k_new_train_class_Edge_Loc_resize[\"waferMap_augmentation\"] = wm811k_new_train_class_Edge_Loc_resize[\"waferMap\"].apply(lambda x: resizing(x))\n",
    "wm811k_new_train_class_Edge_Loc_resize['waferMap_augmentation_Dim']=wm811k_new_train_class_Edge_Loc_resize['waferMap_augmentation'].apply(find_dim)\n",
    "\n",
    "# concat\n",
    "wm811k_new_train_class_Edge_Loc_augmentation = pd.concat([wm811k_new_train_class_Edge_Loc,\n",
    "                                                          wm811k_new_train_class_Edge_Loc_10,\n",
    "                                                          wm811k_new_train_class_Edge_Loc_minus_10,\n",
    "                                                          wm811k_new_train_class_Edge_Loc_flip,\n",
    "                                                          wm811k_new_train_class_Edge_Loc_translate,\n",
    "                                                          wm811k_new_train_class_Edge_Loc_shearing,\n",
    "                                                          wm811k_new_train_class_Edge_Loc_resize\n",
    "                                                         ])\n",
    "wm811k_new_train_class_Edge_Loc_augmentation.info()"
   ]
  },
  {
   "cell_type": "code",
   "execution_count": 51,
   "id": "9c31a5a4",
   "metadata": {
    "execution": {
     "iopub.execute_input": "2022-04-11T15:19:29.395073Z",
     "iopub.status.busy": "2022-04-11T15:19:29.395073Z",
     "iopub.status.idle": "2022-04-11T15:19:31.568894Z",
     "shell.execute_reply": "2022-04-11T15:19:31.568396Z",
     "shell.execute_reply.started": "2022-04-11T15:19:29.395073Z"
    },
    "tags": []
   },
   "outputs": [
    {
     "name": "stdout",
     "output_type": "stream",
     "text": [
      "<class 'pandas.core.frame.DataFrame'>\n",
      "Int64Index: 1620 entries, 19 to 791433\n",
      "Data columns (total 10 columns):\n",
      " #   Column                     Non-Null Count  Dtype  \n",
      "---  ------                     --------------  -----  \n",
      " 0   waferMap                   1620 non-null   object \n",
      " 1   dieSize                    1620 non-null   float64\n",
      " 2   lotName                    1620 non-null   object \n",
      " 3   trianTestLabel             1620 non-null   object \n",
      " 4   failureType                1620 non-null   object \n",
      " 5   waferMapDim                1620 non-null   object \n",
      " 6   failureNum                 1620 non-null   object \n",
      " 7   trainTestNum               1620 non-null   object \n",
      " 8   waferMap_augmentation      1620 non-null   object \n",
      " 9   waferMap_augmentation_Dim  1620 non-null   object \n",
      "dtypes: float64(1), object(9)\n",
      "memory usage: 139.2+ KB\n"
     ]
    },
    {
     "name": "stderr",
     "output_type": "stream",
     "text": [
      "C:\\Users\\kjt\\Anaconda3\\envs\\dlit\\lib\\site-packages\\ipykernel_launcher.py:3: SettingWithCopyWarning: \n",
      "A value is trying to be set on a copy of a slice from a DataFrame.\n",
      "Try using .loc[row_indexer,col_indexer] = value instead\n",
      "\n",
      "See the caveats in the documentation: https://pandas.pydata.org/pandas-docs/stable/user_guide/indexing.html#returning-a-view-versus-a-copy\n",
      "  This is separate from the ipykernel package so we can avoid doing imports until\n",
      "C:\\Users\\kjt\\Anaconda3\\envs\\dlit\\lib\\site-packages\\ipykernel_launcher.py:4: SettingWithCopyWarning: \n",
      "A value is trying to be set on a copy of a slice from a DataFrame.\n",
      "Try using .loc[row_indexer,col_indexer] = value instead\n",
      "\n",
      "See the caveats in the documentation: https://pandas.pydata.org/pandas-docs/stable/user_guide/indexing.html#returning-a-view-versus-a-copy\n",
      "  after removing the cwd from sys.path.\n"
     ]
    },
    {
     "name": "stdout",
     "output_type": "stream",
     "text": [
      "<class 'pandas.core.frame.DataFrame'>\n",
      "Int64Index: 3296 entries, 19 to 12757\n",
      "Data columns (total 10 columns):\n",
      " #   Column                     Non-Null Count  Dtype  \n",
      "---  ------                     --------------  -----  \n",
      " 0   waferMap                   3296 non-null   object \n",
      " 1   dieSize                    3296 non-null   float64\n",
      " 2   lotName                    3296 non-null   object \n",
      " 3   trianTestLabel             3296 non-null   object \n",
      " 4   failureType                3296 non-null   object \n",
      " 5   waferMapDim                3296 non-null   object \n",
      " 6   failureNum                 3296 non-null   object \n",
      " 7   trainTestNum               3296 non-null   object \n",
      " 8   waferMap_augmentation      3296 non-null   object \n",
      " 9   waferMap_augmentation_Dim  3296 non-null   object \n",
      "dtypes: float64(1), object(9)\n",
      "memory usage: 283.2+ KB\n",
      "<class 'pandas.core.frame.DataFrame'>\n",
      "Int64Index: 10000 entries, 19 to 190823\n",
      "Data columns (total 10 columns):\n",
      " #   Column                     Non-Null Count  Dtype  \n",
      "---  ------                     --------------  -----  \n",
      " 0   waferMap                   10000 non-null  object \n",
      " 1   dieSize                    10000 non-null  float64\n",
      " 2   lotName                    10000 non-null  object \n",
      " 3   trianTestLabel             10000 non-null  object \n",
      " 4   failureType                10000 non-null  object \n",
      " 5   waferMapDim                10000 non-null  object \n",
      " 6   failureNum                 10000 non-null  object \n",
      " 7   trainTestNum               10000 non-null  object \n",
      " 8   waferMap_augmentation      10000 non-null  object \n",
      " 9   waferMap_augmentation_Dim  10000 non-null  object \n",
      "dtypes: float64(1), object(9)\n",
      "memory usage: 859.4+ KB\n"
     ]
    }
   ],
   "source": [
    "# Loc(4) 현 보유 1,620개 / 8,380개 augmentation 필요\n",
    "wm811k_new_train_class_Loc = wm811k_train.query(\"failureNum == 4\")\n",
    "wm811k_new_train_class_Loc[\"waferMap_augmentation\"] = wm811k_new_train_class_Loc['waferMap'].apply(lambda x: zero_padding(x,224))\n",
    "wm811k_new_train_class_Loc['waferMap_augmentation_Dim']=wm811k_new_train_class_Loc['waferMap_augmentation'].apply(find_dim)\n",
    "wm811k_new_train_class_Loc.info()\n",
    "\n",
    "# +10도 회전 : 10% - 838개\n",
    "wm811k_new_train_class_Loc_10 = wm811k_new_train_class_Loc.sample(n=838, random_state=2022)\n",
    "wm811k_new_train_class_Loc_10[\"waferMap_augmentation\"] = wm811k_new_train_class_Loc_10[\"waferMap\"].apply(lambda x: rotation_10_degree(x))\n",
    "wm811k_new_train_class_Loc_10['waferMap_augmentation_Dim']=wm811k_new_train_class_Loc_10['waferMap_augmentation'].apply(find_dim)\n",
    "\n",
    "# -10도 회전 : 10% - 838개\n",
    "wm811k_new_train_class_Loc_minus_10 = wm811k_new_train_class_Loc.sample(n=838, random_state=2022)\n",
    "wm811k_new_train_class_Loc_minus_10[\"waferMap_augmentation\"] = wm811k_new_train_class_Loc_minus_10[\"waferMap\"].apply(lambda x: rotation_minus_10_degree(x))\n",
    "wm811k_new_train_class_Loc_minus_10['waferMap_augmentation_Dim']=wm811k_new_train_class_Loc_minus_10['waferMap_augmentation'].apply(find_dim)\n",
    "\n",
    "# 중간 concat\n",
    "wm811k_new_train_class_Loc_patial_concat = pd.concat([wm811k_new_train_class_Loc,\n",
    "                                                      wm811k_new_train_class_Loc_10,\n",
    "                                                      wm811k_new_train_class_Loc_minus_10\n",
    "                                                     ])\n",
    "wm811k_new_train_class_Loc_patial_concat.info()\n",
    "\n",
    "# 좌우 대칭 : 20%  - \"1676개\"\n",
    "wm811k_new_train_class_Loc_flip = wm811k_new_train_class_Loc_patial_concat.sample(n=1676, random_state=2022)\n",
    "wm811k_new_train_class_Loc_flip[\"waferMap_augmentation\"] = wm811k_new_train_class_Loc_flip[\"waferMap\"].apply(lambda x: filping(x))\n",
    "wm811k_new_train_class_Loc_flip['waferMap_augmentation_Dim']=wm811k_new_train_class_Loc_flip['waferMap_augmentation'].apply(find_dim)\n",
    "\n",
    "# 평행 이동 : 30%  - \"2514개\"\n",
    "wm811k_new_train_class_Loc_translate = wm811k_new_train_class_Loc_patial_concat.sample(n=2514, random_state=2022)\n",
    "wm811k_new_train_class_Loc_translate[\"waferMap_augmentation\"] = wm811k_new_train_class_Loc_translate[\"waferMap\"].apply(lambda x: translate(x))\n",
    "wm811k_new_train_class_Loc_translate['waferMap_augmentation_Dim']=wm811k_new_train_class_Loc_translate['waferMap_augmentation'].apply(find_dim)\n",
    "\n",
    "# 전단 범위(shearing range) : 10% - 838개\n",
    "wm811k_new_train_class_Loc_shearing = wm811k_new_train_class_Loc.sample(n=838, random_state=2022)\n",
    "wm811k_new_train_class_Loc_shearing[\"waferMap_augmentation\"] = wm811k_new_train_class_Loc_shearing[\"waferMap\"].apply(lambda x: shearing(x))\n",
    "wm811k_new_train_class_Loc_shearing['waferMap_augmentation_Dim']=wm811k_new_train_class_Loc_shearing['waferMap_augmentation'].apply(find_dim)\n",
    "\n",
    "# 확대 : 20% - \"1676개\"\n",
    "wm811k_new_train_class_Loc_resize = wm811k_new_train_class_Loc_patial_concat.sample(n=1676, random_state=2022)\n",
    "wm811k_new_train_class_Loc_resize[\"waferMap_augmentation\"] = wm811k_new_train_class_Loc_resize[\"waferMap\"].apply(lambda x: resizing(x))\n",
    "wm811k_new_train_class_Loc_resize['waferMap_augmentation_Dim']=wm811k_new_train_class_Loc_resize['waferMap_augmentation'].apply(find_dim)\n",
    "\n",
    "# concat\n",
    "wm811k_new_train_class_Loc_augmentation = pd.concat([wm811k_new_train_class_Loc,\n",
    "                                                      wm811k_new_train_class_Loc_10,\n",
    "                                                      wm811k_new_train_class_Loc_minus_10,\n",
    "                                                      wm811k_new_train_class_Loc_flip,\n",
    "                                                      wm811k_new_train_class_Loc_translate,\n",
    "                                                      wm811k_new_train_class_Loc_shearing,\n",
    "                                                      wm811k_new_train_class_Loc_resize\n",
    "                                                     ])\n",
    "wm811k_new_train_class_Loc_augmentation.info()"
   ]
  },
  {
   "cell_type": "code",
   "execution_count": 52,
   "id": "6de39c7f",
   "metadata": {
    "execution": {
     "iopub.execute_input": "2022-04-11T15:19:31.571323Z",
     "iopub.status.busy": "2022-04-11T15:19:31.570362Z",
     "iopub.status.idle": "2022-04-11T15:19:34.248456Z",
     "shell.execute_reply": "2022-04-11T15:19:34.247875Z",
     "shell.execute_reply.started": "2022-04-11T15:19:31.571323Z"
    },
    "tags": []
   },
   "outputs": [
    {
     "name": "stdout",
     "output_type": "stream",
     "text": [
      "<class 'pandas.core.frame.DataFrame'>\n",
      "Int64Index: 609 entries, 602 to 751939\n",
      "Data columns (total 10 columns):\n",
      " #   Column                     Non-Null Count  Dtype  \n",
      "---  ------                     --------------  -----  \n",
      " 0   waferMap                   609 non-null    object \n",
      " 1   dieSize                    609 non-null    float64\n",
      " 2   lotName                    609 non-null    object \n",
      " 3   trianTestLabel             609 non-null    object \n",
      " 4   failureType                609 non-null    object \n",
      " 5   waferMapDim                609 non-null    object \n",
      " 6   failureNum                 609 non-null    object \n",
      " 7   trainTestNum               609 non-null    object \n",
      " 8   waferMap_augmentation      609 non-null    object \n",
      " 9   waferMap_augmentation_Dim  609 non-null    object \n",
      "dtypes: float64(1), object(9)\n",
      "memory usage: 52.3+ KB\n",
      "<class 'pandas.core.frame.DataFrame'>\n",
      "Int64Index: 1827 entries, 602 to 751939\n",
      "Data columns (total 10 columns):\n",
      " #   Column                     Non-Null Count  Dtype  \n",
      "---  ------                     --------------  -----  \n",
      " 0   waferMap                   1827 non-null   object \n",
      " 1   dieSize                    1827 non-null   float64\n",
      " 2   lotName                    1827 non-null   object \n",
      " 3   trianTestLabel             1827 non-null   object \n",
      " 4   failureType                1827 non-null   object \n",
      " 5   waferMapDim                1827 non-null   object \n",
      " 6   failureNum                 1827 non-null   object \n",
      " 7   trainTestNum               1827 non-null   object \n",
      " 8   waferMap_augmentation      1827 non-null   object \n",
      " 9   waferMap_augmentation_Dim  1827 non-null   object \n",
      "dtypes: float64(1), object(9)\n",
      "memory usage: 157.0+ KB\n"
     ]
    },
    {
     "name": "stderr",
     "output_type": "stream",
     "text": [
      "C:\\Users\\kjt\\Anaconda3\\envs\\dlit\\lib\\site-packages\\ipykernel_launcher.py:3: SettingWithCopyWarning: \n",
      "A value is trying to be set on a copy of a slice from a DataFrame.\n",
      "Try using .loc[row_indexer,col_indexer] = value instead\n",
      "\n",
      "See the caveats in the documentation: https://pandas.pydata.org/pandas-docs/stable/user_guide/indexing.html#returning-a-view-versus-a-copy\n",
      "  This is separate from the ipykernel package so we can avoid doing imports until\n",
      "C:\\Users\\kjt\\Anaconda3\\envs\\dlit\\lib\\site-packages\\ipykernel_launcher.py:4: SettingWithCopyWarning: \n",
      "A value is trying to be set on a copy of a slice from a DataFrame.\n",
      "Try using .loc[row_indexer,col_indexer] = value instead\n",
      "\n",
      "See the caveats in the documentation: https://pandas.pydata.org/pandas-docs/stable/user_guide/indexing.html#returning-a-view-versus-a-copy\n",
      "  after removing the cwd from sys.path.\n"
     ]
    },
    {
     "name": "stdout",
     "output_type": "stream",
     "text": [
      "<class 'pandas.core.frame.DataFrame'>\n",
      "Int64Index: 3654 entries, 602 to 751939\n",
      "Data columns (total 10 columns):\n",
      " #   Column                     Non-Null Count  Dtype  \n",
      "---  ------                     --------------  -----  \n",
      " 0   waferMap                   3654 non-null   object \n",
      " 1   dieSize                    3654 non-null   float64\n",
      " 2   lotName                    3654 non-null   object \n",
      " 3   trianTestLabel             3654 non-null   object \n",
      " 4   failureType                3654 non-null   object \n",
      " 5   waferMapDim                3654 non-null   object \n",
      " 6   failureNum                 3654 non-null   object \n",
      " 7   trainTestNum               3654 non-null   object \n",
      " 8   waferMap_augmentation      3654 non-null   object \n",
      " 9   waferMap_augmentation_Dim  3654 non-null   object \n",
      "dtypes: float64(1), object(9)\n",
      "memory usage: 314.0+ KB\n",
      "<class 'pandas.core.frame.DataFrame'>\n",
      "Int64Index: 10000 entries, 602 to 124703\n",
      "Data columns (total 10 columns):\n",
      " #   Column                     Non-Null Count  Dtype  \n",
      "---  ------                     --------------  -----  \n",
      " 0   waferMap                   10000 non-null  object \n",
      " 1   dieSize                    10000 non-null  float64\n",
      " 2   lotName                    10000 non-null  object \n",
      " 3   trianTestLabel             10000 non-null  object \n",
      " 4   failureType                10000 non-null  object \n",
      " 5   waferMapDim                10000 non-null  object \n",
      " 6   failureNum                 10000 non-null  object \n",
      " 7   trainTestNum               10000 non-null  object \n",
      " 8   waferMap_augmentation      10000 non-null  object \n",
      " 9   waferMap_augmentation_Dim  10000 non-null  object \n",
      "dtypes: float64(1), object(9)\n",
      "memory usage: 859.4+ KB\n"
     ]
    }
   ],
   "source": [
    "# Random(5) 현 보유 609개 / 9,391개 augmentation 필요\n",
    "wm811k_new_train_class_Random = wm811k_train.query(\"failureNum == 5\")\n",
    "wm811k_new_train_class_Random[\"waferMap_augmentation\"] = wm811k_new_train_class_Random['waferMap'].apply(lambda x: zero_padding(x,224))\n",
    "wm811k_new_train_class_Random['waferMap_augmentation_Dim']=wm811k_new_train_class_Random['waferMap_augmentation'].apply(find_dim)\n",
    "wm811k_new_train_class_Random.info()\n",
    "\n",
    "# +10도 회전 : 609개\n",
    "wm811k_new_train_class_Random_10 = wm811k_new_train_class_Random.copy()\n",
    "wm811k_new_train_class_Random_10[\"waferMap_augmentation\"] = wm811k_new_train_class_Random_10[\"waferMap\"].apply(lambda x: rotation_10_degree(x))\n",
    "wm811k_new_train_class_Random_10['waferMap_augmentation_Dim']=wm811k_new_train_class_Random_10['waferMap_augmentation'].apply(find_dim)\n",
    "\n",
    "# -10도 회전 : 609개\n",
    "wm811k_new_train_class_Random_minus_10 = wm811k_new_train_class_Random.copy()\n",
    "wm811k_new_train_class_Random_minus_10[\"waferMap_augmentation\"] = wm811k_new_train_class_Random_minus_10[\"waferMap\"].apply(lambda x: rotation_minus_10_degree(x))\n",
    "wm811k_new_train_class_Random_minus_10['waferMap_augmentation_Dim']=wm811k_new_train_class_Random_minus_10['waferMap_augmentation'].apply(find_dim)\n",
    "\n",
    "# 중간 concat : 1827개\n",
    "wm811k_new_train_class_Random_patial_concat1 = pd.concat([wm811k_new_train_class_Random,\n",
    "                                                          wm811k_new_train_class_Random_10,\n",
    "                                                          wm811k_new_train_class_Random_minus_10\n",
    "                                                         ])\n",
    "wm811k_new_train_class_Random_patial_concat1.info()\n",
    "\n",
    "# 좌우 대칭 : 1827개\n",
    "wm811k_new_train_class_Random_flip = wm811k_new_train_class_Random_patial_concat1.copy()\n",
    "wm811k_new_train_class_Random_flip[\"waferMap_augmentation\"] = wm811k_new_train_class_Random_flip[\"waferMap\"].apply(lambda x: filping(x))\n",
    "wm811k_new_train_class_Random_flip['waferMap_augmentation_Dim']=wm811k_new_train_class_Random_flip['waferMap_augmentation'].apply(find_dim)\n",
    "\n",
    "# 중간 concat : 3654개\n",
    "wm811k_new_train_class_Random_patial_concat2 = pd.concat([wm811k_new_train_class_Random,\n",
    "                                                          wm811k_new_train_class_Random_10,\n",
    "                                                          wm811k_new_train_class_Random_minus_10,\n",
    "                                                          wm811k_new_train_class_Random_flip\n",
    "                                                         ])\n",
    "wm811k_new_train_class_Random_patial_concat2.info()\n",
    "\n",
    "# 평행 이동 : 2115개\n",
    "wm811k_new_train_class_Random_translate = wm811k_new_train_class_Random_patial_concat2.sample(n=2115, random_state=2022)\n",
    "wm811k_new_train_class_Random_translate[\"waferMap_augmentation\"] = wm811k_new_train_class_Random_translate[\"waferMap\"].apply(lambda x: translate(x))\n",
    "wm811k_new_train_class_Random_translate['waferMap_augmentation_Dim']=wm811k_new_train_class_Random_translate['waferMap_augmentation'].apply(find_dim)\n",
    "\n",
    "# 전단 범위(shearing range) : 2115개\n",
    "wm811k_new_train_class_Random_shearing = wm811k_new_train_class_Random_patial_concat2.sample(n=2115, random_state=2022)\n",
    "wm811k_new_train_class_Random_shearing[\"waferMap_augmentation\"] = wm811k_new_train_class_Random_shearing[\"waferMap\"].apply(lambda x: shearing(x))\n",
    "wm811k_new_train_class_Random_shearing['waferMap_augmentation_Dim']=wm811k_new_train_class_Random_shearing['waferMap_augmentation'].apply(find_dim)\n",
    "\n",
    "# 확대 : 2116개\n",
    "wm811k_new_train_class_Random_resize = wm811k_new_train_class_Random_patial_concat2.sample(n=2116, random_state=2022)\n",
    "wm811k_new_train_class_Random_resize[\"waferMap_augmentation\"] = wm811k_new_train_class_Random_resize[\"waferMap\"].apply(lambda x: resizing(x))\n",
    "wm811k_new_train_class_Random_resize['waferMap_augmentation_Dim']=wm811k_new_train_class_Random_resize['waferMap_augmentation'].apply(find_dim)\n",
    "\n",
    "# concat\n",
    "wm811k_new_train_class_Random_augmentation = pd.concat([wm811k_new_train_class_Random,\n",
    "                                                        wm811k_new_train_class_Random_10,\n",
    "                                                        wm811k_new_train_class_Random_minus_10,\n",
    "                                                        wm811k_new_train_class_Random_flip,\n",
    "                                                        wm811k_new_train_class_Random_translate,\n",
    "                                                        wm811k_new_train_class_Random_shearing,\n",
    "                                                        wm811k_new_train_class_Random_resize\n",
    "                                                       ])\n",
    "wm811k_new_train_class_Random_augmentation.info()"
   ]
  },
  {
   "cell_type": "code",
   "execution_count": 53,
   "id": "c48288de",
   "metadata": {
    "execution": {
     "iopub.execute_input": "2022-04-11T15:19:34.249471Z",
     "iopub.status.busy": "2022-04-11T15:19:34.249471Z",
     "iopub.status.idle": "2022-04-11T15:19:37.205030Z",
     "shell.execute_reply": "2022-04-11T15:19:37.203976Z",
     "shell.execute_reply.started": "2022-04-11T15:19:34.249471Z"
    },
    "tags": []
   },
   "outputs": [
    {
     "name": "stdout",
     "output_type": "stream",
     "text": [
      "<class 'pandas.core.frame.DataFrame'>\n",
      "Int64Index: 500 entries, 134 to 791228\n",
      "Data columns (total 10 columns):\n",
      " #   Column                     Non-Null Count  Dtype  \n",
      "---  ------                     --------------  -----  \n",
      " 0   waferMap                   500 non-null    object \n",
      " 1   dieSize                    500 non-null    float64\n",
      " 2   lotName                    500 non-null    object \n",
      " 3   trianTestLabel             500 non-null    object \n",
      " 4   failureType                500 non-null    object \n",
      " 5   waferMapDim                500 non-null    object \n",
      " 6   failureNum                 500 non-null    object \n",
      " 7   trainTestNum               500 non-null    object \n",
      " 8   waferMap_augmentation      500 non-null    object \n",
      " 9   waferMap_augmentation_Dim  500 non-null    object \n",
      "dtypes: float64(1), object(9)\n",
      "memory usage: 43.0+ KB\n",
      "<class 'pandas.core.frame.DataFrame'>\n",
      "Int64Index: 1500 entries, 134 to 791228\n",
      "Data columns (total 10 columns):\n",
      " #   Column                     Non-Null Count  Dtype  \n",
      "---  ------                     --------------  -----  \n",
      " 0   waferMap                   1500 non-null   object \n",
      " 1   dieSize                    1500 non-null   float64\n",
      " 2   lotName                    1500 non-null   object \n",
      " 3   trianTestLabel             1500 non-null   object \n",
      " 4   failureType                1500 non-null   object \n",
      " 5   waferMapDim                1500 non-null   object \n",
      " 6   failureNum                 1500 non-null   object \n",
      " 7   trainTestNum               1500 non-null   object \n",
      " 8   waferMap_augmentation      1500 non-null   object \n",
      " 9   waferMap_augmentation_Dim  1500 non-null   object \n",
      "dtypes: float64(1), object(9)\n",
      "memory usage: 128.9+ KB\n"
     ]
    },
    {
     "name": "stderr",
     "output_type": "stream",
     "text": [
      "C:\\Users\\kjt\\Anaconda3\\envs\\dlit\\lib\\site-packages\\ipykernel_launcher.py:3: SettingWithCopyWarning: \n",
      "A value is trying to be set on a copy of a slice from a DataFrame.\n",
      "Try using .loc[row_indexer,col_indexer] = value instead\n",
      "\n",
      "See the caveats in the documentation: https://pandas.pydata.org/pandas-docs/stable/user_guide/indexing.html#returning-a-view-versus-a-copy\n",
      "  This is separate from the ipykernel package so we can avoid doing imports until\n",
      "C:\\Users\\kjt\\Anaconda3\\envs\\dlit\\lib\\site-packages\\ipykernel_launcher.py:4: SettingWithCopyWarning: \n",
      "A value is trying to be set on a copy of a slice from a DataFrame.\n",
      "Try using .loc[row_indexer,col_indexer] = value instead\n",
      "\n",
      "See the caveats in the documentation: https://pandas.pydata.org/pandas-docs/stable/user_guide/indexing.html#returning-a-view-versus-a-copy\n",
      "  after removing the cwd from sys.path.\n"
     ]
    },
    {
     "name": "stdout",
     "output_type": "stream",
     "text": [
      "<class 'pandas.core.frame.DataFrame'>\n",
      "Int64Index: 3000 entries, 134 to 791228\n",
      "Data columns (total 10 columns):\n",
      " #   Column                     Non-Null Count  Dtype  \n",
      "---  ------                     --------------  -----  \n",
      " 0   waferMap                   3000 non-null   object \n",
      " 1   dieSize                    3000 non-null   float64\n",
      " 2   lotName                    3000 non-null   object \n",
      " 3   trianTestLabel             3000 non-null   object \n",
      " 4   failureType                3000 non-null   object \n",
      " 5   waferMapDim                3000 non-null   object \n",
      " 6   failureNum                 3000 non-null   object \n",
      " 7   trainTestNum               3000 non-null   object \n",
      " 8   waferMap_augmentation      3000 non-null   object \n",
      " 9   waferMap_augmentation_Dim  3000 non-null   object \n",
      "dtypes: float64(1), object(9)\n",
      "memory usage: 257.8+ KB\n",
      "<class 'pandas.core.frame.DataFrame'>\n",
      "Int64Index: 6000 entries, 134 to 791228\n",
      "Data columns (total 10 columns):\n",
      " #   Column                     Non-Null Count  Dtype  \n",
      "---  ------                     --------------  -----  \n",
      " 0   waferMap                   6000 non-null   object \n",
      " 1   dieSize                    6000 non-null   float64\n",
      " 2   lotName                    6000 non-null   object \n",
      " 3   trianTestLabel             6000 non-null   object \n",
      " 4   failureType                6000 non-null   object \n",
      " 5   waferMapDim                6000 non-null   object \n",
      " 6   failureNum                 6000 non-null   object \n",
      " 7   trainTestNum               6000 non-null   object \n",
      " 8   waferMap_augmentation      6000 non-null   object \n",
      " 9   waferMap_augmentation_Dim  6000 non-null   object \n",
      "dtypes: float64(1), object(9)\n",
      "memory usage: 515.6+ KB\n",
      "<class 'pandas.core.frame.DataFrame'>\n",
      "Int64Index: 10000 entries, 134 to 358222\n",
      "Data columns (total 10 columns):\n",
      " #   Column                     Non-Null Count  Dtype  \n",
      "---  ------                     --------------  -----  \n",
      " 0   waferMap                   10000 non-null  object \n",
      " 1   dieSize                    10000 non-null  float64\n",
      " 2   lotName                    10000 non-null  object \n",
      " 3   trianTestLabel             10000 non-null  object \n",
      " 4   failureType                10000 non-null  object \n",
      " 5   waferMapDim                10000 non-null  object \n",
      " 6   failureNum                 10000 non-null  object \n",
      " 7   trainTestNum               10000 non-null  object \n",
      " 8   waferMap_augmentation      10000 non-null  object \n",
      " 9   waferMap_augmentation_Dim  10000 non-null  object \n",
      "dtypes: float64(1), object(9)\n",
      "memory usage: 859.4+ KB\n"
     ]
    }
   ],
   "source": [
    "# Scratch(6) 현 보유 500개 / 9,500개 augmentation 필요\n",
    "wm811k_new_train_class_Scratch = wm811k_train.query(\"failureNum == 6\")\n",
    "wm811k_new_train_class_Scratch[\"waferMap_augmentation\"] = wm811k_new_train_class_Scratch['waferMap'].apply(lambda x: zero_padding(x,224))\n",
    "wm811k_new_train_class_Scratch['waferMap_augmentation_Dim']=wm811k_new_train_class_Scratch['waferMap_augmentation'].apply(find_dim)\n",
    "wm811k_new_train_class_Scratch.info()\n",
    "\n",
    "# +10도 회전 : 500개\n",
    "wm811k_new_train_class_Scratch_10 = wm811k_new_train_class_Scratch.copy()\n",
    "wm811k_new_train_class_Scratch_10[\"waferMap_augmentation\"] = wm811k_new_train_class_Scratch_10[\"waferMap\"].apply(lambda x: rotation_10_degree(x))\n",
    "wm811k_new_train_class_Scratch_10['waferMap_augmentation_Dim']=wm811k_new_train_class_Scratch_10['waferMap_augmentation'].apply(find_dim)\n",
    "\n",
    "# -10도 회전 : 500개\n",
    "wm811k_new_train_class_Scratch_minus_10 = wm811k_new_train_class_Scratch.copy()\n",
    "wm811k_new_train_class_Scratch_minus_10[\"waferMap_augmentation\"] = wm811k_new_train_class_Scratch_minus_10[\"waferMap\"].apply(lambda x: rotation_minus_10_degree(x))\n",
    "wm811k_new_train_class_Scratch_minus_10['waferMap_augmentation_Dim']=wm811k_new_train_class_Scratch_minus_10['waferMap_augmentation'].apply(find_dim)\n",
    "\n",
    "# 중간 concat1 : 1500개\n",
    "wm811k_new_train_class_Scratch_patial_concat1 = pd.concat([wm811k_new_train_class_Scratch,\n",
    "                                                           wm811k_new_train_class_Scratch_10,\n",
    "                                                           wm811k_new_train_class_Scratch_minus_10\n",
    "                                                          ])\n",
    "wm811k_new_train_class_Scratch_patial_concat1.info()\n",
    "\n",
    "# 좌우 대칭 : 1500개\n",
    "wm811k_new_train_class_Scratch_flip = wm811k_new_train_class_Scratch_patial_concat1.copy()\n",
    "wm811k_new_train_class_Scratch_flip[\"waferMap_augmentation\"] = wm811k_new_train_class_Scratch_flip[\"waferMap\"].apply(lambda x: filping(x))\n",
    "wm811k_new_train_class_Scratch_flip['waferMap_augmentation_Dim']=wm811k_new_train_class_Scratch_flip['waferMap_augmentation'].apply(find_dim)\n",
    "\n",
    "# 중간 concat2 : 3000개\n",
    "wm811k_new_train_class_Scratch_patial_concat2 = pd.concat([wm811k_new_train_class_Scratch,\n",
    "                                                           wm811k_new_train_class_Scratch_10,\n",
    "                                                           wm811k_new_train_class_Scratch_minus_10,\n",
    "                                                           wm811k_new_train_class_Scratch_flip\n",
    "                                                          ])\n",
    "wm811k_new_train_class_Scratch_patial_concat2.info()\n",
    "\n",
    "# 평행 이동 : 3000개\n",
    "wm811k_new_train_class_Scratch_translate = wm811k_new_train_class_Scratch_patial_concat2.copy()\n",
    "wm811k_new_train_class_Scratch_translate[\"waferMap_augmentation\"] = wm811k_new_train_class_Scratch_translate[\"waferMap\"].apply(lambda x: translate(x))\n",
    "wm811k_new_train_class_Scratch_translate['waferMap_augmentation_Dim']=wm811k_new_train_class_Scratch_translate['waferMap_augmentation'].apply(find_dim)\n",
    "\n",
    "# 중간 concat3 : 6000개\n",
    "wm811k_new_train_class_Scratch_patial_concat3 = pd.concat([wm811k_new_train_class_Scratch,\n",
    "                                                           wm811k_new_train_class_Scratch_10,\n",
    "                                                           wm811k_new_train_class_Scratch_minus_10,\n",
    "                                                           wm811k_new_train_class_Scratch_flip,\n",
    "                                                           wm811k_new_train_class_Scratch_translate\n",
    "                                                          ])\n",
    "wm811k_new_train_class_Scratch_patial_concat3.info()\n",
    "\n",
    "# 전단 범위(shearing range) : 2000개\n",
    "wm811k_new_train_class_Scratch_shearing = wm811k_new_train_class_Scratch_patial_concat3.sample(n=2000, random_state=2022)\n",
    "wm811k_new_train_class_Scratch_shearing[\"waferMap_augmentation\"] = wm811k_new_train_class_Scratch_shearing[\"waferMap\"].apply(lambda x: shearing(x))\n",
    "wm811k_new_train_class_Scratch_shearing['waferMap_augmentation_Dim']=wm811k_new_train_class_Scratch_shearing['waferMap_augmentation'].apply(find_dim)\n",
    "\n",
    "# 확대 : 2000개\n",
    "wm811k_new_train_class_Scratch_resize = wm811k_new_train_class_Scratch_patial_concat3.sample(n=2000, random_state=2022)\n",
    "wm811k_new_train_class_Scratch_resize[\"waferMap_augmentation\"] = wm811k_new_train_class_Scratch_resize[\"waferMap\"].apply(lambda x: resizing(x))\n",
    "wm811k_new_train_class_Scratch_resize['waferMap_augmentation_Dim']=wm811k_new_train_class_Scratch_resize['waferMap_augmentation'].apply(find_dim)\n",
    "\n",
    "# concat\n",
    "wm811k_new_train_class_Scratch_augmentation = pd.concat([wm811k_new_train_class_Scratch,\n",
    "                                                         wm811k_new_train_class_Scratch_10,\n",
    "                                                         wm811k_new_train_class_Scratch_minus_10,\n",
    "                                                         wm811k_new_train_class_Scratch_flip,\n",
    "                                                         wm811k_new_train_class_Scratch_translate,\n",
    "                                                         wm811k_new_train_class_Scratch_shearing,\n",
    "                                                         wm811k_new_train_class_Scratch_resize\n",
    "                                                        ])\n",
    "wm811k_new_train_class_Scratch_augmentation.info()"
   ]
  },
  {
   "cell_type": "code",
   "execution_count": 54,
   "id": "e57e1f76",
   "metadata": {
    "execution": {
     "iopub.execute_input": "2022-04-11T15:19:37.206028Z",
     "iopub.status.busy": "2022-04-11T15:19:37.206028Z",
     "iopub.status.idle": "2022-04-11T15:19:41.653725Z",
     "shell.execute_reply": "2022-04-11T15:19:41.652976Z",
     "shell.execute_reply.started": "2022-04-11T15:19:37.206028Z"
    },
    "tags": []
   },
   "outputs": [
    {
     "name": "stdout",
     "output_type": "stream",
     "text": [
      "<class 'pandas.core.frame.DataFrame'>\n",
      "Int64Index: 409 entries, 7316 to 747563\n",
      "Data columns (total 10 columns):\n",
      " #   Column                     Non-Null Count  Dtype  \n",
      "---  ------                     --------------  -----  \n",
      " 0   waferMap                   409 non-null    object \n",
      " 1   dieSize                    409 non-null    float64\n",
      " 2   lotName                    409 non-null    object \n",
      " 3   trianTestLabel             409 non-null    object \n",
      " 4   failureType                409 non-null    object \n",
      " 5   waferMapDim                409 non-null    object \n",
      " 6   failureNum                 409 non-null    object \n",
      " 7   trainTestNum               409 non-null    object \n",
      " 8   waferMap_augmentation      409 non-null    object \n",
      " 9   waferMap_augmentation_Dim  409 non-null    object \n",
      "dtypes: float64(1), object(9)\n",
      "memory usage: 35.1+ KB\n",
      "<class 'pandas.core.frame.DataFrame'>\n",
      "Int64Index: 1227 entries, 7316 to 747563\n",
      "Data columns (total 10 columns):\n",
      " #   Column                     Non-Null Count  Dtype  \n",
      "---  ------                     --------------  -----  \n",
      " 0   waferMap                   1227 non-null   object \n",
      " 1   dieSize                    1227 non-null   float64\n",
      " 2   lotName                    1227 non-null   object \n",
      " 3   trianTestLabel             1227 non-null   object \n",
      " 4   failureType                1227 non-null   object \n",
      " 5   waferMapDim                1227 non-null   object \n",
      " 6   failureNum                 1227 non-null   object \n",
      " 7   trainTestNum               1227 non-null   object \n",
      " 8   waferMap_augmentation      1227 non-null   object \n",
      " 9   waferMap_augmentation_Dim  1227 non-null   object \n",
      "dtypes: float64(1), object(9)\n",
      "memory usage: 105.4+ KB\n"
     ]
    },
    {
     "name": "stderr",
     "output_type": "stream",
     "text": [
      "C:\\Users\\kjt\\Anaconda3\\envs\\dlit\\lib\\site-packages\\ipykernel_launcher.py:3: SettingWithCopyWarning: \n",
      "A value is trying to be set on a copy of a slice from a DataFrame.\n",
      "Try using .loc[row_indexer,col_indexer] = value instead\n",
      "\n",
      "See the caveats in the documentation: https://pandas.pydata.org/pandas-docs/stable/user_guide/indexing.html#returning-a-view-versus-a-copy\n",
      "  This is separate from the ipykernel package so we can avoid doing imports until\n",
      "C:\\Users\\kjt\\Anaconda3\\envs\\dlit\\lib\\site-packages\\ipykernel_launcher.py:4: SettingWithCopyWarning: \n",
      "A value is trying to be set on a copy of a slice from a DataFrame.\n",
      "Try using .loc[row_indexer,col_indexer] = value instead\n",
      "\n",
      "See the caveats in the documentation: https://pandas.pydata.org/pandas-docs/stable/user_guide/indexing.html#returning-a-view-versus-a-copy\n",
      "  after removing the cwd from sys.path.\n"
     ]
    },
    {
     "name": "stdout",
     "output_type": "stream",
     "text": [
      "<class 'pandas.core.frame.DataFrame'>\n",
      "Int64Index: 2454 entries, 7316 to 747563\n",
      "Data columns (total 10 columns):\n",
      " #   Column                     Non-Null Count  Dtype  \n",
      "---  ------                     --------------  -----  \n",
      " 0   waferMap                   2454 non-null   object \n",
      " 1   dieSize                    2454 non-null   float64\n",
      " 2   lotName                    2454 non-null   object \n",
      " 3   trianTestLabel             2454 non-null   object \n",
      " 4   failureType                2454 non-null   object \n",
      " 5   waferMapDim                2454 non-null   object \n",
      " 6   failureNum                 2454 non-null   object \n",
      " 7   trainTestNum               2454 non-null   object \n",
      " 8   waferMap_augmentation      2454 non-null   object \n",
      " 9   waferMap_augmentation_Dim  2454 non-null   object \n",
      "dtypes: float64(1), object(9)\n",
      "memory usage: 210.9+ KB\n",
      "<class 'pandas.core.frame.DataFrame'>\n",
      "Int64Index: 4908 entries, 7316 to 747563\n",
      "Data columns (total 10 columns):\n",
      " #   Column                     Non-Null Count  Dtype  \n",
      "---  ------                     --------------  -----  \n",
      " 0   waferMap                   4908 non-null   object \n",
      " 1   dieSize                    4908 non-null   float64\n",
      " 2   lotName                    4908 non-null   object \n",
      " 3   trianTestLabel             4908 non-null   object \n",
      " 4   failureType                4908 non-null   object \n",
      " 5   waferMapDim                4908 non-null   object \n",
      " 6   failureNum                 4908 non-null   object \n",
      " 7   trainTestNum               4908 non-null   object \n",
      " 8   waferMap_augmentation      4908 non-null   object \n",
      " 9   waferMap_augmentation_Dim  4908 non-null   object \n",
      "dtypes: float64(1), object(9)\n",
      "memory usage: 421.8+ KB\n",
      "<class 'pandas.core.frame.DataFrame'>\n",
      "Int64Index: 9816 entries, 7316 to 747563\n",
      "Data columns (total 10 columns):\n",
      " #   Column                     Non-Null Count  Dtype  \n",
      "---  ------                     --------------  -----  \n",
      " 0   waferMap                   9816 non-null   object \n",
      " 1   dieSize                    9816 non-null   float64\n",
      " 2   lotName                    9816 non-null   object \n",
      " 3   trianTestLabel             9816 non-null   object \n",
      " 4   failureType                9816 non-null   object \n",
      " 5   waferMapDim                9816 non-null   object \n",
      " 6   failureNum                 9816 non-null   object \n",
      " 7   trainTestNum               9816 non-null   object \n",
      " 8   waferMap_augmentation      9816 non-null   object \n",
      " 9   waferMap_augmentation_Dim  9816 non-null   object \n",
      "dtypes: float64(1), object(9)\n",
      "memory usage: 843.6+ KB\n",
      "<class 'pandas.core.frame.DataFrame'>\n",
      "Int64Index: 10000 entries, 7316 to 279392\n",
      "Data columns (total 10 columns):\n",
      " #   Column                     Non-Null Count  Dtype  \n",
      "---  ------                     --------------  -----  \n",
      " 0   waferMap                   10000 non-null  object \n",
      " 1   dieSize                    10000 non-null  float64\n",
      " 2   lotName                    10000 non-null  object \n",
      " 3   trianTestLabel             10000 non-null  object \n",
      " 4   failureType                10000 non-null  object \n",
      " 5   waferMapDim                10000 non-null  object \n",
      " 6   failureNum                 10000 non-null  object \n",
      " 7   trainTestNum               10000 non-null  object \n",
      " 8   waferMap_augmentation      10000 non-null  object \n",
      " 9   waferMap_augmentation_Dim  10000 non-null  object \n",
      "dtypes: float64(1), object(9)\n",
      "memory usage: 859.4+ KB\n"
     ]
    }
   ],
   "source": [
    "# Donut(1) 현 보유 409개 / 9,591개 augmentation 필요\n",
    "wm811k_new_train_class_Donut = wm811k_train.query(\"failureNum == 1\")\n",
    "wm811k_new_train_class_Donut[\"waferMap_augmentation\"] = wm811k_new_train_class_Donut['waferMap'].apply(lambda x: zero_padding(x,224))\n",
    "wm811k_new_train_class_Donut['waferMap_augmentation_Dim']=wm811k_new_train_class_Donut['waferMap_augmentation'].apply(find_dim)\n",
    "wm811k_new_train_class_Donut.info()\n",
    "\n",
    "# +10도 회전 : 409개\n",
    "wm811k_new_train_class_Donut_10 = wm811k_new_train_class_Donut.copy()\n",
    "wm811k_new_train_class_Donut_10[\"waferMap_augmentation\"] = wm811k_new_train_class_Donut_10[\"waferMap\"].apply(lambda x: rotation_10_degree(x))\n",
    "wm811k_new_train_class_Donut_10['waferMap_augmentation_Dim']=wm811k_new_train_class_Donut_10['waferMap_augmentation'].apply(find_dim)\n",
    "\n",
    "# -10도 회전 : 409개\n",
    "wm811k_new_train_class_Donut_minus_10 = wm811k_new_train_class_Donut.copy()\n",
    "wm811k_new_train_class_Donut_minus_10[\"waferMap_augmentation\"] = wm811k_new_train_class_Donut_minus_10[\"waferMap\"].apply(lambda x: rotation_minus_10_degree(x))\n",
    "wm811k_new_train_class_Donut_minus_10['waferMap_augmentation_Dim']=wm811k_new_train_class_Donut_minus_10['waferMap_augmentation'].apply(find_dim)\n",
    "\n",
    "# 중간 concat1 : 1227개\n",
    "wm811k_new_train_class_Donut_patial_concat1 = pd.concat([wm811k_new_train_class_Donut,\n",
    "                                                         wm811k_new_train_class_Donut_10,\n",
    "                                                         wm811k_new_train_class_Donut_minus_10\n",
    "                                                        ])\n",
    "wm811k_new_train_class_Donut_patial_concat1.info()\n",
    "\n",
    "# 좌우 대칭 : 1227개\n",
    "wm811k_new_train_class_Donut_flip = wm811k_new_train_class_Donut_patial_concat1.copy()\n",
    "wm811k_new_train_class_Donut_flip[\"waferMap_augmentation\"] = wm811k_new_train_class_Donut_flip[\"waferMap\"].apply(lambda x: filping(x))\n",
    "wm811k_new_train_class_Donut_flip['waferMap_augmentation_Dim']=wm811k_new_train_class_Donut_flip['waferMap_augmentation'].apply(find_dim)\n",
    "\n",
    "# 중간 concat2 : 2454개\n",
    "wm811k_new_train_class_Donut_patial_concat2 = pd.concat([wm811k_new_train_class_Donut,\n",
    "                                                         wm811k_new_train_class_Donut_10,\n",
    "                                                         wm811k_new_train_class_Donut_minus_10,\n",
    "                                                         wm811k_new_train_class_Donut_flip\n",
    "                                                        ])\n",
    "wm811k_new_train_class_Donut_patial_concat2.info()\n",
    "\n",
    "# 평행 이동 : 2454개\n",
    "wm811k_new_train_class_Donut_translate = wm811k_new_train_class_Donut_patial_concat2.copy()\n",
    "wm811k_new_train_class_Donut_translate[\"waferMap_augmentation\"] = wm811k_new_train_class_Donut_translate[\"waferMap\"].apply(lambda x: translate(x))\n",
    "wm811k_new_train_class_Donut_translate['waferMap_augmentation_Dim']=wm811k_new_train_class_Donut_translate['waferMap_augmentation'].apply(find_dim)\n",
    "\n",
    "# 중간 concat3 : 4908개\n",
    "wm811k_new_train_class_Donut_patial_concat3 = pd.concat([wm811k_new_train_class_Donut,\n",
    "                                                         wm811k_new_train_class_Donut_10,\n",
    "                                                         wm811k_new_train_class_Donut_minus_10,\n",
    "                                                         wm811k_new_train_class_Donut_flip,\n",
    "                                                         wm811k_new_train_class_Donut_translate\n",
    "                                                        ])\n",
    "wm811k_new_train_class_Donut_patial_concat3.info()\n",
    "\n",
    "# 전단 범위(shearing range) : 4908개\n",
    "wm811k_new_train_class_Donut_shearing = wm811k_new_train_class_Donut_patial_concat3.copy()\n",
    "wm811k_new_train_class_Donut_shearing[\"waferMap_augmentation\"] = wm811k_new_train_class_Donut_shearing[\"waferMap\"].apply(lambda x: shearing(x))\n",
    "wm811k_new_train_class_Donut_shearing['waferMap_augmentation_Dim']=wm811k_new_train_class_Donut_shearing['waferMap_augmentation'].apply(find_dim)\n",
    "\n",
    "# 중간 concat4 : 9816개\n",
    "wm811k_new_train_class_Donut_patial_concat4 = pd.concat([wm811k_new_train_class_Donut,\n",
    "                                                         wm811k_new_train_class_Donut_10,\n",
    "                                                         wm811k_new_train_class_Donut_minus_10,\n",
    "                                                         wm811k_new_train_class_Donut_flip,\n",
    "                                                         wm811k_new_train_class_Donut_translate,\n",
    "                                                         wm811k_new_train_class_Donut_shearing\n",
    "                                                        ])\n",
    "wm811k_new_train_class_Donut_patial_concat4.info()\n",
    "\n",
    "# 확대 : 184개\n",
    "wm811k_new_train_class_Donut_resize = wm811k_new_train_class_Donut_patial_concat4.sample(n=184, random_state=2022)\n",
    "wm811k_new_train_class_Donut_resize[\"waferMap_augmentation\"] = wm811k_new_train_class_Donut_resize[\"waferMap\"].apply(lambda x: resizing(x))\n",
    "wm811k_new_train_class_Donut_resize['waferMap_augmentation_Dim']=wm811k_new_train_class_Donut_resize['waferMap_augmentation'].apply(find_dim)\n",
    "\n",
    "# concat\n",
    "wm811k_new_train_class_Donut_augmentation = pd.concat([wm811k_new_train_class_Donut,\n",
    "                                                       wm811k_new_train_class_Donut_10,\n",
    "                                                       wm811k_new_train_class_Donut_minus_10,\n",
    "                                                       wm811k_new_train_class_Donut_flip,\n",
    "                                                       wm811k_new_train_class_Donut_translate,\n",
    "                                                       wm811k_new_train_class_Donut_shearing,\n",
    "                                                       wm811k_new_train_class_Donut_resize\n",
    "                                                      ])\n",
    "wm811k_new_train_class_Donut_augmentation.info()"
   ]
  },
  {
   "cell_type": "code",
   "execution_count": 55,
   "id": "4c3a2912",
   "metadata": {
    "execution": {
     "iopub.execute_input": "2022-04-11T15:19:41.654225Z",
     "iopub.status.busy": "2022-04-11T15:19:41.654225Z",
     "iopub.status.idle": "2022-04-11T15:19:43.596502Z",
     "shell.execute_reply": "2022-04-11T15:19:43.594988Z",
     "shell.execute_reply.started": "2022-04-11T15:19:41.654225Z"
    },
    "tags": []
   },
   "outputs": [
    {
     "name": "stdout",
     "output_type": "stream",
     "text": [
      "<class 'pandas.core.frame.DataFrame'>\n",
      "Int64Index: 54 entries, 929 to 785955\n",
      "Data columns (total 10 columns):\n",
      " #   Column                     Non-Null Count  Dtype  \n",
      "---  ------                     --------------  -----  \n",
      " 0   waferMap                   54 non-null     object \n",
      " 1   dieSize                    54 non-null     float64\n",
      " 2   lotName                    54 non-null     object \n",
      " 3   trianTestLabel             54 non-null     object \n",
      " 4   failureType                54 non-null     object \n",
      " 5   waferMapDim                54 non-null     object \n",
      " 6   failureNum                 54 non-null     object \n",
      " 7   trainTestNum               54 non-null     object \n",
      " 8   waferMap_augmentation      54 non-null     object \n",
      " 9   waferMap_augmentation_Dim  54 non-null     object \n",
      "dtypes: float64(1), object(9)\n",
      "memory usage: 4.6+ KB\n",
      "<class 'pandas.core.frame.DataFrame'>\n",
      "Int64Index: 162 entries, 929 to 785955\n",
      "Data columns (total 10 columns):\n",
      " #   Column                     Non-Null Count  Dtype  \n",
      "---  ------                     --------------  -----  \n",
      " 0   waferMap                   162 non-null    object \n",
      " 1   dieSize                    162 non-null    float64\n",
      " 2   lotName                    162 non-null    object \n",
      " 3   trianTestLabel             162 non-null    object \n",
      " 4   failureType                162 non-null    object \n",
      " 5   waferMapDim                162 non-null    object \n",
      " 6   failureNum                 162 non-null    object \n",
      " 7   trainTestNum               162 non-null    object \n",
      " 8   waferMap_augmentation      162 non-null    object \n",
      " 9   waferMap_augmentation_Dim  162 non-null    object \n",
      "dtypes: float64(1), object(9)\n",
      "memory usage: 13.9+ KB\n",
      "<class 'pandas.core.frame.DataFrame'>\n",
      "Int64Index: 324 entries, 929 to 785955\n",
      "Data columns (total 10 columns):\n",
      " #   Column                     Non-Null Count  Dtype  \n",
      "---  ------                     --------------  -----  \n",
      " 0   waferMap                   324 non-null    object \n",
      " 1   dieSize                    324 non-null    float64\n",
      " 2   lotName                    324 non-null    object \n",
      " 3   trianTestLabel             324 non-null    object \n",
      " 4   failureType                324 non-null    object \n",
      " 5   waferMapDim                324 non-null    object \n",
      " 6   failureNum                 324 non-null    object \n",
      " 7   trainTestNum               324 non-null    object \n",
      " 8   waferMap_augmentation      324 non-null    object \n",
      " 9   waferMap_augmentation_Dim  324 non-null    object \n",
      "dtypes: float64(1), object(9)\n",
      "memory usage: 27.8+ KB\n"
     ]
    },
    {
     "name": "stderr",
     "output_type": "stream",
     "text": [
      "C:\\Users\\kjt\\Anaconda3\\envs\\dlit\\lib\\site-packages\\ipykernel_launcher.py:3: SettingWithCopyWarning: \n",
      "A value is trying to be set on a copy of a slice from a DataFrame.\n",
      "Try using .loc[row_indexer,col_indexer] = value instead\n",
      "\n",
      "See the caveats in the documentation: https://pandas.pydata.org/pandas-docs/stable/user_guide/indexing.html#returning-a-view-versus-a-copy\n",
      "  This is separate from the ipykernel package so we can avoid doing imports until\n",
      "C:\\Users\\kjt\\Anaconda3\\envs\\dlit\\lib\\site-packages\\ipykernel_launcher.py:4: SettingWithCopyWarning: \n",
      "A value is trying to be set on a copy of a slice from a DataFrame.\n",
      "Try using .loc[row_indexer,col_indexer] = value instead\n",
      "\n",
      "See the caveats in the documentation: https://pandas.pydata.org/pandas-docs/stable/user_guide/indexing.html#returning-a-view-versus-a-copy\n",
      "  after removing the cwd from sys.path.\n"
     ]
    },
    {
     "name": "stdout",
     "output_type": "stream",
     "text": [
      "<class 'pandas.core.frame.DataFrame'>\n",
      "Int64Index: 648 entries, 929 to 785955\n",
      "Data columns (total 10 columns):\n",
      " #   Column                     Non-Null Count  Dtype  \n",
      "---  ------                     --------------  -----  \n",
      " 0   waferMap                   648 non-null    object \n",
      " 1   dieSize                    648 non-null    float64\n",
      " 2   lotName                    648 non-null    object \n",
      " 3   trianTestLabel             648 non-null    object \n",
      " 4   failureType                648 non-null    object \n",
      " 5   waferMapDim                648 non-null    object \n",
      " 6   failureNum                 648 non-null    object \n",
      " 7   trainTestNum               648 non-null    object \n",
      " 8   waferMap_augmentation      648 non-null    object \n",
      " 9   waferMap_augmentation_Dim  648 non-null    object \n",
      "dtypes: float64(1), object(9)\n",
      "memory usage: 55.7+ KB\n",
      "<class 'pandas.core.frame.DataFrame'>\n",
      "Int64Index: 1296 entries, 929 to 785955\n",
      "Data columns (total 10 columns):\n",
      " #   Column                     Non-Null Count  Dtype  \n",
      "---  ------                     --------------  -----  \n",
      " 0   waferMap                   1296 non-null   object \n",
      " 1   dieSize                    1296 non-null   float64\n",
      " 2   lotName                    1296 non-null   object \n",
      " 3   trianTestLabel             1296 non-null   object \n",
      " 4   failureType                1296 non-null   object \n",
      " 5   waferMapDim                1296 non-null   object \n",
      " 6   failureNum                 1296 non-null   object \n",
      " 7   trainTestNum               1296 non-null   object \n",
      " 8   waferMap_augmentation      1296 non-null   object \n",
      " 9   waferMap_augmentation_Dim  1296 non-null   object \n",
      "dtypes: float64(1), object(9)\n",
      "memory usage: 111.4+ KB\n",
      "<class 'pandas.core.frame.DataFrame'>\n",
      "Int64Index: 2592 entries, 929 to 785955\n",
      "Data columns (total 10 columns):\n",
      " #   Column                     Non-Null Count  Dtype  \n",
      "---  ------                     --------------  -----  \n",
      " 0   waferMap                   2592 non-null   object \n",
      " 1   dieSize                    2592 non-null   float64\n",
      " 2   lotName                    2592 non-null   object \n",
      " 3   trianTestLabel             2592 non-null   object \n",
      " 4   failureType                2592 non-null   object \n",
      " 5   waferMapDim                2592 non-null   object \n",
      " 6   failureNum                 2592 non-null   object \n",
      " 7   trainTestNum               2592 non-null   object \n",
      " 8   waferMap_augmentation      2592 non-null   object \n",
      " 9   waferMap_augmentation_Dim  2592 non-null   object \n",
      "dtypes: float64(1), object(9)\n",
      "memory usage: 222.8+ KB\n",
      "<class 'pandas.core.frame.DataFrame'>\n",
      "Int64Index: 10000 entries, 929 to 699791\n",
      "Data columns (total 10 columns):\n",
      " #   Column                     Non-Null Count  Dtype  \n",
      "---  ------                     --------------  -----  \n",
      " 0   waferMap                   10000 non-null  object \n",
      " 1   dieSize                    10000 non-null  float64\n",
      " 2   lotName                    10000 non-null  object \n",
      " 3   trianTestLabel             10000 non-null  object \n",
      " 4   failureType                10000 non-null  object \n",
      " 5   waferMapDim                10000 non-null  object \n",
      " 6   failureNum                 10000 non-null  object \n",
      " 7   trainTestNum               10000 non-null  object \n",
      " 8   waferMap_augmentation      10000 non-null  object \n",
      " 9   waferMap_augmentation_Dim  10000 non-null  object \n",
      "dtypes: float64(1), object(9)\n",
      "memory usage: 859.4+ KB\n"
     ]
    }
   ],
   "source": [
    "# Near-full(7) 현 보유 54개 / 9,946개 augmentation 필요\n",
    "wm811k_new_train_class_Near_Full = wm811k_train.query(\"failureNum == 7\")\n",
    "wm811k_new_train_class_Near_Full[\"waferMap_augmentation\"] = wm811k_new_train_class_Near_Full['waferMap'].apply(lambda x: zero_padding(x,224))\n",
    "wm811k_new_train_class_Near_Full['waferMap_augmentation_Dim']=wm811k_new_train_class_Near_Full['waferMap_augmentation'].apply(find_dim)\n",
    "wm811k_new_train_class_Near_Full.info()\n",
    "\n",
    "# +10도 회전 : 54개\n",
    "wm811k_new_train_class_Near_Full_10 = wm811k_new_train_class_Near_Full.copy()\n",
    "wm811k_new_train_class_Near_Full_10[\"waferMap_augmentation\"] = wm811k_new_train_class_Near_Full_10[\"waferMap\"].apply(lambda x: rotation_10_degree(x))\n",
    "wm811k_new_train_class_Near_Full_10['waferMap_augmentation_Dim']=wm811k_new_train_class_Near_Full_10['waferMap_augmentation'].apply(find_dim)\n",
    "\n",
    "# -10도 회전 : 54개\n",
    "wm811k_new_train_class_Near_Full_minus_10 = wm811k_new_train_class_Near_Full.copy()\n",
    "wm811k_new_train_class_Near_Full_minus_10[\"waferMap_augmentation\"] = wm811k_new_train_class_Near_Full_minus_10[\"waferMap\"].apply(lambda x: rotation_minus_10_degree(x))\n",
    "wm811k_new_train_class_Near_Full_minus_10['waferMap_augmentation_Dim']= wm811k_new_train_class_Near_Full_minus_10['waferMap_augmentation'].apply(find_dim)\n",
    "\n",
    "# 중간 concat1 : 162개\n",
    "wm811k_new_train_class_Near_Full_patial_concat1 = pd.concat([wm811k_new_train_class_Near_Full,\n",
    "                                                             wm811k_new_train_class_Near_Full_10,\n",
    "                                                             wm811k_new_train_class_Near_Full_minus_10\n",
    "                                                            ])\n",
    "wm811k_new_train_class_Near_Full_patial_concat1.info()\n",
    "\n",
    "# 좌우 대칭 : 162개\n",
    "wm811k_new_train_class_Near_Full_flip = wm811k_new_train_class_Near_Full_patial_concat1.copy()\n",
    "wm811k_new_train_class_Near_Full_flip[\"waferMap_augmentation\"] = wm811k_new_train_class_Near_Full_flip[\"waferMap\"].apply(lambda x: filping(x))\n",
    "wm811k_new_train_class_Near_Full_flip['waferMap_augmentation_Dim']=wm811k_new_train_class_Near_Full_flip['waferMap_augmentation'].apply(find_dim)\n",
    "\n",
    "# 중간 concat2 : 324개\n",
    "wm811k_new_train_class_Near_Full_patial_concat2 = pd.concat([wm811k_new_train_class_Near_Full,\n",
    "                                                             wm811k_new_train_class_Near_Full_10,\n",
    "                                                             wm811k_new_train_class_Near_Full_minus_10,\n",
    "                                                             wm811k_new_train_class_Near_Full_flip\n",
    "                                                            ])\n",
    "wm811k_new_train_class_Near_Full_patial_concat2.info()\n",
    "\n",
    "# 평행 이동 : 324개\n",
    "wm811k_new_train_class_Near_Full_translate = wm811k_new_train_class_Near_Full_patial_concat2.copy()\n",
    "wm811k_new_train_class_Near_Full_translate[\"waferMap_augmentation\"] = wm811k_new_train_class_Near_Full_translate[\"waferMap\"].apply(lambda x: translate(x))\n",
    "wm811k_new_train_class_Near_Full_translate['waferMap_augmentation_Dim']= wm811k_new_train_class_Near_Full_translate['waferMap_augmentation'].apply(find_dim)\n",
    "\n",
    "# 중간 concat3 : 648개\n",
    "wm811k_new_train_class_Near_Full_patial_concat3 = pd.concat([wm811k_new_train_class_Near_Full,\n",
    "                                                             wm811k_new_train_class_Near_Full_10,\n",
    "                                                             wm811k_new_train_class_Near_Full_minus_10,\n",
    "                                                             wm811k_new_train_class_Near_Full_flip,\n",
    "                                                             wm811k_new_train_class_Near_Full_translate\n",
    "                                                            ])\n",
    "wm811k_new_train_class_Near_Full_patial_concat3.info()\n",
    "\n",
    "# 전단 범위(shearing range) : 648개\n",
    "wm811k_new_train_class_Near_Full_shearing = wm811k_new_train_class_Near_Full_patial_concat3.copy()\n",
    "wm811k_new_train_class_Near_Full_shearing[\"waferMap_augmentation\"] = wm811k_new_train_class_Near_Full_shearing[\"waferMap\"].apply(lambda x: shearing(x))\n",
    "wm811k_new_train_class_Near_Full_shearing['waferMap_augmentation_Dim']=wm811k_new_train_class_Near_Full_shearing['waferMap_augmentation'].apply(find_dim)\n",
    "\n",
    "# 중간 concat4 : 1296개\n",
    "wm811k_new_train_class_Near_Full_patial_concat4 = pd.concat([wm811k_new_train_class_Near_Full,\n",
    "                                                             wm811k_new_train_class_Near_Full_10,\n",
    "                                                             wm811k_new_train_class_Near_Full_minus_10,\n",
    "                                                             wm811k_new_train_class_Near_Full_flip,\n",
    "                                                             wm811k_new_train_class_Near_Full_translate,\n",
    "                                                             wm811k_new_train_class_Near_Full_shearing\n",
    "                                                            ])\n",
    "wm811k_new_train_class_Near_Full_patial_concat4.info()\n",
    "\n",
    "# 확대 : 1296개\n",
    "wm811k_new_train_class_Near_Full_resize = wm811k_new_train_class_Near_Full_patial_concat4.copy()\n",
    "wm811k_new_train_class_Near_Full_resize[\"waferMap_augmentation\"] = wm811k_new_train_class_Near_Full_resize[\"waferMap\"].apply(lambda x: resizing(x))\n",
    "wm811k_new_train_class_Near_Full_resize['waferMap_augmentation_Dim'] = wm811k_new_train_class_Near_Full_resize['waferMap_augmentation'].apply(find_dim)\n",
    "\n",
    "# 중간 concat5 : 2592개\n",
    "wm811k_new_train_class_Near_Full_patial_concat5 = pd.concat([wm811k_new_train_class_Near_Full,\n",
    "                                                             wm811k_new_train_class_Near_Full_10,\n",
    "                                                             wm811k_new_train_class_Near_Full_minus_10,\n",
    "                                                             wm811k_new_train_class_Near_Full_flip,\n",
    "                                                             wm811k_new_train_class_Near_Full_translate,\n",
    "                                                             wm811k_new_train_class_Near_Full_shearing,\n",
    "                                                             wm811k_new_train_class_Near_Full_resize\n",
    "                                                            ])\n",
    "wm811k_new_train_class_Near_Full_patial_concat5.info()\n",
    "\n",
    "\n",
    "# 남은 데이터 7408개 : size 변동의 위험이 있는 shearing과 resize를 제외한 rotation, flip, translate로 나머지 부족한 데이터 증강\n",
    "# 10도 회전 추가\n",
    "wm811k_new_train_class_Near_Full_10_2 = wm811k_new_train_class_Near_Full_patial_concat5.sample(n=1852, random_state=2022)\n",
    "wm811k_new_train_class_Near_Full_10_2[\"waferMap_augmentation\"] = wm811k_new_train_class_Near_Full_10_2[\"waferMap\"].apply(lambda x: rotation_10_degree(x))\n",
    "wm811k_new_train_class_Near_Full_10_2['waferMap_augmentation_Dim']=wm811k_new_train_class_Near_Full_10_2['waferMap_augmentation'].apply(find_dim)\n",
    "\n",
    "# -10도 회전 추가\n",
    "wm811k_new_train_class_Near_Full_minus_10_2 = wm811k_new_train_class_Near_Full_patial_concat5.sample(n=1852, random_state=2022)\n",
    "wm811k_new_train_class_Near_Full_minus_10_2[\"waferMap_augmentation\"] = wm811k_new_train_class_Near_Full_minus_10_2[\"waferMap\"].apply(lambda x: rotation_minus_10_degree(x))\n",
    "wm811k_new_train_class_Near_Full_minus_10_2['waferMap_augmentation_Dim']=wm811k_new_train_class_Near_Full_minus_10_2['waferMap_augmentation'].apply(find_dim)\n",
    "\n",
    "# flip 추가\n",
    "wm811k_new_train_class_Near_Full_flip_2 = wm811k_new_train_class_Near_Full_patial_concat5.sample(n=1852, random_state=2022)\n",
    "wm811k_new_train_class_Near_Full_flip_2[\"waferMap_augmentation\"] = wm811k_new_train_class_Near_Full_flip_2[\"waferMap\"].apply(lambda x: filping(x))\n",
    "wm811k_new_train_class_Near_Full_flip_2['waferMap_augmentation_Dim']=wm811k_new_train_class_Near_Full_flip_2['waferMap_augmentation'].apply(find_dim)\n",
    "\n",
    "\n",
    "# 평행이동 추가\n",
    "wm811k_new_train_class_Near_Full_translate_2 = wm811k_new_train_class_Near_Full_patial_concat5.sample(n=1852, random_state=2022)\n",
    "wm811k_new_train_class_Near_Full_translate_2[\"waferMap_augmentation\"] = wm811k_new_train_class_Near_Full_translate_2[\"waferMap\"].apply(lambda x: translate(x))\n",
    "wm811k_new_train_class_Near_Full_translate_2['waferMap_augmentation_Dim']=wm811k_new_train_class_Near_Full_translate_2['waferMap_augmentation'].apply(find_dim)\n",
    "\n",
    "# concat\n",
    "wm811k_new_train_class_Near_Full_augmentation = pd.concat([wm811k_new_train_class_Near_Full,\n",
    "                                                           wm811k_new_train_class_Near_Full_10,\n",
    "                                                           wm811k_new_train_class_Near_Full_minus_10,\n",
    "                                                           wm811k_new_train_class_Near_Full_flip,\n",
    "                                                           wm811k_new_train_class_Near_Full_translate,\n",
    "                                                           wm811k_new_train_class_Near_Full_shearing,\n",
    "                                                           wm811k_new_train_class_Near_Full_resize,\n",
    "                                                           wm811k_new_train_class_Near_Full_10_2,\n",
    "                                                           wm811k_new_train_class_Near_Full_minus_10_2,\n",
    "                                                           wm811k_new_train_class_Near_Full_flip_2,\n",
    "                                                           wm811k_new_train_class_Near_Full_translate_2,\n",
    "                                                          ])\n",
    "wm811k_new_train_class_Near_Full_augmentation.info()"
   ]
  },
  {
   "cell_type": "code",
   "execution_count": 56,
   "id": "4997a3ed",
   "metadata": {
    "execution": {
     "iopub.execute_input": "2022-04-11T15:19:43.599592Z",
     "iopub.status.busy": "2022-04-11T15:19:43.599592Z",
     "iopub.status.idle": "2022-04-11T15:19:43.779098Z",
     "shell.execute_reply": "2022-04-11T15:19:43.778593Z",
     "shell.execute_reply.started": "2022-04-11T15:19:43.599592Z"
    },
    "tags": []
   },
   "outputs": [
    {
     "name": "stdout",
     "output_type": "stream",
     "text": [
      "<class 'pandas.core.frame.DataFrame'>\n",
      "Int64Index: 90000 entries, 749336 to 699791\n",
      "Data columns (total 10 columns):\n",
      " #   Column                     Non-Null Count  Dtype  \n",
      "---  ------                     --------------  -----  \n",
      " 0   waferMap                   90000 non-null  object \n",
      " 1   dieSize                    90000 non-null  float64\n",
      " 2   lotName                    90000 non-null  object \n",
      " 3   trianTestLabel             90000 non-null  object \n",
      " 4   failureType                90000 non-null  object \n",
      " 5   waferMapDim                90000 non-null  object \n",
      " 6   failureNum                 90000 non-null  object \n",
      " 7   trainTestNum               90000 non-null  object \n",
      " 8   waferMap_augmentation      90000 non-null  object \n",
      " 9   waferMap_augmentation_Dim  90000 non-null  object \n",
      "dtypes: float64(1), object(9)\n",
      "memory usage: 7.6+ MB\n"
     ]
    }
   ],
   "source": [
    "# 데이터 size 확인 및 New train data concat\n",
    "wm811k_new_train = pd.concat([wm811k_new_train_class_None,\n",
    "                              wm811k_new_train_class_Edge_Ring_augmentation,\n",
    "                              wm811k_new_train_class_Center_augmentation,\n",
    "                              wm811k_new_train_class_Edge_Loc_augmentation,\n",
    "                              wm811k_new_train_class_Loc_augmentation,\n",
    "                              wm811k_new_train_class_Random_augmentation,\n",
    "                              wm811k_new_train_class_Scratch_augmentation,\n",
    "                              wm811k_new_train_class_Donut_augmentation,\n",
    "                              wm811k_new_train_class_Near_Full_augmentation\n",
    "                             ])\n",
    "\n",
    "wm811k_new_train.info()"
   ]
  },
  {
   "cell_type": "code",
   "execution_count": 57,
   "id": "5d51bc7d",
   "metadata": {
    "execution": {
     "iopub.execute_input": "2022-04-11T15:19:43.780487Z",
     "iopub.status.busy": "2022-04-11T15:19:43.780487Z",
     "iopub.status.idle": "2022-04-11T15:19:43.900604Z",
     "shell.execute_reply": "2022-04-11T15:19:43.899014Z",
     "shell.execute_reply.started": "2022-04-11T15:19:43.780487Z"
    },
    "tags": []
   },
   "outputs": [
    {
     "data": {
      "text/plain": [
       "(224, 224)    90000\n",
       "Name: waferMap_augmentation_Dim, dtype: int64"
      ]
     },
     "execution_count": 57,
     "metadata": {},
     "output_type": "execute_result"
    }
   ],
   "source": [
    "# size check\n",
    "wm811k_new_train['waferMap_augmentation_Dim'].apply(lambda x: str(x)).value_counts()"
   ]
  },
  {
   "cell_type": "code",
   "execution_count": 58,
   "id": "0756bc9f",
   "metadata": {
    "execution": {
     "iopub.execute_input": "2022-04-11T15:19:43.902682Z",
     "iopub.status.busy": "2022-04-11T15:19:43.901606Z",
     "iopub.status.idle": "2022-04-11T15:19:43.990824Z",
     "shell.execute_reply": "2022-04-11T15:19:43.989607Z",
     "shell.execute_reply.started": "2022-04-11T15:19:43.902682Z"
    },
    "tags": []
   },
   "outputs": [
    {
     "data": {
      "text/plain": [
       "8    10000\n",
       "3    10000\n",
       "0    10000\n",
       "6    10000\n",
       "7    10000\n",
       "4    10000\n",
       "1    10000\n",
       "2    10000\n",
       "5    10000\n",
       "Name: failureNum, dtype: int64"
      ]
     },
     "execution_count": 58,
     "metadata": {},
     "output_type": "execute_result"
    }
   ],
   "source": [
    "wm811k_new_train['failureNum'].apply(lambda x: str(x)).value_counts()"
   ]
  },
  {
   "cell_type": "code",
   "execution_count": 59,
   "id": "47de3731",
   "metadata": {
    "collapsed": true,
    "execution": {
     "iopub.execute_input": "2022-04-11T15:19:43.992826Z",
     "iopub.status.busy": "2022-04-11T15:19:43.991828Z",
     "iopub.status.idle": "2022-04-11T15:23:29.251788Z",
     "shell.execute_reply": "2022-04-11T15:23:29.244773Z",
     "shell.execute_reply.started": "2022-04-11T15:19:43.992826Z"
    },
    "jupyter": {
     "outputs_hidden": true
    },
    "tags": []
   },
   "outputs": [
    {
     "name": "stdout",
     "output_type": "stream",
     "text": [
      "0\n",
      "1000\n",
      "2000\n",
      "3000\n",
      "4000\n",
      "5000\n",
      "6000\n",
      "7000\n",
      "8000\n",
      "9000\n",
      "10000\n",
      "11000\n",
      "12000\n",
      "13000\n",
      "14000\n",
      "15000\n",
      "16000\n",
      "17000\n",
      "18000\n",
      "19000\n",
      "20000\n",
      "21000\n",
      "22000\n",
      "23000\n",
      "24000\n",
      "25000\n",
      "26000\n",
      "27000\n",
      "28000\n",
      "29000\n",
      "30000\n",
      "31000\n",
      "32000\n",
      "33000\n",
      "34000\n",
      "35000\n",
      "36000\n",
      "37000\n",
      "38000\n",
      "39000\n",
      "40000\n",
      "41000\n",
      "42000\n",
      "43000\n",
      "44000\n",
      "45000\n",
      "46000\n",
      "47000\n",
      "48000\n",
      "49000\n",
      "50000\n",
      "51000\n",
      "52000\n",
      "53000\n",
      "54000\n",
      "55000\n",
      "56000\n",
      "57000\n",
      "58000\n",
      "59000\n",
      "60000\n",
      "61000\n",
      "62000\n",
      "63000\n",
      "64000\n",
      "65000\n",
      "66000\n",
      "67000\n",
      "68000\n",
      "69000\n",
      "70000\n",
      "71000\n",
      "72000\n",
      "73000\n",
      "74000\n",
      "75000\n",
      "76000\n",
      "77000\n",
      "78000\n",
      "79000\n",
      "80000\n",
      "81000\n",
      "82000\n",
      "83000\n",
      "84000\n",
      "85000\n",
      "86000\n",
      "87000\n",
      "88000\n",
      "89000\n"
     ]
    }
   ],
   "source": [
    "wm811k_new_train_reshape = np.ones((90000, 224, 224))\n",
    "\n",
    "for i in range(len(wm811k_new_train['waferMap_augmentation'])):\n",
    "    if i % 1000 == 0:\n",
    "        print(i)\n",
    "    wm811k_new_train_reshape[i] = wm811k_new_train['waferMap_augmentation'].iloc[i]"
   ]
  },
  {
   "cell_type": "code",
   "execution_count": 60,
   "id": "074f9580",
   "metadata": {
    "execution": {
     "iopub.execute_input": "2022-04-11T15:23:29.274882Z",
     "iopub.status.busy": "2022-04-11T15:23:29.268821Z",
     "iopub.status.idle": "2022-04-11T15:23:29.323140Z",
     "shell.execute_reply": "2022-04-11T15:23:29.321701Z",
     "shell.execute_reply.started": "2022-04-11T15:23:29.274882Z"
    },
    "tags": []
   },
   "outputs": [
    {
     "data": {
      "text/plain": [
       "(90000, 224, 224)"
      ]
     },
     "execution_count": 60,
     "metadata": {},
     "output_type": "execute_result"
    }
   ],
   "source": [
    "wm811k_new_train_reshape.shape"
   ]
  },
  {
   "cell_type": "code",
   "execution_count": 61,
   "id": "967d3b3e",
   "metadata": {
    "execution": {
     "iopub.execute_input": "2022-04-11T15:23:29.326544Z",
     "iopub.status.busy": "2022-04-11T15:23:29.326544Z",
     "iopub.status.idle": "2022-04-11T15:23:29.337390Z",
     "shell.execute_reply": "2022-04-11T15:23:29.336389Z",
     "shell.execute_reply.started": "2022-04-11T15:23:29.326544Z"
    },
    "tags": []
   },
   "outputs": [],
   "source": [
    "# ndarray data save\n",
    "# np.save('D:/capstone_data/wm811k_train_augmentation_reshape', wm811k_new_train_reshape)"
   ]
  },
  {
   "cell_type": "code",
   "execution_count": 62,
   "id": "995fff7f",
   "metadata": {
    "execution": {
     "iopub.execute_input": "2022-04-11T15:23:29.342916Z",
     "iopub.status.busy": "2022-04-11T15:23:29.342509Z",
     "iopub.status.idle": "2022-04-11T15:23:29.367434Z",
     "shell.execute_reply": "2022-04-11T15:23:29.366436Z",
     "shell.execute_reply.started": "2022-04-11T15:23:29.342916Z"
    },
    "tags": []
   },
   "outputs": [],
   "source": [
    "save_test_none = wm811k_new_train_reshape[500] # wm811k_new_train_class_None,\n",
    "save_test_edge_ring = wm811k_new_train_reshape[10500] # wm811k_new_train_class_Edge_Ring_augmentation,\n",
    "save_test_center = wm811k_new_train_reshape[20500] # wm811k_new_train_class_Center_augmentation,\n",
    "save_test_edge_loc = wm811k_new_train_reshape[30500] # wm811k_new_train_class_Edge_Loc_augmentation,\n",
    "save_test_loc = wm811k_new_train_reshape[40500] # wm811k_new_train_class_Loc_augmentation,\n",
    "save_test_random = wm811k_new_train_reshape[50500] # wm811k_new_train_class_Random_augmentation,\n",
    "save_test_scratch = wm811k_new_train_reshape[60500] # wm811k_new_train_class_Scratch_augmentation,\n",
    "save_test_donut = wm811k_new_train_reshape[70500] # wm811k_new_train_class_Donut_augmentation,\n",
    "save_test_near_full = wm811k_new_train_reshape[80500] # wm811k_new_train_class_Near_Full_augmentation"
   ]
  },
  {
   "cell_type": "code",
   "execution_count": 63,
   "id": "d92d6878",
   "metadata": {
    "execution": {
     "iopub.execute_input": "2022-04-11T15:23:29.369435Z",
     "iopub.status.busy": "2022-04-11T15:23:29.368935Z",
     "iopub.status.idle": "2022-04-11T15:23:32.686060Z",
     "shell.execute_reply": "2022-04-11T15:23:32.684895Z",
     "shell.execute_reply.started": "2022-04-11T15:23:29.369435Z"
    },
    "tags": []
   },
   "outputs": [
    {
     "data": {
      "image/png": "[encoded data removed]",
      "text/plain": [
       "<Figure size 432x288 with 1 Axes>"
      ]
     },
     "metadata": {
      "needs_background": "light"
     },
     "output_type": "display_data"
    },
    {
     "data": {
      "image/png": "[encoded data removed]",
      "text/plain": [
       "<Figure size 432x288 with 1 Axes>"
      ]
     },
     "metadata": {
      "needs_background": "light"
     },
     "output_type": "display_data"
    },
    {
     "data": {
      "image/png": "[encoded data removed]",
      "text/plain": [
       "<Figure size 432x288 with 1 Axes>"
      ]
     },
     "metadata": {
      "needs_background": "light"
     },
     "output_type": "display_data"
    },
    {
     "data": {
      "image/png": "[encoded data removed]",
      "text/plain": [
       "<Figure size 432x288 with 1 Axes>"
      ]
     },
     "metadata": {
      "needs_background": "light"
     },
     "output_type": "display_data"
    },
    {
     "data": {
      "image/png": "[encoded data removed]",
      "text/plain": [
       "<Figure size 432x288 with 1 Axes>"
      ]
     },
     "metadata": {
      "needs_background": "light"
     },
     "output_type": "display_data"
    },
    {
     "data": {
      "image/png": "[encoded data removed]",
      "text/plain": [
       "<Figure size 432x288 with 1 Axes>"
      ]
     },
     "metadata": {
      "needs_background": "light"
     },
     "output_type": "display_data"
    },
    {
     "data": {
      "image/png": "[encoded data removed]",
      "text/plain": [
       "<Figure size 432x288 with 1 Axes>"
      ]
     },
     "metadata": {
      "needs_background": "light"
     },
     "output_type": "display_data"
    },
    {
     "data": {
      "image/png": "[encoded data removed]",
      "text/plain": [
       "<Figure size 432x288 with 1 Axes>"
      ]
     },
     "metadata": {
      "needs_background": "light"
     },
     "output_type": "display_data"
    },
    {
     "data": {
      "image/png": "[encoded data removed]",
      "text/plain": [
       "<Figure size 432x288 with 1 Axes>"
      ]
     },
     "metadata": {
      "needs_background": "light"
     },
     "output_type": "display_data"
    }
   ],
   "source": [
    "plt.imshow(save_test_none)\n",
    "plt.show()\n",
    "\n",
    "plt.imshow(save_test_edge_ring)\n",
    "plt.show()\n",
    "\n",
    "plt.imshow(save_test_center)\n",
    "plt.show()\n",
    "\n",
    "plt.imshow(save_test_edge_loc)\n",
    "plt.show()\n",
    "\n",
    "plt.imshow(save_test_loc)\n",
    "plt.show()\n",
    "\n",
    "plt.imshow(save_test_random)\n",
    "plt.show()\n",
    "\n",
    "plt.imshow(save_test_scratch)\n",
    "plt.show()\n",
    "\n",
    "plt.imshow(save_test_donut)\n",
    "plt.show()\n",
    "\n",
    "plt.imshow(save_test_near_full)\n",
    "plt.show()"
   ]
  },
  {
   "cell_type": "markdown",
   "id": "f8ec0679",
   "metadata": {},
   "source": [
    "- 모델 구성\n",
    "    - Batch Normalization\n",
    "    - Spatical Dropout\n",
    "    - Regularization"
   ]
  },
  {
   "cell_type": "markdown",
   "id": "76ec8c15",
   "metadata": {},
   "source": [
    "## CNN-WDI Modeling"
   ]
  },
  {
   "cell_type": "code",
   "execution_count": 65,
   "id": "0911011c",
   "metadata": {
    "execution": {
     "iopub.execute_input": "2022-04-11T15:23:46.376068Z",
     "iopub.status.busy": "2022-04-11T15:23:46.376068Z",
     "iopub.status.idle": "2022-04-11T15:23:46.816740Z",
     "shell.execute_reply": "2022-04-11T15:23:46.816111Z",
     "shell.execute_reply.started": "2022-04-11T15:23:46.376068Z"
    },
    "tags": []
   },
   "outputs": [],
   "source": [
    "# CNN-WDI model\n",
    "# layer별 padding option check ~ valid, same\n",
    "input_shape = (224,224,1) # 학습 data shape 확인\n",
    "class_num = 9\n",
    "KERNEL_SIZE = 3\n",
    "\n",
    "input_layer = layers.Input(shape=input_shape) # Input 224x224\n",
    "x = layers.Conv2D(16, kernel_size=KERNEL_SIZE, padding='valid')(input_layer) # 16, 3x3\n",
    "x = layers.Activation(activation='relu')(x) # ReLU\n",
    "x = layers.BatchNormalization()(x) # BatchNormalization\n",
    "x = layers.MaxPool2D(pool_size=(2,2))(x) # Max-pooling\n",
    "x = layers.Conv2D(16, kernel_size=KERNEL_SIZE, padding='same')(x) # 16, 3x3\n",
    "x = layers.Activation(activation='relu')(x) # ReLU\n",
    "x = layers.BatchNormalization()(x) # BatchNormalization\n",
    "\n",
    "x = layers.Conv2D(32, kernel_size=KERNEL_SIZE, padding='same')(x) # 32, 3x3\n",
    "x = layers.Activation(activation='relu')(x) # ReLU\n",
    "x = layers.BatchNormalization()(x) # BatchNormalization\n",
    "x = layers.MaxPool2D(pool_size=(2,2))(x) # Max-pooling\n",
    "x = layers.Conv2D(32, kernel_size=KERNEL_SIZE, padding='same')(x) # 32, 3x3\n",
    "x = layers.Activation(activation='relu')(x) # ReLU\n",
    "x = layers.BatchNormalization()(x) # BatchNormalization\n",
    "\n",
    "x = layers.Conv2D(64, kernel_size=KERNEL_SIZE, padding='same')(x) # 64, 3x3\n",
    "x = layers.Activation(activation='relu')(x) # ReLU\n",
    "x = layers.BatchNormalization()(x) # BatchNormalization\n",
    "x = layers.MaxPool2D(pool_size=(2,2))(x) # Max-pooling\n",
    "x = layers.Conv2D(64, kernel_size=KERNEL_SIZE, padding='same')(x) # 64, 3x3\n",
    "x = layers.Activation(activation='relu')(x) # ReLU\n",
    "x = layers.BatchNormalization()(x) # BatchNormalization\n",
    "\n",
    "x = layers.Conv2D(128, kernel_size=KERNEL_SIZE, padding='same')(x) # 128, 3x3\n",
    "x = layers.Activation(activation='relu')(x) # ReLU\n",
    "x = layers.BatchNormalization()(x) # BatchNormalization\n",
    "x = layers.MaxPool2D(pool_size=(2,2))(x) # Max-pooling\n",
    "x = layers.Conv2D(128, kernel_size=KERNEL_SIZE, padding='same')(x) # 128, 3x3\n",
    "x = layers.Activation(activation='relu')(x) # ReLU\n",
    "x = layers.BatchNormalization()(x) # BatchNormalization\n",
    "\n",
    "x = layers.SpatialDropout2D(0.2)(x) # Spartial Dropout 0.2\n",
    "x = layers.MaxPool2D(pool_size=(2,2))(x) # Max-pooling\n",
    "x = layers.Flatten()(x) # 4608 확인\n",
    "x = layers.Dense(512, activation='relu')(x)\n",
    "output_layer = layers.Dense(class_num, activation='softmax')(x)\n",
    "\n",
    "CNN_WDI = Model(input_layer, output_layer)"
   ]
  },
  {
   "cell_type": "code",
   "execution_count": 66,
   "id": "74885dcf",
   "metadata": {
    "execution": {
     "iopub.execute_input": "2022-04-11T15:23:46.818093Z",
     "iopub.status.busy": "2022-04-11T15:23:46.817687Z",
     "iopub.status.idle": "2022-04-11T15:23:46.847175Z",
     "shell.execute_reply": "2022-04-11T15:23:46.846674Z",
     "shell.execute_reply.started": "2022-04-11T15:23:46.818093Z"
    },
    "tags": []
   },
   "outputs": [
    {
     "name": "stdout",
     "output_type": "stream",
     "text": [
      "Model: \"model\"\n",
      "_________________________________________________________________\n",
      "Layer (type)                 Output Shape              Param #   \n",
      "=================================================================\n",
      "input_1 (InputLayer)         [(None, 224, 224, 1)]     0         \n",
      "_________________________________________________________________\n",
      "conv2d (Conv2D)              (None, 222, 222, 16)      160       \n",
      "_________________________________________________________________\n",
      "activation (Activation)      (None, 222, 222, 16)      0         \n",
      "_________________________________________________________________\n",
      "batch_normalization (BatchNo (None, 222, 222, 16)      64        \n",
      "_________________________________________________________________\n",
      "max_pooling2d (MaxPooling2D) (None, 111, 111, 16)      0         \n",
      "_________________________________________________________________\n",
      "conv2d_1 (Conv2D)            (None, 111, 111, 16)      2320      \n",
      "_________________________________________________________________\n",
      "activation_1 (Activation)    (None, 111, 111, 16)      0         \n",
      "_________________________________________________________________\n",
      "batch_normalization_1 (Batch (None, 111, 111, 16)      64        \n",
      "_________________________________________________________________\n",
      "conv2d_2 (Conv2D)            (None, 111, 111, 32)      4640      \n",
      "_________________________________________________________________\n",
      "activation_2 (Activation)    (None, 111, 111, 32)      0         \n",
      "_________________________________________________________________\n",
      "batch_normalization_2 (Batch (None, 111, 111, 32)      128       \n",
      "_________________________________________________________________\n",
      "max_pooling2d_1 (MaxPooling2 (None, 55, 55, 32)        0         \n",
      "_________________________________________________________________\n",
      "conv2d_3 (Conv2D)            (None, 55, 55, 32)        9248      \n",
      "_________________________________________________________________\n",
      "activation_3 (Activation)    (None, 55, 55, 32)        0         \n",
      "_________________________________________________________________\n",
      "batch_normalization_3 (Batch (None, 55, 55, 32)        128       \n",
      "_________________________________________________________________\n",
      "conv2d_4 (Conv2D)            (None, 55, 55, 64)        18496     \n",
      "_________________________________________________________________\n",
      "activation_4 (Activation)    (None, 55, 55, 64)        0         \n",
      "_________________________________________________________________\n",
      "batch_normalization_4 (Batch (None, 55, 55, 64)        256       \n",
      "_________________________________________________________________\n",
      "max_pooling2d_2 (MaxPooling2 (None, 27, 27, 64)        0         \n",
      "_________________________________________________________________\n",
      "conv2d_5 (Conv2D)            (None, 27, 27, 64)        36928     \n",
      "_________________________________________________________________\n",
      "activation_5 (Activation)    (None, 27, 27, 64)        0         \n",
      "_________________________________________________________________\n",
      "batch_normalization_5 (Batch (None, 27, 27, 64)        256       \n",
      "_________________________________________________________________\n",
      "conv2d_6 (Conv2D)            (None, 27, 27, 128)       73856     \n",
      "_________________________________________________________________\n",
      "activation_6 (Activation)    (None, 27, 27, 128)       0         \n",
      "_________________________________________________________________\n",
      "batch_normalization_6 (Batch (None, 27, 27, 128)       512       \n",
      "_________________________________________________________________\n",
      "max_pooling2d_3 (MaxPooling2 (None, 13, 13, 128)       0         \n",
      "_________________________________________________________________\n",
      "conv2d_7 (Conv2D)            (None, 13, 13, 128)       147584    \n",
      "_________________________________________________________________\n",
      "activation_7 (Activation)    (None, 13, 13, 128)       0         \n",
      "_________________________________________________________________\n",
      "batch_normalization_7 (Batch (None, 13, 13, 128)       512       \n",
      "_________________________________________________________________\n",
      "spatial_dropout2d (SpatialDr (None, 13, 13, 128)       0         \n",
      "_________________________________________________________________\n",
      "max_pooling2d_4 (MaxPooling2 (None, 6, 6, 128)         0         \n",
      "_________________________________________________________________\n",
      "flatten (Flatten)            (None, 4608)              0         \n",
      "_________________________________________________________________\n",
      "dense (Dense)                (None, 512)               2359808   \n",
      "_________________________________________________________________\n",
      "dense_1 (Dense)              (None, 9)                 4617      \n",
      "=================================================================\n",
      "Total params: 2,659,577\n",
      "Trainable params: 2,658,617\n",
      "Non-trainable params: 960\n",
      "_________________________________________________________________\n"
     ]
    }
   ],
   "source": [
    "CNN_WDI.summary()"
   ]
  },
  {
   "cell_type": "code",
   "execution_count": 68,
   "id": "65fb585a",
   "metadata": {
    "execution": {
     "iopub.execute_input": "2022-04-11T15:23:47.854637Z",
     "iopub.status.busy": "2022-04-11T15:23:47.854637Z",
     "iopub.status.idle": "2022-04-11T15:26:58.990652Z",
     "shell.execute_reply": "2022-04-11T15:26:58.983745Z",
     "shell.execute_reply.started": "2022-04-11T15:23:47.854637Z"
    },
    "tags": []
   },
   "outputs": [],
   "source": [
    "wm811k_new_train_reshape = wm811k_new_train_reshape.astype(np.int16)"
   ]
  },
  {
   "cell_type": "code",
   "execution_count": 70,
   "id": "d6fedb0c",
   "metadata": {
    "execution": {
     "iopub.execute_input": "2022-04-11T15:28:48.343567Z",
     "iopub.status.busy": "2022-04-11T15:28:48.343567Z",
     "iopub.status.idle": "2022-04-11T15:28:48.362847Z",
     "shell.execute_reply": "2022-04-11T15:28:48.362181Z",
     "shell.execute_reply.started": "2022-04-11T15:28:48.343567Z"
    },
    "tags": []
   },
   "outputs": [],
   "source": [
    "wm811k_y_train_set = wm811k_new_train['failureNum']"
   ]
  },
  {
   "cell_type": "code",
   "execution_count": 86,
   "id": "07680283",
   "metadata": {
    "execution": {
     "iopub.execute_input": "2022-04-11T15:45:20.978565Z",
     "iopub.status.busy": "2022-04-11T15:45:20.978565Z",
     "iopub.status.idle": "2022-04-11T15:45:20.987573Z",
     "shell.execute_reply": "2022-04-11T15:45:20.987205Z",
     "shell.execute_reply.started": "2022-04-11T15:45:20.978565Z"
    },
    "tags": []
   },
   "outputs": [],
   "source": [
    "wm811k_y_train_set_array = np.asarray(wm811k_y_train_set).astype(np.int16)"
   ]
  },
  {
   "cell_type": "code",
   "execution_count": 88,
   "id": "9de03997",
   "metadata": {
    "execution": {
     "iopub.execute_input": "2022-04-11T15:47:28.310420Z",
     "iopub.status.busy": "2022-04-11T15:47:28.309003Z",
     "iopub.status.idle": "2022-04-11T15:47:28.324635Z",
     "shell.execute_reply": "2022-04-11T15:47:28.323781Z",
     "shell.execute_reply.started": "2022-04-11T15:47:28.310420Z"
    },
    "tags": []
   },
   "outputs": [],
   "source": [
    "# MemoryError 해결 \n",
    "# del wm811k_y_train_set\n",
    "# gc.collect()\n",
    "# RAM에서 여유 용량이 생길 때까지 잠시 대기"
   ]
  },
  {
   "cell_type": "code",
   "execution_count": 93,
   "id": "e973b8ea",
   "metadata": {
    "execution": {
     "iopub.execute_input": "2022-04-11T15:52:22.413671Z",
     "iopub.status.busy": "2022-04-11T15:52:22.412589Z",
     "iopub.status.idle": "2022-04-11T15:53:54.537929Z",
     "shell.execute_reply": "2022-04-11T15:53:54.519046Z",
     "shell.execute_reply.started": "2022-04-11T15:52:22.413671Z"
    },
    "tags": []
   },
   "outputs": [],
   "source": [
    "# train / validation / test set 설정\n",
    "# 60 / 20 / 20\n",
    "X_train, X_test, y_train, y_test = train_test_split(wm811k_new_train_reshape, wm811k_y_train_set_array, test_size=0.2, random_state=2022)\n",
    "X_train, X_val, y_train, y_val = train_test_split(X_train, y_train, test_size=0.25, random_state=2022)  # 20/80 = 0.25"
   ]
  },
  {
   "cell_type": "code",
   "execution_count": 105,
   "id": "35612feb",
   "metadata": {
    "execution": {
     "iopub.execute_input": "2022-04-11T16:55:32.559025Z",
     "iopub.status.busy": "2022-04-11T16:55:32.559025Z",
     "iopub.status.idle": "2022-04-12T09:43:45.729145Z",
     "shell.execute_reply": "2022-04-12T09:43:45.716094Z",
     "shell.execute_reply.started": "2022-04-11T16:55:32.559025Z"
    },
    "tags": []
   },
   "outputs": [
    {
     "name": "stdout",
     "output_type": "stream",
     "text": [
      "Epoch 1/20\n",
      "540/540 [==============================] - 2843s 5s/step - loss: 0.4406 - acc: 0.8508 - val_loss: 280.2168 - val_acc: 0.1103\n",
      "\n",
      "Epoch 00001: val_loss improved from inf to 280.21677, saving model to cnn_wdi.h5\n",
      "Epoch 2/20\n",
      "540/540 [==============================] - 2837s 5s/step - loss: 0.2738 - acc: 0.9062 - val_loss: 39.8094 - val_acc: 0.2645\n",
      "\n",
      "Epoch 00002: val_loss improved from 280.21677 to 39.80939, saving model to cnn_wdi.h5\n",
      "Epoch 3/20\n",
      "540/540 [==============================] - 2834s 5s/step - loss: 0.2174 - acc: 0.9239 - val_loss: 65.6136 - val_acc: 0.1977\n",
      "\n",
      "Epoch 00003: val_loss did not improve from 39.80939\n",
      "Epoch 4/20\n",
      "540/540 [==============================] - 2859s 5s/step - loss: 0.2054 - acc: 0.9315 - val_loss: 44.1803 - val_acc: 0.3354\n",
      "\n",
      "Epoch 00004: val_loss did not improve from 39.80939\n",
      "Epoch 5/20\n",
      "540/540 [==============================] - 2845s 5s/step - loss: 0.1579 - acc: 0.9447 - val_loss: 66.3206 - val_acc: 0.3465\n",
      "\n",
      "Epoch 00005: val_loss did not improve from 39.80939\n",
      "Epoch 6/20\n",
      "540/540 [==============================] - 2833s 5s/step - loss: 0.1339 - acc: 0.9536 - val_loss: 133.4068 - val_acc: 0.2274\n",
      "\n",
      "Epoch 00006: val_loss did not improve from 39.80939\n",
      "Epoch 7/20\n",
      "540/540 [==============================] - 2830s 5s/step - loss: 0.1224 - acc: 0.9569 - val_loss: 227.8118 - val_acc: 0.1668\n",
      "\n",
      "Epoch 00007: val_loss did not improve from 39.80939\n",
      "Epoch 8/20\n",
      "540/540 [==============================] - 3431s 6s/step - loss: 0.1073 - acc: 0.9625 - val_loss: 50.6812 - val_acc: 0.3207\n",
      "\n",
      "Epoch 00008: val_loss did not improve from 39.80939\n",
      "Epoch 9/20\n",
      "540/540 [==============================] - 2321s 4s/step - loss: 0.0902 - acc: 0.9690 - val_loss: 170.2865 - val_acc: 0.2479\n",
      "\n",
      "Epoch 00009: val_loss did not improve from 39.80939\n",
      "Epoch 10/20\n",
      "540/540 [==============================] - 2370s 4s/step - loss: 0.0794 - acc: 0.9730 - val_loss: 0.4946 - val_acc: 0.8648\n",
      "\n",
      "Epoch 00010: val_loss improved from 39.80939 to 0.49455, saving model to cnn_wdi.h5\n",
      "Epoch 11/20\n",
      "540/540 [==============================] - 2320s 4s/step - loss: 0.0791 - acc: 0.9728 - val_loss: 25.2697 - val_acc: 0.4878\n",
      "\n",
      "Epoch 00011: val_loss did not improve from 0.49455\n",
      "Epoch 12/20\n",
      "540/540 [==============================] - 2498s 5s/step - loss: 0.0628 - acc: 0.9784 - val_loss: 77.1373 - val_acc: 0.3428\n",
      "\n",
      "Epoch 00012: val_loss did not improve from 0.49455\n",
      "Epoch 13/20\n",
      "540/540 [==============================] - 2396s 4s/step - loss: 0.0721 - acc: 0.9755 - val_loss: 128.9325 - val_acc: 0.4062\n",
      "\n",
      "Epoch 00013: val_loss did not improve from 0.49455\n",
      "Epoch 14/20\n",
      "540/540 [==============================] - 3651s 7s/step - loss: 0.0612 - acc: 0.9788 - val_loss: 368.0372 - val_acc: 0.1866\n",
      "\n",
      "Epoch 00014: val_loss did not improve from 0.49455\n",
      "Epoch 15/20\n",
      "540/540 [==============================] - 4463s 8s/step - loss: 0.0694 - acc: 0.9767 - val_loss: 128.1809 - val_acc: 0.3119\n",
      "\n",
      "Epoch 00015: val_loss did not improve from 0.49455\n",
      "Epoch 16/20\n",
      "540/540 [==============================] - 5201s 10s/step - loss: 0.0506 - acc: 0.9827 - val_loss: 40.9949 - val_acc: 0.4171\n",
      "\n",
      "Epoch 00016: val_loss did not improve from 0.49455\n",
      "Epoch 17/20\n",
      "540/540 [==============================] - 2795s 5s/step - loss: 0.0449 - acc: 0.9843 - val_loss: 151.2280 - val_acc: 0.1894\n",
      "\n",
      "Epoch 00017: val_loss did not improve from 0.49455\n",
      "Epoch 18/20\n",
      "540/540 [==============================] - 2591s 5s/step - loss: 0.0428 - acc: 0.9845 - val_loss: 241.0489 - val_acc: 0.2076\n",
      "\n",
      "Epoch 00018: val_loss did not improve from 0.49455\n",
      "Epoch 19/20\n",
      "540/540 [==============================] - 4047s 7s/step - loss: 0.0505 - acc: 0.9830 - val_loss: 927.1452 - val_acc: 0.1121\n",
      "\n",
      "Epoch 00019: val_loss did not improve from 0.49455\n",
      "Epoch 20/20\n",
      "540/540 [==============================] - 2528s 5s/step - loss: 0.0433 - acc: 0.9849 - val_loss: 120.3803 - val_acc: 0.2897\n",
      "\n",
      "Epoch 00020: val_loss did not improve from 0.49455\n"
     ]
    }
   ],
   "source": [
    "# model_id\n",
    "model_id = 'cnn_wdi'\n",
    "\n",
    "# model 설정\n",
    "LEARNING_RATE = 0.001\n",
    "BATCH_SIZE = 100\n",
    "EPOCH = 20  # 논문 그래프에 20 epoch 까지 있음\n",
    "\n",
    "# loss function : label이 one-hot-encoding 형식일 때 categorical crossentropy\n",
    "#                 label이 정수 형태 일 떄 sparse categorical crossentropy\n",
    "CNN_WDI.compile(loss=tf.keras.losses.SparseCategoricalCrossentropy(from_logits=True), optimizer=optimizers.Adam(lr=LEARNING_RATE), metrics=['acc'])\n",
    "checkpointer = ModelCheckpoint(filepath=\"{0}.h5\".format(model_id), verbose=1, save_best_only=True)\n",
    "\n",
    "# 학습 실행\n",
    "hist = CNN_WDI.fit(X_train, y_train, epochs=EPOCH, batch_size=BATCH_SIZE, shuffle=True,\n",
    "                   validation_data=(X_val, y_val), callbacks=[checkpointer])\n"
   ]
  },
  {
   "cell_type": "code",
   "execution_count": 106,
   "id": "fb69ccc9",
   "metadata": {
    "execution": {
     "iopub.execute_input": "2022-04-12T09:43:45.781821Z",
     "iopub.status.busy": "2022-04-12T09:43:45.781821Z",
     "iopub.status.idle": "2022-04-12T09:46:20.823653Z",
     "shell.execute_reply": "2022-04-12T09:46:20.823653Z",
     "shell.execute_reply.started": "2022-04-12T09:43:45.781821Z"
    },
    "tags": []
   },
   "outputs": [
    {
     "name": "stdout",
     "output_type": "stream",
     "text": [
      "Test Loss :  120.767822265625\n",
      "Test Accuracy :  0.28733333945274353\n"
     ]
    }
   ],
   "source": [
    "score = CNN_WDI.evaluate(X_test, y_test, verbose=0)\n",
    "print('Test Loss : ', score[0])\n",
    "print('Test Accuracy : ', score[1])"
   ]
  },
  {
   "cell_type": "code",
   "execution_count": 107,
   "id": "a482d312",
   "metadata": {
    "execution": {
     "iopub.execute_input": "2022-04-12T09:46:20.826650Z",
     "iopub.status.busy": "2022-04-12T09:46:20.825651Z",
     "iopub.status.idle": "2022-04-12T09:46:21.333672Z",
     "shell.execute_reply": "2022-04-12T09:46:21.333672Z",
     "shell.execute_reply.started": "2022-04-12T09:46:20.826650Z"
    },
    "tags": []
   },
   "outputs": [
    {
     "data": {
      "image/png": "[encoded data removed]",
      "text/plain": [
       "<Figure size 432x288 with 1 Axes>"
      ]
     },
     "metadata": {
      "needs_background": "light"
     },
     "output_type": "display_data"
    }
   ],
   "source": [
    "# loss graph\n",
    "y_vloss = hist.history['val_loss']\n",
    "y_loss = hist.history['loss']\n",
    "\n",
    "x_len = np.arange(len(y_loss))\n",
    "plt.plot(x_len, y_vloss, marker='.', c='red', label=\"Validation-set Loss\")\n",
    "plt.plot(x_len, y_loss, marker='.', c='blue', label=\"Train-set Loss\")\n",
    "\n",
    "plt.legend(loc='upper right')\n",
    "plt.grid()\n",
    "plt.xlabel('epoch')\n",
    "plt.ylabel('loss')\n",
    "plt.show()"
   ]
  },
  {
   "cell_type": "code",
   "execution_count": 108,
   "id": "660ae9d9",
   "metadata": {
    "execution": {
     "iopub.execute_input": "2022-04-12T09:46:21.337650Z",
     "iopub.status.busy": "2022-04-12T09:46:21.337650Z",
     "iopub.status.idle": "2022-04-12T09:46:21.499651Z",
     "shell.execute_reply": "2022-04-12T09:46:21.498649Z",
     "shell.execute_reply.started": "2022-04-12T09:46:21.337650Z"
    },
    "tags": []
   },
   "outputs": [
    {
     "data": {
      "image/png": "[encoded data removed]",
      "text/plain": [
       "<Figure size 432x288 with 1 Axes>"
      ]
     },
     "metadata": {
      "needs_background": "light"
     },
     "output_type": "display_data"
    }
   ],
   "source": [
    "# acc graph\n",
    "y_vacc = hist.history['val_acc']\n",
    "y_acc = hist.history['acc']\n",
    "\n",
    "x_len = np.arange(len(y_acc))\n",
    "plt.plot(x_len, y_vacc, marker='.', c='red', label=\"Validation-set Acc\")\n",
    "plt.plot(x_len, y_acc, marker='.', c='blue', label=\"Train-set Acc\")\n",
    "\n",
    "plt.legend(loc='upper right')\n",
    "plt.grid()\n",
    "plt.xlabel('epoch')\n",
    "plt.ylabel('loss')\n",
    "plt.show()"
   ]
  },
  {
   "cell_type": "markdown",
   "id": "67f4a2c5",
   "metadata": {},
   "source": [
    "### 모델 검증\n",
    "- 참고 : https://wikidocs.net/45729"
   ]
  },
  {
   "cell_type": "code",
   "execution_count": 109,
   "id": "bc3fc19d",
   "metadata": {
    "execution": {
     "iopub.execute_input": "2022-04-12T09:46:21.500650Z",
     "iopub.status.busy": "2022-04-12T09:46:21.499651Z",
     "iopub.status.idle": "2022-04-12T09:46:21.993869Z",
     "shell.execute_reply": "2022-04-12T09:46:21.993869Z",
     "shell.execute_reply.started": "2022-04-12T09:46:21.500650Z"
    },
    "tags": []
   },
   "outputs": [],
   "source": [
    "# confusion matrix\n",
    "from sklearn.metrics import confusion_matrix\n",
    "import matplotlib.pyplot as plt\n",
    "import seaborn as sns"
   ]
  },
  {
   "cell_type": "code",
   "execution_count": 113,
   "id": "94156955",
   "metadata": {
    "execution": {
     "iopub.execute_input": "2022-04-12T09:54:51.005600Z",
     "iopub.status.busy": "2022-04-12T09:54:51.004598Z",
     "iopub.status.idle": "2022-04-12T09:57:16.907589Z",
     "shell.execute_reply": "2022-04-12T09:57:16.906588Z",
     "shell.execute_reply.started": "2022-04-12T09:54:51.005600Z"
    },
    "tags": []
   },
   "outputs": [],
   "source": [
    "y_predict = CNN_WDI.predict(X_test)"
   ]
  },
  {
   "cell_type": "code",
   "execution_count": 116,
   "id": "ad0ee158",
   "metadata": {
    "execution": {
     "iopub.execute_input": "2022-04-12T09:58:37.675993Z",
     "iopub.status.busy": "2022-04-12T09:58:37.675993Z",
     "iopub.status.idle": "2022-04-12T09:58:37.684988Z",
     "shell.execute_reply": "2022-04-12T09:58:37.684067Z",
     "shell.execute_reply.started": "2022-04-12T09:58:37.675993Z"
    },
    "tags": []
   },
   "outputs": [
    {
     "data": {
      "text/plain": [
       "array([2, 3, 7, ..., 5, 6, 8], dtype=int16)"
      ]
     },
     "execution_count": 116,
     "metadata": {},
     "output_type": "execute_result"
    }
   ],
   "source": [
    "y_test"
   ]
  },
  {
   "cell_type": "code",
   "execution_count": 150,
   "id": "30c3698f",
   "metadata": {
    "execution": {
     "iopub.execute_input": "2022-04-12T10:18:37.964429Z",
     "iopub.status.busy": "2022-04-12T10:18:37.964429Z",
     "iopub.status.idle": "2022-04-12T10:18:37.972424Z",
     "shell.execute_reply": "2022-04-12T10:18:37.971501Z",
     "shell.execute_reply.started": "2022-04-12T10:18:37.964429Z"
    },
    "tags": []
   },
   "outputs": [
    {
     "data": {
      "text/plain": [
       "(array([0, 1, 2, 3, 4, 5, 6, 7, 8], dtype=int16),\n",
       " array([1991, 2010, 2001, 1939, 1981, 2055, 2054, 1959, 2010], dtype=int64))"
      ]
     },
     "execution_count": 150,
     "metadata": {},
     "output_type": "execute_result"
    }
   ],
   "source": [
    "# test set 내 클래스 개수\n",
    "np.unique(y_test, return_counts = True)"
   ]
  },
  {
   "cell_type": "code",
   "execution_count": 118,
   "id": "ad3b4671",
   "metadata": {
    "execution": {
     "iopub.execute_input": "2022-04-12T09:59:17.668214Z",
     "iopub.status.busy": "2022-04-12T09:59:17.668214Z",
     "iopub.status.idle": "2022-04-12T09:59:17.689218Z",
     "shell.execute_reply": "2022-04-12T09:59:17.688226Z",
     "shell.execute_reply.started": "2022-04-12T09:59:17.668214Z"
    },
    "tags": []
   },
   "outputs": [
    {
     "data": {
      "text/plain": [
       "array([0.0000000e+00, 0.0000000e+00, 8.6981075e-29, 0.0000000e+00,\n",
       "       1.0000000e+00, 0.0000000e+00, 0.0000000e+00, 0.0000000e+00,\n",
       "       0.0000000e+00], dtype=float32)"
      ]
     },
     "execution_count": 118,
     "metadata": {},
     "output_type": "execute_result"
    }
   ],
   "source": [
    "y_predict[0]"
   ]
  },
  {
   "cell_type": "code",
   "execution_count": 123,
   "id": "371dd92b",
   "metadata": {
    "execution": {
     "iopub.execute_input": "2022-04-12T10:01:43.434233Z",
     "iopub.status.busy": "2022-04-12T10:01:43.434233Z",
     "iopub.status.idle": "2022-04-12T10:01:43.454247Z",
     "shell.execute_reply": "2022-04-12T10:01:43.453203Z",
     "shell.execute_reply.started": "2022-04-12T10:01:43.434233Z"
    },
    "tags": []
   },
   "outputs": [
    {
     "data": {
      "text/plain": [
       "(18000, 9)"
      ]
     },
     "execution_count": 123,
     "metadata": {},
     "output_type": "execute_result"
    }
   ],
   "source": [
    "y_predict.shape"
   ]
  },
  {
   "cell_type": "code",
   "execution_count": 129,
   "id": "296c4413",
   "metadata": {
    "execution": {
     "iopub.execute_input": "2022-04-12T10:04:59.802670Z",
     "iopub.status.busy": "2022-04-12T10:04:59.800668Z",
     "iopub.status.idle": "2022-04-12T10:04:59.850782Z",
     "shell.execute_reply": "2022-04-12T10:04:59.849758Z",
     "shell.execute_reply.started": "2022-04-12T10:04:59.802670Z"
    },
    "tags": []
   },
   "outputs": [],
   "source": [
    "y_predict_label = np.array([np.argmax(x) for x in y_predict])"
   ]
  },
  {
   "cell_type": "code",
   "execution_count": 130,
   "id": "629c0daf",
   "metadata": {
    "execution": {
     "iopub.execute_input": "2022-04-12T10:05:01.212688Z",
     "iopub.status.busy": "2022-04-12T10:05:01.212688Z",
     "iopub.status.idle": "2022-04-12T10:05:01.222733Z",
     "shell.execute_reply": "2022-04-12T10:05:01.221687Z",
     "shell.execute_reply.started": "2022-04-12T10:05:01.212688Z"
    },
    "tags": []
   },
   "outputs": [
    {
     "data": {
      "text/plain": [
       "(18000,)"
      ]
     },
     "execution_count": 130,
     "metadata": {},
     "output_type": "execute_result"
    }
   ],
   "source": [
    "y_predict_label.shape"
   ]
  },
  {
   "cell_type": "code",
   "execution_count": 131,
   "id": "6e1700d8",
   "metadata": {
    "execution": {
     "iopub.execute_input": "2022-04-12T10:05:09.295236Z",
     "iopub.status.busy": "2022-04-12T10:05:09.295236Z",
     "iopub.status.idle": "2022-04-12T10:05:09.315238Z",
     "shell.execute_reply": "2022-04-12T10:05:09.314329Z",
     "shell.execute_reply.started": "2022-04-12T10:05:09.295236Z"
    },
    "tags": []
   },
   "outputs": [
    {
     "data": {
      "text/plain": [
       "array([4, 3, 7, ..., 4, 4, 4], dtype=int64)"
      ]
     },
     "execution_count": 131,
     "metadata": {},
     "output_type": "execute_result"
    }
   ],
   "source": [
    "y_predict_label"
   ]
  },
  {
   "cell_type": "code",
   "execution_count": 157,
   "id": "ba4e6e46",
   "metadata": {
    "execution": {
     "iopub.execute_input": "2022-04-12T10:25:44.334938Z",
     "iopub.status.busy": "2022-04-12T10:25:44.334938Z",
     "iopub.status.idle": "2022-04-12T10:25:44.409938Z",
     "shell.execute_reply": "2022-04-12T10:25:44.408938Z",
     "shell.execute_reply.started": "2022-04-12T10:25:44.334938Z"
    },
    "tags": []
   },
   "outputs": [
    {
     "data": {
      "text/plain": [
       "array([[   0,    0,    0,    0, 1990,    0,    1,    0,    0],\n",
       "       [   0,  384,    0,    0, 1625,    1,    0,    0,    0],\n",
       "       [   0,    0,    7,    1, 1988,    5,    0,    0,    0],\n",
       "       [   0,    0,    1,  732, 1206,    0,    0,    0,    0],\n",
       "       [   0,    0,    0,    0, 1980,    1,    0,    0,    0],\n",
       "       [   0,    0,    0,    0, 1463,  592,    0,    0,    0],\n",
       "       [   0,    0,    0,    0, 1961,    3,   90,    0,    0],\n",
       "       [   0,    0,    0,    0,  572,    0,    0, 1387,    0],\n",
       "       [   0,    0,    0,    0, 2010,    0,    0,    0,    0]],\n",
       "      dtype=int64)"
      ]
     },
     "execution_count": 157,
     "metadata": {},
     "output_type": "execute_result"
    }
   ],
   "source": [
    "# confusion matrix\n",
    "confusion_matrix(y_test, y_predict_label)"
   ]
  },
  {
   "cell_type": "code",
   "execution_count": 171,
   "id": "c3bb91bf",
   "metadata": {
    "execution": {
     "iopub.execute_input": "2022-04-12T10:40:24.897420Z",
     "iopub.status.busy": "2022-04-12T10:40:24.897420Z",
     "iopub.status.idle": "2022-04-12T10:40:25.082069Z",
     "shell.execute_reply": "2022-04-12T10:40:25.081067Z",
     "shell.execute_reply.started": "2022-04-12T10:40:24.897420Z"
    },
    "tags": []
   },
   "outputs": [
    {
     "data": {
      "image/png": "[encoded data removed]",
      "text/plain": [
       "<Figure size 432x288 with 2 Axes>"
      ]
     },
     "metadata": {
      "needs_background": "light"
     },
     "output_type": "display_data"
    }
   ],
   "source": [
    "plt.imshow(confusion_matrix(y_test, y_predict_label), interpolation='nearest', cmap=plt.cm.Blues)\n",
    "plt.title('Confusion matrix')\n",
    "plt.colorbar()\n",
    "ticks = np.arange(9) #ticks : 클래스의 수\n",
    "plt.xticks(ticks, ticks) \n",
    "plt.yticks(ticks, ticks)\n",
    "plt.ylabel('True labels')\n",
    "plt.xlabel('Predicted labels')\n",
    "plt.show()"
   ]
  },
  {
   "cell_type": "code",
   "execution_count": 160,
   "id": "cb12e371",
   "metadata": {
    "execution": {
     "iopub.execute_input": "2022-04-12T10:30:03.590931Z",
     "iopub.status.busy": "2022-04-12T10:30:03.590931Z",
     "iopub.status.idle": "2022-04-12T10:30:03.597932Z",
     "shell.execute_reply": "2022-04-12T10:30:03.596935Z",
     "shell.execute_reply.started": "2022-04-12T10:30:03.590931Z"
    },
    "tags": []
   },
   "outputs": [],
   "source": [
    "from sklearn.metrics import classification_report"
   ]
  },
  {
   "cell_type": "markdown",
   "id": "50071d4e",
   "metadata": {},
   "source": [
    "### 성능 지표"
   ]
  },
  {
   "cell_type": "code",
   "execution_count": 135,
   "id": "42877d31",
   "metadata": {
    "execution": {
     "iopub.execute_input": "2022-04-12T10:07:38.133069Z",
     "iopub.status.busy": "2022-04-12T10:07:38.133069Z",
     "iopub.status.idle": "2022-04-12T10:07:38.147072Z",
     "shell.execute_reply": "2022-04-12T10:07:38.146122Z",
     "shell.execute_reply.started": "2022-04-12T10:07:38.133069Z"
    },
    "tags": []
   },
   "outputs": [],
   "source": [
    "from sklearn.metrics import precision_score, recall_score, f1_score, accuracy_score"
   ]
  },
  {
   "cell_type": "code",
   "execution_count": 136,
   "id": "00cb2954",
   "metadata": {
    "execution": {
     "iopub.execute_input": "2022-04-12T10:08:06.971928Z",
     "iopub.status.busy": "2022-04-12T10:08:06.970927Z",
     "iopub.status.idle": "2022-04-12T10:08:06.980940Z",
     "shell.execute_reply": "2022-04-12T10:08:06.979929Z",
     "shell.execute_reply.started": "2022-04-12T10:08:06.971928Z"
    },
    "tags": []
   },
   "outputs": [
    {
     "data": {
      "text/plain": [
       "0.28733333333333333"
      ]
     },
     "execution_count": 136,
     "metadata": {},
     "output_type": "execute_result"
    }
   ],
   "source": [
    "accuracy_score(y_test, y_predict_label)"
   ]
  },
  {
   "cell_type": "code",
   "execution_count": 145,
   "id": "0ac9f359",
   "metadata": {
    "execution": {
     "iopub.execute_input": "2022-04-12T10:15:29.095702Z",
     "iopub.status.busy": "2022-04-12T10:15:29.095702Z",
     "iopub.status.idle": "2022-04-12T10:15:29.110700Z",
     "shell.execute_reply": "2022-04-12T10:15:29.109696Z",
     "shell.execute_reply.started": "2022-04-12T10:15:29.095702Z"
    },
    "tags": []
   },
   "outputs": [
    {
     "data": {
      "text/plain": [
       "0.6644293814591373"
      ]
     },
     "execution_count": 145,
     "metadata": {},
     "output_type": "execute_result"
    }
   ],
   "source": [
    "precision_score(y_test, y_predict_label, average='macro')"
   ]
  },
  {
   "cell_type": "code",
   "execution_count": 146,
   "id": "f265777f",
   "metadata": {
    "execution": {
     "iopub.execute_input": "2022-04-12T10:15:32.602956Z",
     "iopub.status.busy": "2022-04-12T10:15:32.602956Z",
     "iopub.status.idle": "2022-04-12T10:15:32.619899Z",
     "shell.execute_reply": "2022-04-12T10:15:32.619015Z",
     "shell.execute_reply.started": "2022-04-12T10:15:32.602956Z"
    },
    "tags": []
   },
   "outputs": [
    {
     "data": {
      "text/plain": [
       "0.2901623898270039"
      ]
     },
     "execution_count": 146,
     "metadata": {},
     "output_type": "execute_result"
    }
   ],
   "source": [
    "recall_score(y_test, y_predict_label, average='macro')"
   ]
  },
  {
   "cell_type": "code",
   "execution_count": 147,
   "id": "9eb73549",
   "metadata": {
    "execution": {
     "iopub.execute_input": "2022-04-12T10:15:37.530430Z",
     "iopub.status.busy": "2022-04-12T10:15:37.530430Z",
     "iopub.status.idle": "2022-04-12T10:15:37.547343Z",
     "shell.execute_reply": "2022-04-12T10:15:37.546421Z",
     "shell.execute_reply.started": "2022-04-12T10:15:37.530430Z"
    },
    "tags": []
   },
   "outputs": [
    {
     "data": {
      "text/plain": [
       "0.27447859899410665"
      ]
     },
     "execution_count": 147,
     "metadata": {},
     "output_type": "execute_result"
    }
   ],
   "source": [
    "f1_score(y_test, y_predict_label, average='macro')"
   ]
  },
  {
   "cell_type": "code",
   "execution_count": 164,
   "id": "fffe1bfd",
   "metadata": {
    "execution": {
     "iopub.execute_input": "2022-04-12T10:31:32.664394Z",
     "iopub.status.busy": "2022-04-12T10:31:32.664394Z",
     "iopub.status.idle": "2022-04-12T10:31:32.691643Z",
     "shell.execute_reply": "2022-04-12T10:31:32.690656Z",
     "shell.execute_reply.started": "2022-04-12T10:31:32.664394Z"
    },
    "tags": []
   },
   "outputs": [
    {
     "name": "stdout",
     "output_type": "stream",
     "text": [
      "              precision    recall  f1-score   support\n",
      "\n",
      "           0       0.00      0.00      0.00      1991\n",
      "           1       1.00      0.19      0.32      2010\n",
      "           2       0.88      0.00      0.01      2001\n",
      "           3       1.00      0.38      0.55      1939\n",
      "           4       0.13      1.00      0.24      1981\n",
      "           5       0.98      0.29      0.45      2055\n",
      "           6       0.99      0.04      0.08      2054\n",
      "           7       1.00      0.71      0.83      1959\n",
      "           8       0.00      0.00      0.00      2010\n",
      "\n",
      "    accuracy                           0.29     18000\n",
      "   macro avg       0.66      0.29      0.27     18000\n",
      "weighted avg       0.67      0.29      0.27     18000\n",
      "\n"
     ]
    }
   ],
   "source": [
    "print(classification_report(y_test, y_predict_label))"
   ]
  },
  {
   "cell_type": "markdown",
   "id": "24c4f694",
   "metadata": {},
   "source": [
    "### 저장된 best model 성능 검증"
   ]
  },
  {
   "cell_type": "code",
   "execution_count": 112,
   "id": "9c242342",
   "metadata": {
    "execution": {
     "iopub.execute_input": "2022-04-12T09:52:34.251115Z",
     "iopub.status.busy": "2022-04-12T09:52:34.251115Z",
     "iopub.status.idle": "2022-04-12T09:54:51.002596Z",
     "shell.execute_reply": "2022-04-12T09:54:51.002596Z",
     "shell.execute_reply.started": "2022-04-12T09:52:34.251115Z"
    },
    "tags": []
   },
   "outputs": [
    {
     "name": "stdout",
     "output_type": "stream",
     "text": [
      "Test Loss :  0.47847801446914673\n",
      "Test Accuracy :  0.8700555562973022\n"
     ]
    }
   ],
   "source": [
    "# 저장된 best model \n",
    "best_model = tf.keras.models.load_model('cnn_wdi.h5')\n",
    "score = best_model.evaluate(X_test, y_test, verbose=0)\n",
    "print('Test Loss : ', score[0])\n",
    "print('Test Accuracy : ', score[1])"
   ]
  },
  {
   "cell_type": "code",
   "execution_count": 152,
   "id": "6ff5b3d6",
   "metadata": {
    "execution": {
     "iopub.execute_input": "2022-04-12T10:23:28.922062Z",
     "iopub.status.busy": "2022-04-12T10:23:28.922062Z",
     "iopub.status.idle": "2022-04-12T10:25:44.273935Z",
     "shell.execute_reply": "2022-04-12T10:25:44.273935Z",
     "shell.execute_reply.started": "2022-04-12T10:23:28.922062Z"
    }
   },
   "outputs": [],
   "source": [
    "y_predict_best = best_model.predict(X_test)\n",
    "y_predict_best_label = np.array([np.argmax(x) for x in y_predict_best])"
   ]
  },
  {
   "cell_type": "code",
   "execution_count": 158,
   "id": "10229af3",
   "metadata": {
    "execution": {
     "iopub.execute_input": "2022-04-12T10:27:03.397880Z",
     "iopub.status.busy": "2022-04-12T10:27:03.397880Z",
     "iopub.status.idle": "2022-04-12T10:27:03.453288Z",
     "shell.execute_reply": "2022-04-12T10:27:03.452288Z",
     "shell.execute_reply.started": "2022-04-12T10:27:03.397880Z"
    },
    "tags": []
   },
   "outputs": [
    {
     "data": {
      "text/plain": [
       "array([[1864,    6,    5,    1,   53,    1,   56,    2,    3],\n",
       "       [  32, 1669,    3,    8,  162,    9,  120,    7,    0],\n",
       "       [   4,    0, 1706,   35,   56,    1,  195,    2,    2],\n",
       "       [   0,    0,   34, 1899,    0,    0,    4,    0,    2],\n",
       "       [ 116,    6,   84,    4, 1512,    1,  253,    0,    5],\n",
       "       [  25,   12,  104,   23,   46, 1740,   77,   28,    0],\n",
       "       [   1,    0,    6,    8,    5,    1, 2031,    0,    2],\n",
       "       [   0,    0,    0,    0,    0,    0,    0, 1959,    0],\n",
       "       [   1,    0,   10,    4,    1,    1,  712,    0, 1281]],\n",
       "      dtype=int64)"
      ]
     },
     "execution_count": 158,
     "metadata": {},
     "output_type": "execute_result"
    }
   ],
   "source": [
    "# confusion matrix\n",
    "confusion_matrix(y_test, y_predict_best_label)"
   ]
  },
  {
   "cell_type": "code",
   "execution_count": 170,
   "id": "9c6e7206",
   "metadata": {
    "execution": {
     "iopub.execute_input": "2022-04-12T10:40:15.340495Z",
     "iopub.status.busy": "2022-04-12T10:40:15.340495Z",
     "iopub.status.idle": "2022-04-12T10:40:15.505030Z",
     "shell.execute_reply": "2022-04-12T10:40:15.504063Z",
     "shell.execute_reply.started": "2022-04-12T10:40:15.340495Z"
    },
    "tags": []
   },
   "outputs": [
    {
     "data": {
      "image/png": "[encoded data removed]",
      "text/plain": [
       "<Figure size 432x288 with 2 Axes>"
      ]
     },
     "metadata": {
      "needs_background": "light"
     },
     "output_type": "display_data"
    }
   ],
   "source": [
    "plt.imshow(confusion_matrix(y_test, y_predict_best_label), interpolation='nearest', cmap=plt.cm.Blues)\n",
    "plt.title('Confusion matrix')\n",
    "plt.colorbar()\n",
    "ticks = np.arange(9) #ticks : 클래스의 수\n",
    "plt.xticks(ticks, ticks) \n",
    "plt.yticks(ticks, ticks)\n",
    "plt.ylabel('True labels')\n",
    "plt.xlabel('Predicted labels')\n",
    "plt.show()"
   ]
  },
  {
   "cell_type": "markdown",
   "id": "0ca9c6fc",
   "metadata": {},
   "source": [
    "### 성능 지표"
   ]
  },
  {
   "cell_type": "code",
   "execution_count": 153,
   "id": "4b2ce67c",
   "metadata": {
    "execution": {
     "iopub.execute_input": "2022-04-12T10:25:44.275937Z",
     "iopub.status.busy": "2022-04-12T10:25:44.274935Z",
     "iopub.status.idle": "2022-04-12T10:25:44.289935Z",
     "shell.execute_reply": "2022-04-12T10:25:44.288937Z",
     "shell.execute_reply.started": "2022-04-12T10:25:44.275937Z"
    }
   },
   "outputs": [
    {
     "data": {
      "text/plain": [
       "0.8700555555555556"
      ]
     },
     "execution_count": 153,
     "metadata": {},
     "output_type": "execute_result"
    }
   ],
   "source": [
    "accuracy_score(y_test, y_predict_best_label)"
   ]
  },
  {
   "cell_type": "code",
   "execution_count": 154,
   "id": "ac925b88",
   "metadata": {
    "execution": {
     "iopub.execute_input": "2022-04-12T10:25:44.290936Z",
     "iopub.status.busy": "2022-04-12T10:25:44.290936Z",
     "iopub.status.idle": "2022-04-12T10:25:44.303938Z",
     "shell.execute_reply": "2022-04-12T10:25:44.303938Z",
     "shell.execute_reply.started": "2022-04-12T10:25:44.290936Z"
    }
   },
   "outputs": [
    {
     "data": {
      "text/plain": [
       "0.9005566096202973"
      ]
     },
     "execution_count": 154,
     "metadata": {},
     "output_type": "execute_result"
    }
   ],
   "source": [
    "precision_score(y_test, y_predict_best_label, average='macro')"
   ]
  },
  {
   "cell_type": "code",
   "execution_count": 155,
   "id": "5470e054",
   "metadata": {
    "execution": {
     "iopub.execute_input": "2022-04-12T10:25:44.305938Z",
     "iopub.status.busy": "2022-04-12T10:25:44.305938Z",
     "iopub.status.idle": "2022-04-12T10:25:44.318936Z",
     "shell.execute_reply": "2022-04-12T10:25:44.318936Z",
     "shell.execute_reply.started": "2022-04-12T10:25:44.305938Z"
    }
   },
   "outputs": [
    {
     "data": {
      "text/plain": [
       "0.8705097468285361"
      ]
     },
     "execution_count": 155,
     "metadata": {},
     "output_type": "execute_result"
    }
   ],
   "source": [
    "recall_score(y_test, y_predict_best_label, average='macro')"
   ]
  },
  {
   "cell_type": "code",
   "execution_count": 156,
   "id": "bb6d2628",
   "metadata": {
    "execution": {
     "iopub.execute_input": "2022-04-12T10:25:44.320937Z",
     "iopub.status.busy": "2022-04-12T10:25:44.319938Z",
     "iopub.status.idle": "2022-04-12T10:25:44.333936Z",
     "shell.execute_reply": "2022-04-12T10:25:44.333936Z",
     "shell.execute_reply.started": "2022-04-12T10:25:44.320937Z"
    }
   },
   "outputs": [
    {
     "data": {
      "text/plain": [
       "0.8741152233532916"
      ]
     },
     "execution_count": 156,
     "metadata": {},
     "output_type": "execute_result"
    }
   ],
   "source": [
    "f1_score(y_test, y_predict_best_label, average='macro')"
   ]
  },
  {
   "cell_type": "code",
   "execution_count": 165,
   "id": "53e69acf",
   "metadata": {
    "execution": {
     "iopub.execute_input": "2022-04-12T10:32:00.772308Z",
     "iopub.status.busy": "2022-04-12T10:32:00.772308Z",
     "iopub.status.idle": "2022-04-12T10:32:00.813313Z",
     "shell.execute_reply": "2022-04-12T10:32:00.812306Z",
     "shell.execute_reply.started": "2022-04-12T10:32:00.772308Z"
    },
    "tags": []
   },
   "outputs": [
    {
     "name": "stdout",
     "output_type": "stream",
     "text": [
      "              precision    recall  f1-score   support\n",
      "\n",
      "           0       0.91      0.94      0.92      1991\n",
      "           1       0.99      0.83      0.90      2010\n",
      "           2       0.87      0.85      0.86      2001\n",
      "           3       0.96      0.98      0.97      1939\n",
      "           4       0.82      0.76      0.79      1981\n",
      "           5       0.99      0.85      0.91      2055\n",
      "           6       0.59      0.99      0.74      2054\n",
      "           7       0.98      1.00      0.99      1959\n",
      "           8       0.99      0.64      0.78      2010\n",
      "\n",
      "    accuracy                           0.87     18000\n",
      "   macro avg       0.90      0.87      0.87     18000\n",
      "weighted avg       0.90      0.87      0.87     18000\n",
      "\n"
     ]
    }
   ],
   "source": [
    "print(classification_report(y_test, y_predict_best_label))"
   ]
  }
 ],
 "metadata": {
  "kernelspec": {
   "display_name": "Python 3 (ipykernel)",
   "language": "python",
   "name": "python3"
  },
  "language_info": {
   "codemirror_mode": {
    "name": "ipython",
    "version": 3
   },
   "file_extension": ".py",
   "mimetype": "text/x-python",
   "name": "python",
   "nbconvert_exporter": "python",
   "pygments_lexer": "ipython3",
   "version": "3.7.9"
  }
 },
 "nbformat": 4,
 "nbformat_minor": 5
}
